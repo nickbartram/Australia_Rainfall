{
 "cells": [
  {
   "cell_type": "code",
   "execution_count": 2,
   "id": "3a822665",
   "metadata": {},
   "outputs": [],
   "source": [
    "import plotly.express as px\n",
    "import pandas as pd\n",
    "import os"
   ]
  },
  {
   "cell_type": "code",
   "execution_count": 3,
   "id": "8fdaf461",
   "metadata": {},
   "outputs": [
    {
     "name": "stdout",
     "output_type": "stream",
     "text": [
      "Warning: Looks like you're using an outdated `kagglehub` version, please consider updating (latest version: 0.3.12)\n",
      "Path to dataset files: C:\\Users\\nbart.DESKTOP-3OF7M8N\\.cache\\kagglehub\\datasets\\sandhyapalaniappan\\rainfall-prediction-dataset-cleaned-weatheraus\\versions\\1\n"
     ]
    }
   ],
   "source": [
    "import kagglehub\n",
    "\n",
    "# Download latest version\n",
    "path = kagglehub.dataset_download(\"sandhyapalaniappan/rainfall-prediction-dataset-cleaned-weatheraus\")\n",
    "\n",
    "print(\"Path to dataset files:\", path)"
   ]
  },
  {
   "cell_type": "code",
   "execution_count": 4,
   "id": "a89eff57",
   "metadata": {},
   "outputs": [
    {
     "data": {
      "text/plain": [
       "['weatherAUS_rainfall_prediction_dataset_cleaned.csv']"
      ]
     },
     "execution_count": 4,
     "metadata": {},
     "output_type": "execute_result"
    }
   ],
   "source": [
    "# Look inside the path folder\n",
    "files = os.listdir(path)\n",
    "files"
   ]
  },
  {
   "cell_type": "code",
   "execution_count": 5,
   "id": "22018781",
   "metadata": {},
   "outputs": [
    {
     "data": {
      "text/html": [
       "<div>\n",
       "<style scoped>\n",
       "    .dataframe tbody tr th:only-of-type {\n",
       "        vertical-align: middle;\n",
       "    }\n",
       "\n",
       "    .dataframe tbody tr th {\n",
       "        vertical-align: top;\n",
       "    }\n",
       "\n",
       "    .dataframe thead th {\n",
       "        text-align: right;\n",
       "    }\n",
       "</style>\n",
       "<table border=\"1\" class=\"dataframe\">\n",
       "  <thead>\n",
       "    <tr style=\"text-align: right;\">\n",
       "      <th></th>\n",
       "      <th>Date</th>\n",
       "      <th>Location</th>\n",
       "      <th>MinTemp</th>\n",
       "      <th>MaxTemp</th>\n",
       "      <th>Rainfall</th>\n",
       "      <th>Evaporation</th>\n",
       "      <th>Sunshine</th>\n",
       "      <th>WindGustDir</th>\n",
       "      <th>WindGustSpeed</th>\n",
       "      <th>WindDir9am</th>\n",
       "      <th>...</th>\n",
       "      <th>Humidity9am</th>\n",
       "      <th>Humidity3pm</th>\n",
       "      <th>Pressure9am</th>\n",
       "      <th>Pressure3pm</th>\n",
       "      <th>Cloud9am</th>\n",
       "      <th>Cloud3pm</th>\n",
       "      <th>Temp9am</th>\n",
       "      <th>Temp3pm</th>\n",
       "      <th>RainToday</th>\n",
       "      <th>RainTomorrow</th>\n",
       "    </tr>\n",
       "  </thead>\n",
       "  <tbody>\n",
       "    <tr>\n",
       "      <th>0</th>\n",
       "      <td>2010-04-30</td>\n",
       "      <td>Adelaide</td>\n",
       "      <td>10.8</td>\n",
       "      <td>21.2</td>\n",
       "      <td>0.0</td>\n",
       "      <td>1.8</td>\n",
       "      <td>6.60</td>\n",
       "      <td>ENE</td>\n",
       "      <td>22.0</td>\n",
       "      <td>ENE</td>\n",
       "      <td>...</td>\n",
       "      <td>66.0</td>\n",
       "      <td>48.0</td>\n",
       "      <td>1028.4</td>\n",
       "      <td>1024.7</td>\n",
       "      <td>4.45</td>\n",
       "      <td>4.51</td>\n",
       "      <td>15.7</td>\n",
       "      <td>21.0</td>\n",
       "      <td>No</td>\n",
       "      <td>No</td>\n",
       "    </tr>\n",
       "    <tr>\n",
       "      <th>1</th>\n",
       "      <td>2014-07-22</td>\n",
       "      <td>Adelaide</td>\n",
       "      <td>3.7</td>\n",
       "      <td>19.0</td>\n",
       "      <td>0.0</td>\n",
       "      <td>1.4</td>\n",
       "      <td>7.61</td>\n",
       "      <td>N</td>\n",
       "      <td>24.0</td>\n",
       "      <td>N</td>\n",
       "      <td>...</td>\n",
       "      <td>75.0</td>\n",
       "      <td>32.0</td>\n",
       "      <td>1024.2</td>\n",
       "      <td>1021.1</td>\n",
       "      <td>4.45</td>\n",
       "      <td>4.51</td>\n",
       "      <td>9.6</td>\n",
       "      <td>18.5</td>\n",
       "      <td>No</td>\n",
       "      <td>No</td>\n",
       "    </tr>\n",
       "    <tr>\n",
       "      <th>2</th>\n",
       "      <td>2014-07-23</td>\n",
       "      <td>Adelaide</td>\n",
       "      <td>9.6</td>\n",
       "      <td>15.8</td>\n",
       "      <td>0.0</td>\n",
       "      <td>2.6</td>\n",
       "      <td>7.61</td>\n",
       "      <td>NE</td>\n",
       "      <td>52.0</td>\n",
       "      <td>NNE</td>\n",
       "      <td>...</td>\n",
       "      <td>35.0</td>\n",
       "      <td>51.0</td>\n",
       "      <td>1017.9</td>\n",
       "      <td>1011.5</td>\n",
       "      <td>4.45</td>\n",
       "      <td>4.51</td>\n",
       "      <td>14.7</td>\n",
       "      <td>15.4</td>\n",
       "      <td>No</td>\n",
       "      <td>Yes</td>\n",
       "    </tr>\n",
       "    <tr>\n",
       "      <th>3</th>\n",
       "      <td>2014-07-24</td>\n",
       "      <td>Adelaide</td>\n",
       "      <td>10.1</td>\n",
       "      <td>15.5</td>\n",
       "      <td>16.6</td>\n",
       "      <td>0.8</td>\n",
       "      <td>7.61</td>\n",
       "      <td>NNE</td>\n",
       "      <td>50.0</td>\n",
       "      <td>NW</td>\n",
       "      <td>...</td>\n",
       "      <td>96.0</td>\n",
       "      <td>80.0</td>\n",
       "      <td>1007.4</td>\n",
       "      <td>1008.0</td>\n",
       "      <td>4.45</td>\n",
       "      <td>4.51</td>\n",
       "      <td>11.2</td>\n",
       "      <td>14.0</td>\n",
       "      <td>Yes</td>\n",
       "      <td>Yes</td>\n",
       "    </tr>\n",
       "    <tr>\n",
       "      <th>4</th>\n",
       "      <td>2014-07-25</td>\n",
       "      <td>Adelaide</td>\n",
       "      <td>11.2</td>\n",
       "      <td>16.2</td>\n",
       "      <td>1.8</td>\n",
       "      <td>0.6</td>\n",
       "      <td>7.61</td>\n",
       "      <td>NW</td>\n",
       "      <td>30.0</td>\n",
       "      <td>WNW</td>\n",
       "      <td>...</td>\n",
       "      <td>89.0</td>\n",
       "      <td>70.0</td>\n",
       "      <td>1018.4</td>\n",
       "      <td>1019.2</td>\n",
       "      <td>4.45</td>\n",
       "      <td>4.51</td>\n",
       "      <td>13.0</td>\n",
       "      <td>15.3</td>\n",
       "      <td>Yes</td>\n",
       "      <td>Yes</td>\n",
       "    </tr>\n",
       "  </tbody>\n",
       "</table>\n",
       "<p>5 rows × 23 columns</p>\n",
       "</div>"
      ],
      "text/plain": [
       "         Date  Location  MinTemp  MaxTemp  Rainfall  Evaporation  Sunshine  \\\n",
       "0  2010-04-30  Adelaide     10.8     21.2       0.0          1.8      6.60   \n",
       "1  2014-07-22  Adelaide      3.7     19.0       0.0          1.4      7.61   \n",
       "2  2014-07-23  Adelaide      9.6     15.8       0.0          2.6      7.61   \n",
       "3  2014-07-24  Adelaide     10.1     15.5      16.6          0.8      7.61   \n",
       "4  2014-07-25  Adelaide     11.2     16.2       1.8          0.6      7.61   \n",
       "\n",
       "  WindGustDir  WindGustSpeed WindDir9am  ... Humidity9am  Humidity3pm  \\\n",
       "0         ENE           22.0        ENE  ...        66.0         48.0   \n",
       "1           N           24.0          N  ...        75.0         32.0   \n",
       "2          NE           52.0        NNE  ...        35.0         51.0   \n",
       "3         NNE           50.0         NW  ...        96.0         80.0   \n",
       "4          NW           30.0        WNW  ...        89.0         70.0   \n",
       "\n",
       "   Pressure9am  Pressure3pm  Cloud9am  Cloud3pm  Temp9am  Temp3pm  RainToday  \\\n",
       "0       1028.4       1024.7      4.45      4.51     15.7     21.0         No   \n",
       "1       1024.2       1021.1      4.45      4.51      9.6     18.5         No   \n",
       "2       1017.9       1011.5      4.45      4.51     14.7     15.4         No   \n",
       "3       1007.4       1008.0      4.45      4.51     11.2     14.0        Yes   \n",
       "4       1018.4       1019.2      4.45      4.51     13.0     15.3        Yes   \n",
       "\n",
       "   RainTomorrow  \n",
       "0            No  \n",
       "1            No  \n",
       "2           Yes  \n",
       "3           Yes  \n",
       "4           Yes  \n",
       "\n",
       "[5 rows x 23 columns]"
      ]
     },
     "execution_count": 5,
     "metadata": {},
     "output_type": "execute_result"
    }
   ],
   "source": [
    "# Get the csv\n",
    "df = pd.read_csv(path + \"/weatherAUS_rainfall_prediction_dataset_cleaned.csv\")\n",
    "df.head()"
   ]
  },
  {
   "cell_type": "code",
   "execution_count": 6,
   "id": "1e61f049",
   "metadata": {},
   "outputs": [
    {
     "name": "stdout",
     "output_type": "stream",
     "text": [
      "<class 'pandas.core.frame.DataFrame'>\n",
      "RangeIndex: 145460 entries, 0 to 145459\n",
      "Data columns (total 23 columns):\n",
      " #   Column         Non-Null Count   Dtype  \n",
      "---  ------         --------------   -----  \n",
      " 0   Date           145460 non-null  object \n",
      " 1   Location       145460 non-null  object \n",
      " 2   MinTemp        145460 non-null  float64\n",
      " 3   MaxTemp        145460 non-null  float64\n",
      " 4   Rainfall       145460 non-null  float64\n",
      " 5   Evaporation    145460 non-null  float64\n",
      " 6   Sunshine       145460 non-null  float64\n",
      " 7   WindGustDir    145460 non-null  object \n",
      " 8   WindGustSpeed  145460 non-null  float64\n",
      " 9   WindDir9am     145460 non-null  object \n",
      " 10  WindDir3pm     145460 non-null  object \n",
      " 11  WindSpeed9am   145460 non-null  float64\n",
      " 12  WindSpeed3pm   145460 non-null  float64\n",
      " 13  Humidity9am    145460 non-null  float64\n",
      " 14  Humidity3pm    145460 non-null  float64\n",
      " 15  Pressure9am    145460 non-null  float64\n",
      " 16  Pressure3pm    145460 non-null  float64\n",
      " 17  Cloud9am       145460 non-null  float64\n",
      " 18  Cloud3pm       145460 non-null  float64\n",
      " 19  Temp9am        145460 non-null  float64\n",
      " 20  Temp3pm        145460 non-null  float64\n",
      " 21  RainToday      145460 non-null  object \n",
      " 22  RainTomorrow   145460 non-null  object \n",
      "dtypes: float64(16), object(7)\n",
      "memory usage: 25.5+ MB\n"
     ]
    }
   ],
   "source": [
    "# Check df info\n",
    "df.info()"
   ]
  },
  {
   "cell_type": "code",
   "execution_count": 7,
   "id": "812b6842",
   "metadata": {},
   "outputs": [
    {
     "data": {
      "text/html": [
       "<div>\n",
       "<style scoped>\n",
       "    .dataframe tbody tr th:only-of-type {\n",
       "        vertical-align: middle;\n",
       "    }\n",
       "\n",
       "    .dataframe tbody tr th {\n",
       "        vertical-align: top;\n",
       "    }\n",
       "\n",
       "    .dataframe thead th {\n",
       "        text-align: right;\n",
       "    }\n",
       "</style>\n",
       "<table border=\"1\" class=\"dataframe\">\n",
       "  <thead>\n",
       "    <tr style=\"text-align: right;\">\n",
       "      <th></th>\n",
       "      <th>MinTemp</th>\n",
       "      <th>MaxTemp</th>\n",
       "      <th>Rainfall</th>\n",
       "      <th>Evaporation</th>\n",
       "      <th>Sunshine</th>\n",
       "      <th>WindGustSpeed</th>\n",
       "      <th>WindSpeed9am</th>\n",
       "      <th>WindSpeed3pm</th>\n",
       "      <th>Humidity9am</th>\n",
       "      <th>Humidity3pm</th>\n",
       "      <th>Pressure9am</th>\n",
       "      <th>Pressure3pm</th>\n",
       "      <th>Cloud9am</th>\n",
       "      <th>Cloud3pm</th>\n",
       "      <th>Temp9am</th>\n",
       "      <th>Temp3pm</th>\n",
       "    </tr>\n",
       "  </thead>\n",
       "  <tbody>\n",
       "    <tr>\n",
       "      <th>count</th>\n",
       "      <td>145460.000000</td>\n",
       "      <td>145460.000000</td>\n",
       "      <td>145460.000000</td>\n",
       "      <td>145460.000000</td>\n",
       "      <td>145460.000000</td>\n",
       "      <td>145460.000000</td>\n",
       "      <td>145460.000000</td>\n",
       "      <td>145460.000000</td>\n",
       "      <td>145460.000000</td>\n",
       "      <td>145460.000000</td>\n",
       "      <td>145460.000000</td>\n",
       "      <td>145460.000000</td>\n",
       "      <td>145460.000000</td>\n",
       "      <td>145460.000000</td>\n",
       "      <td>145460.000000</td>\n",
       "      <td>145460.000000</td>\n",
       "    </tr>\n",
       "    <tr>\n",
       "      <th>mean</th>\n",
       "      <td>12.193993</td>\n",
       "      <td>23.221337</td>\n",
       "      <td>2.360898</td>\n",
       "      <td>5.468995</td>\n",
       "      <td>7.610612</td>\n",
       "      <td>40.035567</td>\n",
       "      <td>14.043384</td>\n",
       "      <td>18.662601</td>\n",
       "      <td>68.880816</td>\n",
       "      <td>51.539143</td>\n",
       "      <td>1017.649946</td>\n",
       "      <td>1015.256314</td>\n",
       "      <td>4.448437</td>\n",
       "      <td>4.509959</td>\n",
       "      <td>16.990624</td>\n",
       "      <td>21.683306</td>\n",
       "    </tr>\n",
       "    <tr>\n",
       "      <th>std</th>\n",
       "      <td>6.365750</td>\n",
       "      <td>7.088124</td>\n",
       "      <td>8.382488</td>\n",
       "      <td>3.161541</td>\n",
       "      <td>2.729486</td>\n",
       "      <td>13.118253</td>\n",
       "      <td>8.861059</td>\n",
       "      <td>8.716581</td>\n",
       "      <td>18.854765</td>\n",
       "      <td>20.471189</td>\n",
       "      <td>6.728467</td>\n",
       "      <td>6.663973</td>\n",
       "      <td>2.265605</td>\n",
       "      <td>2.092954</td>\n",
       "      <td>6.449221</td>\n",
       "      <td>6.850057</td>\n",
       "    </tr>\n",
       "    <tr>\n",
       "      <th>min</th>\n",
       "      <td>-8.500000</td>\n",
       "      <td>-4.800000</td>\n",
       "      <td>0.000000</td>\n",
       "      <td>0.000000</td>\n",
       "      <td>0.000000</td>\n",
       "      <td>6.000000</td>\n",
       "      <td>0.000000</td>\n",
       "      <td>0.000000</td>\n",
       "      <td>0.000000</td>\n",
       "      <td>0.000000</td>\n",
       "      <td>980.500000</td>\n",
       "      <td>977.100000</td>\n",
       "      <td>0.000000</td>\n",
       "      <td>0.000000</td>\n",
       "      <td>-7.200000</td>\n",
       "      <td>-5.400000</td>\n",
       "    </tr>\n",
       "    <tr>\n",
       "      <th>25%</th>\n",
       "      <td>7.700000</td>\n",
       "      <td>18.000000</td>\n",
       "      <td>0.000000</td>\n",
       "      <td>4.000000</td>\n",
       "      <td>7.610000</td>\n",
       "      <td>31.000000</td>\n",
       "      <td>7.000000</td>\n",
       "      <td>13.000000</td>\n",
       "      <td>57.000000</td>\n",
       "      <td>37.000000</td>\n",
       "      <td>1013.500000</td>\n",
       "      <td>1011.100000</td>\n",
       "      <td>3.000000</td>\n",
       "      <td>4.000000</td>\n",
       "      <td>12.300000</td>\n",
       "      <td>16.700000</td>\n",
       "    </tr>\n",
       "    <tr>\n",
       "      <th>50%</th>\n",
       "      <td>12.100000</td>\n",
       "      <td>22.700000</td>\n",
       "      <td>0.000000</td>\n",
       "      <td>5.470000</td>\n",
       "      <td>7.610000</td>\n",
       "      <td>39.000000</td>\n",
       "      <td>13.000000</td>\n",
       "      <td>18.660000</td>\n",
       "      <td>69.000000</td>\n",
       "      <td>51.540000</td>\n",
       "      <td>1017.650000</td>\n",
       "      <td>1015.260000</td>\n",
       "      <td>4.450000</td>\n",
       "      <td>4.510000</td>\n",
       "      <td>16.800000</td>\n",
       "      <td>21.400000</td>\n",
       "    </tr>\n",
       "    <tr>\n",
       "      <th>75%</th>\n",
       "      <td>16.800000</td>\n",
       "      <td>28.200000</td>\n",
       "      <td>1.000000</td>\n",
       "      <td>5.470000</td>\n",
       "      <td>8.700000</td>\n",
       "      <td>46.000000</td>\n",
       "      <td>19.000000</td>\n",
       "      <td>24.000000</td>\n",
       "      <td>83.000000</td>\n",
       "      <td>65.000000</td>\n",
       "      <td>1021.800000</td>\n",
       "      <td>1019.400000</td>\n",
       "      <td>6.000000</td>\n",
       "      <td>6.000000</td>\n",
       "      <td>21.500000</td>\n",
       "      <td>26.200000</td>\n",
       "    </tr>\n",
       "    <tr>\n",
       "      <th>max</th>\n",
       "      <td>33.900000</td>\n",
       "      <td>48.100000</td>\n",
       "      <td>371.000000</td>\n",
       "      <td>145.000000</td>\n",
       "      <td>14.500000</td>\n",
       "      <td>135.000000</td>\n",
       "      <td>130.000000</td>\n",
       "      <td>87.000000</td>\n",
       "      <td>100.000000</td>\n",
       "      <td>100.000000</td>\n",
       "      <td>1041.000000</td>\n",
       "      <td>1039.600000</td>\n",
       "      <td>9.000000</td>\n",
       "      <td>9.000000</td>\n",
       "      <td>40.200000</td>\n",
       "      <td>46.700000</td>\n",
       "    </tr>\n",
       "  </tbody>\n",
       "</table>\n",
       "</div>"
      ],
      "text/plain": [
       "             MinTemp        MaxTemp       Rainfall    Evaporation  \\\n",
       "count  145460.000000  145460.000000  145460.000000  145460.000000   \n",
       "mean       12.193993      23.221337       2.360898       5.468995   \n",
       "std         6.365750       7.088124       8.382488       3.161541   \n",
       "min        -8.500000      -4.800000       0.000000       0.000000   \n",
       "25%         7.700000      18.000000       0.000000       4.000000   \n",
       "50%        12.100000      22.700000       0.000000       5.470000   \n",
       "75%        16.800000      28.200000       1.000000       5.470000   \n",
       "max        33.900000      48.100000     371.000000     145.000000   \n",
       "\n",
       "            Sunshine  WindGustSpeed   WindSpeed9am   WindSpeed3pm  \\\n",
       "count  145460.000000  145460.000000  145460.000000  145460.000000   \n",
       "mean        7.610612      40.035567      14.043384      18.662601   \n",
       "std         2.729486      13.118253       8.861059       8.716581   \n",
       "min         0.000000       6.000000       0.000000       0.000000   \n",
       "25%         7.610000      31.000000       7.000000      13.000000   \n",
       "50%         7.610000      39.000000      13.000000      18.660000   \n",
       "75%         8.700000      46.000000      19.000000      24.000000   \n",
       "max        14.500000     135.000000     130.000000      87.000000   \n",
       "\n",
       "         Humidity9am    Humidity3pm    Pressure9am    Pressure3pm  \\\n",
       "count  145460.000000  145460.000000  145460.000000  145460.000000   \n",
       "mean       68.880816      51.539143    1017.649946    1015.256314   \n",
       "std        18.854765      20.471189       6.728467       6.663973   \n",
       "min         0.000000       0.000000     980.500000     977.100000   \n",
       "25%        57.000000      37.000000    1013.500000    1011.100000   \n",
       "50%        69.000000      51.540000    1017.650000    1015.260000   \n",
       "75%        83.000000      65.000000    1021.800000    1019.400000   \n",
       "max       100.000000     100.000000    1041.000000    1039.600000   \n",
       "\n",
       "            Cloud9am       Cloud3pm        Temp9am        Temp3pm  \n",
       "count  145460.000000  145460.000000  145460.000000  145460.000000  \n",
       "mean        4.448437       4.509959      16.990624      21.683306  \n",
       "std         2.265605       2.092954       6.449221       6.850057  \n",
       "min         0.000000       0.000000      -7.200000      -5.400000  \n",
       "25%         3.000000       4.000000      12.300000      16.700000  \n",
       "50%         4.450000       4.510000      16.800000      21.400000  \n",
       "75%         6.000000       6.000000      21.500000      26.200000  \n",
       "max         9.000000       9.000000      40.200000      46.700000  "
      ]
     },
     "execution_count": 7,
     "metadata": {},
     "output_type": "execute_result"
    }
   ],
   "source": [
    "# Check df quick stats\n",
    "df.describe()"
   ]
  },
  {
   "cell_type": "code",
   "execution_count": 8,
   "id": "4bf3009c",
   "metadata": {},
   "outputs": [
    {
     "data": {
      "text/plain": [
       "Date             0\n",
       "Location         0\n",
       "MinTemp          0\n",
       "MaxTemp          0\n",
       "Rainfall         0\n",
       "Evaporation      0\n",
       "Sunshine         0\n",
       "WindGustDir      0\n",
       "WindGustSpeed    0\n",
       "WindDir9am       0\n",
       "WindDir3pm       0\n",
       "WindSpeed9am     0\n",
       "WindSpeed3pm     0\n",
       "Humidity9am      0\n",
       "Humidity3pm      0\n",
       "Pressure9am      0\n",
       "Pressure3pm      0\n",
       "Cloud9am         0\n",
       "Cloud3pm         0\n",
       "Temp9am          0\n",
       "Temp3pm          0\n",
       "RainToday        0\n",
       "RainTomorrow     0\n",
       "dtype: int64"
      ]
     },
     "execution_count": 8,
     "metadata": {},
     "output_type": "execute_result"
    }
   ],
   "source": [
    "# Check df for NA\n",
    "df.isna().sum()"
   ]
  },
  {
   "cell_type": "code",
   "execution_count": 9,
   "id": "2402e6ca",
   "metadata": {},
   "outputs": [
    {
     "data": {
      "text/plain": [
       "Location\n",
       "Canberra            3436\n",
       "Sydney              3344\n",
       "Adelaide            3193\n",
       "Melbourne           3193\n",
       "Perth               3193\n",
       "Hobart              3193\n",
       "Brisbane            3193\n",
       "Darwin              3193\n",
       "Albany              3040\n",
       "Launceston          3040\n",
       "GoldCoast           3040\n",
       "Townsville          3040\n",
       "MountGambier        3040\n",
       "Cairns              3040\n",
       "Bendigo             3040\n",
       "Ballarat            3040\n",
       "Wollongong          3040\n",
       "AliceSprings        3040\n",
       "Albury              3040\n",
       "MountGinini         3040\n",
       "Tuggeranong         3039\n",
       "Penrith             3039\n",
       "Newcastle           3039\n",
       "Moree               3009\n",
       "Sale                3009\n",
       "BadgerysCreek       3009\n",
       "Witchcliffe         3009\n",
       "Williamtown         3009\n",
       "Watsonia            3009\n",
       "WaggaWagga          3009\n",
       "Cobar               3009\n",
       "CoffsHarbour        3009\n",
       "SydneyAirport       3009\n",
       "Dartmoor            3009\n",
       "Mildura             3009\n",
       "Woomera             3009\n",
       "Richmond            3009\n",
       "Portland            3009\n",
       "PerthAirport        3009\n",
       "MelbourneAirport    3009\n",
       "PearceRAAF          3009\n",
       "Nuriootpa           3009\n",
       "NorfolkIsland       3009\n",
       "Walpole             3006\n",
       "NorahHead           3004\n",
       "SalmonGums          3001\n",
       "Katherine           1578\n",
       "Uluru               1578\n",
       "Nhil                1578\n",
       "Name: count, dtype: int64"
      ]
     },
     "execution_count": 9,
     "metadata": {},
     "output_type": "execute_result"
    }
   ],
   "source": [
    "# Find unique location values\n",
    "df['Location'].value_counts()"
   ]
  },
  {
   "cell_type": "code",
   "execution_count": 10,
   "id": "58a8e4c7",
   "metadata": {},
   "outputs": [
    {
     "data": {
      "text/plain": [
       "count       145460\n",
       "unique          49\n",
       "top       Canberra\n",
       "freq          3436\n",
       "Name: Location, dtype: object"
      ]
     },
     "execution_count": 10,
     "metadata": {},
     "output_type": "execute_result"
    }
   ],
   "source": [
    "# Continue looking at location\n",
    "df['Location'].describe()"
   ]
  },
  {
   "cell_type": "markdown",
   "id": "2c0987ad",
   "metadata": {},
   "source": [
    "There are 49 unique locations for this dataset. A bar chart might be pretty confusing... but let's look at one anyway. Maybe for total precip. First we'll need to create a df with total rainfall for each location."
   ]
  },
  {
   "cell_type": "code",
   "execution_count": 11,
   "id": "54b8cb42",
   "metadata": {},
   "outputs": [],
   "source": [
    "# Let's check some data time stuff\n",
    "df['Date'] = pd.to_datetime(df['Date'])"
   ]
  },
  {
   "cell_type": "code",
   "execution_count": 12,
   "id": "96741cc6",
   "metadata": {},
   "outputs": [
    {
     "data": {
      "text/html": [
       "<div>\n",
       "<style scoped>\n",
       "    .dataframe tbody tr th:only-of-type {\n",
       "        vertical-align: middle;\n",
       "    }\n",
       "\n",
       "    .dataframe tbody tr th {\n",
       "        vertical-align: top;\n",
       "    }\n",
       "\n",
       "    .dataframe thead th {\n",
       "        text-align: right;\n",
       "    }\n",
       "</style>\n",
       "<table border=\"1\" class=\"dataframe\">\n",
       "  <thead>\n",
       "    <tr style=\"text-align: right;\">\n",
       "      <th></th>\n",
       "      <th>Location</th>\n",
       "      <th>min</th>\n",
       "      <th>max</th>\n",
       "    </tr>\n",
       "  </thead>\n",
       "  <tbody>\n",
       "    <tr>\n",
       "      <th>0</th>\n",
       "      <td>Adelaide</td>\n",
       "      <td>2008-07-01</td>\n",
       "      <td>2017-06-25</td>\n",
       "    </tr>\n",
       "    <tr>\n",
       "      <th>1</th>\n",
       "      <td>Albany</td>\n",
       "      <td>2008-12-01</td>\n",
       "      <td>2017-06-25</td>\n",
       "    </tr>\n",
       "    <tr>\n",
       "      <th>2</th>\n",
       "      <td>Albury</td>\n",
       "      <td>2008-12-01</td>\n",
       "      <td>2017-06-25</td>\n",
       "    </tr>\n",
       "    <tr>\n",
       "      <th>3</th>\n",
       "      <td>AliceSprings</td>\n",
       "      <td>2008-12-01</td>\n",
       "      <td>2017-06-25</td>\n",
       "    </tr>\n",
       "    <tr>\n",
       "      <th>4</th>\n",
       "      <td>BadgerysCreek</td>\n",
       "      <td>2009-01-01</td>\n",
       "      <td>2017-06-25</td>\n",
       "    </tr>\n",
       "    <tr>\n",
       "      <th>5</th>\n",
       "      <td>Ballarat</td>\n",
       "      <td>2008-12-01</td>\n",
       "      <td>2017-06-25</td>\n",
       "    </tr>\n",
       "    <tr>\n",
       "      <th>6</th>\n",
       "      <td>Bendigo</td>\n",
       "      <td>2008-12-01</td>\n",
       "      <td>2017-06-25</td>\n",
       "    </tr>\n",
       "    <tr>\n",
       "      <th>7</th>\n",
       "      <td>Brisbane</td>\n",
       "      <td>2008-07-01</td>\n",
       "      <td>2017-06-25</td>\n",
       "    </tr>\n",
       "    <tr>\n",
       "      <th>8</th>\n",
       "      <td>Cairns</td>\n",
       "      <td>2008-12-01</td>\n",
       "      <td>2017-06-25</td>\n",
       "    </tr>\n",
       "    <tr>\n",
       "      <th>9</th>\n",
       "      <td>Canberra</td>\n",
       "      <td>2007-11-01</td>\n",
       "      <td>2017-06-25</td>\n",
       "    </tr>\n",
       "    <tr>\n",
       "      <th>10</th>\n",
       "      <td>Cobar</td>\n",
       "      <td>2009-01-01</td>\n",
       "      <td>2017-06-25</td>\n",
       "    </tr>\n",
       "    <tr>\n",
       "      <th>11</th>\n",
       "      <td>CoffsHarbour</td>\n",
       "      <td>2009-01-01</td>\n",
       "      <td>2017-06-25</td>\n",
       "    </tr>\n",
       "    <tr>\n",
       "      <th>12</th>\n",
       "      <td>Dartmoor</td>\n",
       "      <td>2009-01-01</td>\n",
       "      <td>2017-06-25</td>\n",
       "    </tr>\n",
       "    <tr>\n",
       "      <th>13</th>\n",
       "      <td>Darwin</td>\n",
       "      <td>2008-07-01</td>\n",
       "      <td>2017-06-25</td>\n",
       "    </tr>\n",
       "    <tr>\n",
       "      <th>14</th>\n",
       "      <td>GoldCoast</td>\n",
       "      <td>2008-12-01</td>\n",
       "      <td>2017-06-25</td>\n",
       "    </tr>\n",
       "    <tr>\n",
       "      <th>15</th>\n",
       "      <td>Hobart</td>\n",
       "      <td>2008-07-01</td>\n",
       "      <td>2017-06-25</td>\n",
       "    </tr>\n",
       "    <tr>\n",
       "      <th>16</th>\n",
       "      <td>Katherine</td>\n",
       "      <td>2013-03-01</td>\n",
       "      <td>2017-06-25</td>\n",
       "    </tr>\n",
       "    <tr>\n",
       "      <th>17</th>\n",
       "      <td>Launceston</td>\n",
       "      <td>2008-12-01</td>\n",
       "      <td>2017-06-25</td>\n",
       "    </tr>\n",
       "    <tr>\n",
       "      <th>18</th>\n",
       "      <td>Melbourne</td>\n",
       "      <td>2008-07-01</td>\n",
       "      <td>2017-06-25</td>\n",
       "    </tr>\n",
       "    <tr>\n",
       "      <th>19</th>\n",
       "      <td>MelbourneAirport</td>\n",
       "      <td>2009-01-01</td>\n",
       "      <td>2017-06-25</td>\n",
       "    </tr>\n",
       "    <tr>\n",
       "      <th>20</th>\n",
       "      <td>Mildura</td>\n",
       "      <td>2009-01-01</td>\n",
       "      <td>2017-06-25</td>\n",
       "    </tr>\n",
       "    <tr>\n",
       "      <th>21</th>\n",
       "      <td>Moree</td>\n",
       "      <td>2009-01-01</td>\n",
       "      <td>2017-06-25</td>\n",
       "    </tr>\n",
       "    <tr>\n",
       "      <th>22</th>\n",
       "      <td>MountGambier</td>\n",
       "      <td>2008-12-01</td>\n",
       "      <td>2017-06-25</td>\n",
       "    </tr>\n",
       "    <tr>\n",
       "      <th>23</th>\n",
       "      <td>MountGinini</td>\n",
       "      <td>2008-12-01</td>\n",
       "      <td>2017-06-25</td>\n",
       "    </tr>\n",
       "    <tr>\n",
       "      <th>24</th>\n",
       "      <td>Newcastle</td>\n",
       "      <td>2008-12-01</td>\n",
       "      <td>2017-06-24</td>\n",
       "    </tr>\n",
       "    <tr>\n",
       "      <th>25</th>\n",
       "      <td>Nhil</td>\n",
       "      <td>2013-03-01</td>\n",
       "      <td>2017-06-25</td>\n",
       "    </tr>\n",
       "    <tr>\n",
       "      <th>26</th>\n",
       "      <td>NorahHead</td>\n",
       "      <td>2009-01-01</td>\n",
       "      <td>2017-06-25</td>\n",
       "    </tr>\n",
       "    <tr>\n",
       "      <th>27</th>\n",
       "      <td>NorfolkIsland</td>\n",
       "      <td>2009-01-01</td>\n",
       "      <td>2017-06-25</td>\n",
       "    </tr>\n",
       "    <tr>\n",
       "      <th>28</th>\n",
       "      <td>Nuriootpa</td>\n",
       "      <td>2009-01-01</td>\n",
       "      <td>2017-06-25</td>\n",
       "    </tr>\n",
       "    <tr>\n",
       "      <th>29</th>\n",
       "      <td>PearceRAAF</td>\n",
       "      <td>2009-01-01</td>\n",
       "      <td>2017-06-25</td>\n",
       "    </tr>\n",
       "    <tr>\n",
       "      <th>30</th>\n",
       "      <td>Penrith</td>\n",
       "      <td>2008-12-01</td>\n",
       "      <td>2017-06-25</td>\n",
       "    </tr>\n",
       "    <tr>\n",
       "      <th>31</th>\n",
       "      <td>Perth</td>\n",
       "      <td>2008-07-01</td>\n",
       "      <td>2017-06-25</td>\n",
       "    </tr>\n",
       "    <tr>\n",
       "      <th>32</th>\n",
       "      <td>PerthAirport</td>\n",
       "      <td>2009-01-01</td>\n",
       "      <td>2017-06-25</td>\n",
       "    </tr>\n",
       "    <tr>\n",
       "      <th>33</th>\n",
       "      <td>Portland</td>\n",
       "      <td>2009-01-01</td>\n",
       "      <td>2017-06-25</td>\n",
       "    </tr>\n",
       "    <tr>\n",
       "      <th>34</th>\n",
       "      <td>Richmond</td>\n",
       "      <td>2009-01-01</td>\n",
       "      <td>2017-06-25</td>\n",
       "    </tr>\n",
       "    <tr>\n",
       "      <th>35</th>\n",
       "      <td>Sale</td>\n",
       "      <td>2009-01-01</td>\n",
       "      <td>2017-06-25</td>\n",
       "    </tr>\n",
       "    <tr>\n",
       "      <th>36</th>\n",
       "      <td>SalmonGums</td>\n",
       "      <td>2009-01-01</td>\n",
       "      <td>2017-06-25</td>\n",
       "    </tr>\n",
       "    <tr>\n",
       "      <th>37</th>\n",
       "      <td>Sydney</td>\n",
       "      <td>2008-02-01</td>\n",
       "      <td>2017-06-25</td>\n",
       "    </tr>\n",
       "    <tr>\n",
       "      <th>38</th>\n",
       "      <td>SydneyAirport</td>\n",
       "      <td>2009-01-01</td>\n",
       "      <td>2017-06-25</td>\n",
       "    </tr>\n",
       "    <tr>\n",
       "      <th>39</th>\n",
       "      <td>Townsville</td>\n",
       "      <td>2008-12-01</td>\n",
       "      <td>2017-06-25</td>\n",
       "    </tr>\n",
       "    <tr>\n",
       "      <th>40</th>\n",
       "      <td>Tuggeranong</td>\n",
       "      <td>2008-12-01</td>\n",
       "      <td>2017-06-25</td>\n",
       "    </tr>\n",
       "    <tr>\n",
       "      <th>41</th>\n",
       "      <td>Uluru</td>\n",
       "      <td>2013-03-01</td>\n",
       "      <td>2017-06-25</td>\n",
       "    </tr>\n",
       "    <tr>\n",
       "      <th>42</th>\n",
       "      <td>WaggaWagga</td>\n",
       "      <td>2009-01-01</td>\n",
       "      <td>2017-06-25</td>\n",
       "    </tr>\n",
       "    <tr>\n",
       "      <th>43</th>\n",
       "      <td>Walpole</td>\n",
       "      <td>2009-01-01</td>\n",
       "      <td>2017-06-25</td>\n",
       "    </tr>\n",
       "    <tr>\n",
       "      <th>44</th>\n",
       "      <td>Watsonia</td>\n",
       "      <td>2009-01-01</td>\n",
       "      <td>2017-06-25</td>\n",
       "    </tr>\n",
       "    <tr>\n",
       "      <th>45</th>\n",
       "      <td>Williamtown</td>\n",
       "      <td>2009-01-01</td>\n",
       "      <td>2017-06-25</td>\n",
       "    </tr>\n",
       "    <tr>\n",
       "      <th>46</th>\n",
       "      <td>Witchcliffe</td>\n",
       "      <td>2009-01-01</td>\n",
       "      <td>2017-06-25</td>\n",
       "    </tr>\n",
       "    <tr>\n",
       "      <th>47</th>\n",
       "      <td>Wollongong</td>\n",
       "      <td>2008-12-01</td>\n",
       "      <td>2017-06-25</td>\n",
       "    </tr>\n",
       "    <tr>\n",
       "      <th>48</th>\n",
       "      <td>Woomera</td>\n",
       "      <td>2009-01-01</td>\n",
       "      <td>2017-06-25</td>\n",
       "    </tr>\n",
       "  </tbody>\n",
       "</table>\n",
       "</div>"
      ],
      "text/plain": [
       "            Location        min        max\n",
       "0           Adelaide 2008-07-01 2017-06-25\n",
       "1             Albany 2008-12-01 2017-06-25\n",
       "2             Albury 2008-12-01 2017-06-25\n",
       "3       AliceSprings 2008-12-01 2017-06-25\n",
       "4      BadgerysCreek 2009-01-01 2017-06-25\n",
       "5           Ballarat 2008-12-01 2017-06-25\n",
       "6            Bendigo 2008-12-01 2017-06-25\n",
       "7           Brisbane 2008-07-01 2017-06-25\n",
       "8             Cairns 2008-12-01 2017-06-25\n",
       "9           Canberra 2007-11-01 2017-06-25\n",
       "10             Cobar 2009-01-01 2017-06-25\n",
       "11      CoffsHarbour 2009-01-01 2017-06-25\n",
       "12          Dartmoor 2009-01-01 2017-06-25\n",
       "13            Darwin 2008-07-01 2017-06-25\n",
       "14         GoldCoast 2008-12-01 2017-06-25\n",
       "15            Hobart 2008-07-01 2017-06-25\n",
       "16         Katherine 2013-03-01 2017-06-25\n",
       "17        Launceston 2008-12-01 2017-06-25\n",
       "18         Melbourne 2008-07-01 2017-06-25\n",
       "19  MelbourneAirport 2009-01-01 2017-06-25\n",
       "20           Mildura 2009-01-01 2017-06-25\n",
       "21             Moree 2009-01-01 2017-06-25\n",
       "22      MountGambier 2008-12-01 2017-06-25\n",
       "23       MountGinini 2008-12-01 2017-06-25\n",
       "24         Newcastle 2008-12-01 2017-06-24\n",
       "25              Nhil 2013-03-01 2017-06-25\n",
       "26         NorahHead 2009-01-01 2017-06-25\n",
       "27     NorfolkIsland 2009-01-01 2017-06-25\n",
       "28         Nuriootpa 2009-01-01 2017-06-25\n",
       "29        PearceRAAF 2009-01-01 2017-06-25\n",
       "30           Penrith 2008-12-01 2017-06-25\n",
       "31             Perth 2008-07-01 2017-06-25\n",
       "32      PerthAirport 2009-01-01 2017-06-25\n",
       "33          Portland 2009-01-01 2017-06-25\n",
       "34          Richmond 2009-01-01 2017-06-25\n",
       "35              Sale 2009-01-01 2017-06-25\n",
       "36        SalmonGums 2009-01-01 2017-06-25\n",
       "37            Sydney 2008-02-01 2017-06-25\n",
       "38     SydneyAirport 2009-01-01 2017-06-25\n",
       "39        Townsville 2008-12-01 2017-06-25\n",
       "40       Tuggeranong 2008-12-01 2017-06-25\n",
       "41             Uluru 2013-03-01 2017-06-25\n",
       "42        WaggaWagga 2009-01-01 2017-06-25\n",
       "43           Walpole 2009-01-01 2017-06-25\n",
       "44          Watsonia 2009-01-01 2017-06-25\n",
       "45       Williamtown 2009-01-01 2017-06-25\n",
       "46       Witchcliffe 2009-01-01 2017-06-25\n",
       "47        Wollongong 2008-12-01 2017-06-25\n",
       "48           Woomera 2009-01-01 2017-06-25"
      ]
     },
     "execution_count": 12,
     "metadata": {},
     "output_type": "execute_result"
    }
   ],
   "source": [
    "# Group by location and get min/max dates, check to see if dates are roughly in same range\n",
    "date_ranges = df.groupby('Location')['Date'].agg(['min', 'max']).reset_index()\n",
    "date_ranges"
   ]
  },
  {
   "cell_type": "markdown",
   "id": "f3e0a27d",
   "metadata": {},
   "source": [
    "So each location has the same end date, however there's a wide variety of start dates. For our purposes it should be OK, although the bar chart will be a little skewed towards locations with an earlier start date."
   ]
  },
  {
   "cell_type": "code",
   "execution_count": 13,
   "id": "f5e6b084",
   "metadata": {},
   "outputs": [
    {
     "data": {
      "text/html": [
       "<div>\n",
       "<style scoped>\n",
       "    .dataframe tbody tr th:only-of-type {\n",
       "        vertical-align: middle;\n",
       "    }\n",
       "\n",
       "    .dataframe tbody tr th {\n",
       "        vertical-align: top;\n",
       "    }\n",
       "\n",
       "    .dataframe thead th {\n",
       "        text-align: right;\n",
       "    }\n",
       "</style>\n",
       "<table border=\"1\" class=\"dataframe\">\n",
       "  <thead>\n",
       "    <tr style=\"text-align: right;\">\n",
       "      <th></th>\n",
       "      <th>Location</th>\n",
       "      <th>Rainfall</th>\n",
       "    </tr>\n",
       "  </thead>\n",
       "  <tbody>\n",
       "    <tr>\n",
       "      <th>0</th>\n",
       "      <td>Adelaide</td>\n",
       "      <td>5082.32</td>\n",
       "    </tr>\n",
       "    <tr>\n",
       "      <th>1</th>\n",
       "      <td>Albany</td>\n",
       "      <td>6884.44</td>\n",
       "    </tr>\n",
       "    <tr>\n",
       "      <th>2</th>\n",
       "      <td>Albury</td>\n",
       "      <td>5831.84</td>\n",
       "    </tr>\n",
       "    <tr>\n",
       "      <th>3</th>\n",
       "      <td>AliceSprings</td>\n",
       "      <td>2695.68</td>\n",
       "    </tr>\n",
       "    <tr>\n",
       "      <th>4</th>\n",
       "      <td>BadgerysCreek</td>\n",
       "      <td>6612.56</td>\n",
       "    </tr>\n",
       "    <tr>\n",
       "      <th>5</th>\n",
       "      <td>Ballarat</td>\n",
       "      <td>5297.12</td>\n",
       "    </tr>\n",
       "    <tr>\n",
       "      <th>6</th>\n",
       "      <td>Bendigo</td>\n",
       "      <td>4927.36</td>\n",
       "    </tr>\n",
       "    <tr>\n",
       "      <th>7</th>\n",
       "      <td>Brisbane</td>\n",
       "      <td>10016.52</td>\n",
       "    </tr>\n",
       "    <tr>\n",
       "      <th>8</th>\n",
       "      <td>Cairns</td>\n",
       "      <td>17279.92</td>\n",
       "    </tr>\n",
       "    <tr>\n",
       "      <th>9</th>\n",
       "      <td>Canberra</td>\n",
       "      <td>5995.68</td>\n",
       "    </tr>\n",
       "    <tr>\n",
       "      <th>10</th>\n",
       "      <td>Cobar</td>\n",
       "      <td>3417.96</td>\n",
       "    </tr>\n",
       "    <tr>\n",
       "      <th>11</th>\n",
       "      <td>CoffsHarbour</td>\n",
       "      <td>15078.76</td>\n",
       "    </tr>\n",
       "    <tr>\n",
       "      <th>12</th>\n",
       "      <td>Dartmoor</td>\n",
       "      <td>6473.32</td>\n",
       "    </tr>\n",
       "    <tr>\n",
       "      <th>13</th>\n",
       "      <td>Darwin</td>\n",
       "      <td>16260.20</td>\n",
       "    </tr>\n",
       "    <tr>\n",
       "      <th>14</th>\n",
       "      <td>GoldCoast</td>\n",
       "      <td>11374.40</td>\n",
       "    </tr>\n",
       "    <tr>\n",
       "      <th>15</th>\n",
       "      <td>Hobart</td>\n",
       "      <td>5118.40</td>\n",
       "    </tr>\n",
       "    <tr>\n",
       "      <th>16</th>\n",
       "      <td>Katherine</td>\n",
       "      <td>5036.18</td>\n",
       "    </tr>\n",
       "    <tr>\n",
       "      <th>17</th>\n",
       "      <td>Launceston</td>\n",
       "      <td>6120.62</td>\n",
       "    </tr>\n",
       "    <tr>\n",
       "      <th>18</th>\n",
       "      <td>Melbourne</td>\n",
       "      <td>6342.48</td>\n",
       "    </tr>\n",
       "    <tr>\n",
       "      <th>19</th>\n",
       "      <td>MelbourneAirport</td>\n",
       "      <td>4369.00</td>\n",
       "    </tr>\n",
       "    <tr>\n",
       "      <th>20</th>\n",
       "      <td>Mildura</td>\n",
       "      <td>2846.52</td>\n",
       "    </tr>\n",
       "    <tr>\n",
       "      <th>21</th>\n",
       "      <td>Moree</td>\n",
       "      <td>5018.40</td>\n",
       "    </tr>\n",
       "    <tr>\n",
       "      <th>22</th>\n",
       "      <td>MountGambier</td>\n",
       "      <td>6348.64</td>\n",
       "    </tr>\n",
       "    <tr>\n",
       "      <th>23</th>\n",
       "      <td>MountGinini</td>\n",
       "      <td>9884.48</td>\n",
       "    </tr>\n",
       "    <tr>\n",
       "      <th>24</th>\n",
       "      <td>Newcastle</td>\n",
       "      <td>9606.64</td>\n",
       "    </tr>\n",
       "    <tr>\n",
       "      <th>25</th>\n",
       "      <td>Nhil</td>\n",
       "      <td>1488.04</td>\n",
       "    </tr>\n",
       "    <tr>\n",
       "      <th>26</th>\n",
       "      <td>NorahHead</td>\n",
       "      <td>10098.40</td>\n",
       "    </tr>\n",
       "    <tr>\n",
       "      <th>27</th>\n",
       "      <td>NorfolkIsland</td>\n",
       "      <td>9376.60</td>\n",
       "    </tr>\n",
       "    <tr>\n",
       "      <th>28</th>\n",
       "      <td>Nuriootpa</td>\n",
       "      <td>4189.36</td>\n",
       "    </tr>\n",
       "    <tr>\n",
       "      <th>29</th>\n",
       "      <td>PearceRAAF</td>\n",
       "      <td>5192.92</td>\n",
       "    </tr>\n",
       "    <tr>\n",
       "      <th>30</th>\n",
       "      <td>Penrith</td>\n",
       "      <td>6624.60</td>\n",
       "    </tr>\n",
       "    <tr>\n",
       "      <th>31</th>\n",
       "      <td>Perth</td>\n",
       "      <td>6086.80</td>\n",
       "    </tr>\n",
       "    <tr>\n",
       "      <th>32</th>\n",
       "      <td>PerthAirport</td>\n",
       "      <td>5300.80</td>\n",
       "    </tr>\n",
       "    <tr>\n",
       "      <th>33</th>\n",
       "      <td>Portland</td>\n",
       "      <td>7611.68</td>\n",
       "    </tr>\n",
       "    <tr>\n",
       "      <th>34</th>\n",
       "      <td>Richmond</td>\n",
       "      <td>6447.48</td>\n",
       "    </tr>\n",
       "    <tr>\n",
       "      <th>35</th>\n",
       "      <td>Sale</td>\n",
       "      <td>4551.74</td>\n",
       "    </tr>\n",
       "    <tr>\n",
       "      <th>36</th>\n",
       "      <td>SalmonGums</td>\n",
       "      <td>3165.16</td>\n",
       "    </tr>\n",
       "    <tr>\n",
       "      <th>37</th>\n",
       "      <td>Sydney</td>\n",
       "      <td>11110.52</td>\n",
       "    </tr>\n",
       "    <tr>\n",
       "      <th>38</th>\n",
       "      <td>SydneyAirport</td>\n",
       "      <td>9054.24</td>\n",
       "    </tr>\n",
       "    <tr>\n",
       "      <th>39</th>\n",
       "      <td>Townsville</td>\n",
       "      <td>10588.32</td>\n",
       "    </tr>\n",
       "    <tr>\n",
       "      <th>40</th>\n",
       "      <td>Tuggeranong</td>\n",
       "      <td>6584.56</td>\n",
       "    </tr>\n",
       "    <tr>\n",
       "      <th>41</th>\n",
       "      <td>Uluru</td>\n",
       "      <td>1325.96</td>\n",
       "    </tr>\n",
       "    <tr>\n",
       "      <th>42</th>\n",
       "      <td>WaggaWagga</td>\n",
       "      <td>5166.68</td>\n",
       "    </tr>\n",
       "    <tr>\n",
       "      <th>43</th>\n",
       "      <td>Walpole</td>\n",
       "      <td>8635.72</td>\n",
       "    </tr>\n",
       "    <tr>\n",
       "      <th>44</th>\n",
       "      <td>Watsonia</td>\n",
       "      <td>5604.20</td>\n",
       "    </tr>\n",
       "    <tr>\n",
       "      <th>45</th>\n",
       "      <td>Williamtown</td>\n",
       "      <td>10244.26</td>\n",
       "    </tr>\n",
       "    <tr>\n",
       "      <th>46</th>\n",
       "      <td>Witchcliffe</td>\n",
       "      <td>8682.52</td>\n",
       "    </tr>\n",
       "    <tr>\n",
       "      <th>47</th>\n",
       "      <td>Wollongong</td>\n",
       "      <td>10856.88</td>\n",
       "    </tr>\n",
       "    <tr>\n",
       "      <th>48</th>\n",
       "      <td>Woomera</td>\n",
       "      <td>1509.28</td>\n",
       "    </tr>\n",
       "  </tbody>\n",
       "</table>\n",
       "</div>"
      ],
      "text/plain": [
       "            Location  Rainfall\n",
       "0           Adelaide   5082.32\n",
       "1             Albany   6884.44\n",
       "2             Albury   5831.84\n",
       "3       AliceSprings   2695.68\n",
       "4      BadgerysCreek   6612.56\n",
       "5           Ballarat   5297.12\n",
       "6            Bendigo   4927.36\n",
       "7           Brisbane  10016.52\n",
       "8             Cairns  17279.92\n",
       "9           Canberra   5995.68\n",
       "10             Cobar   3417.96\n",
       "11      CoffsHarbour  15078.76\n",
       "12          Dartmoor   6473.32\n",
       "13            Darwin  16260.20\n",
       "14         GoldCoast  11374.40\n",
       "15            Hobart   5118.40\n",
       "16         Katherine   5036.18\n",
       "17        Launceston   6120.62\n",
       "18         Melbourne   6342.48\n",
       "19  MelbourneAirport   4369.00\n",
       "20           Mildura   2846.52\n",
       "21             Moree   5018.40\n",
       "22      MountGambier   6348.64\n",
       "23       MountGinini   9884.48\n",
       "24         Newcastle   9606.64\n",
       "25              Nhil   1488.04\n",
       "26         NorahHead  10098.40\n",
       "27     NorfolkIsland   9376.60\n",
       "28         Nuriootpa   4189.36\n",
       "29        PearceRAAF   5192.92\n",
       "30           Penrith   6624.60\n",
       "31             Perth   6086.80\n",
       "32      PerthAirport   5300.80\n",
       "33          Portland   7611.68\n",
       "34          Richmond   6447.48\n",
       "35              Sale   4551.74\n",
       "36        SalmonGums   3165.16\n",
       "37            Sydney  11110.52\n",
       "38     SydneyAirport   9054.24\n",
       "39        Townsville  10588.32\n",
       "40       Tuggeranong   6584.56\n",
       "41             Uluru   1325.96\n",
       "42        WaggaWagga   5166.68\n",
       "43           Walpole   8635.72\n",
       "44          Watsonia   5604.20\n",
       "45       Williamtown  10244.26\n",
       "46       Witchcliffe   8682.52\n",
       "47        Wollongong  10856.88\n",
       "48           Woomera   1509.28"
      ]
     },
     "execution_count": 13,
     "metadata": {},
     "output_type": "execute_result"
    }
   ],
   "source": [
    "rainfall_sum = df.groupby('Location')['Rainfall'].sum().reset_index()\n",
    "rainfall_sum"
   ]
  },
  {
   "cell_type": "code",
   "execution_count": 14,
   "id": "bdeb73d3",
   "metadata": {},
   "outputs": [
    {
     "data": {
      "application/vnd.plotly.v1+json": {
       "config": {
        "plotlyServerURL": "https://plot.ly"
       },
       "data": [
        {
         "alignmentgroup": "True",
         "hovertemplate": "Location=%{x}<br>Total Rainfall (mm)=%{text}<extra></extra>",
         "legendgroup": "",
         "marker": {
          "color": "#636efa",
          "pattern": {
           "shape": ""
          }
         },
         "name": "",
         "offsetgroup": "",
         "orientation": "v",
         "showlegend": false,
         "text": [
          5082.32,
          6884.44,
          5831.84,
          2695.68,
          6612.56,
          5297.12,
          4927.36,
          10016.52,
          17279.92,
          5995.68,
          3417.96,
          15078.76,
          6473.32,
          16260.2,
          11374.4,
          5118.4,
          5036.18,
          6120.62,
          6342.48,
          4369,
          2846.52,
          5018.4,
          6348.64,
          9884.48,
          9606.64,
          1488.04,
          10098.4,
          9376.6,
          4189.36,
          5192.92,
          6624.6,
          6086.8,
          5300.8,
          7611.68,
          6447.48,
          4551.74,
          3165.16,
          11110.52,
          9054.24,
          10588.32,
          6584.56,
          1325.96,
          5166.68,
          8635.72,
          5604.2,
          10244.26,
          8682.52,
          10856.88,
          1509.28
         ],
         "textposition": "auto",
         "type": "bar",
         "x": [
          "Adelaide",
          "Albany",
          "Albury",
          "AliceSprings",
          "BadgerysCreek",
          "Ballarat",
          "Bendigo",
          "Brisbane",
          "Cairns",
          "Canberra",
          "Cobar",
          "CoffsHarbour",
          "Dartmoor",
          "Darwin",
          "GoldCoast",
          "Hobart",
          "Katherine",
          "Launceston",
          "Melbourne",
          "MelbourneAirport",
          "Mildura",
          "Moree",
          "MountGambier",
          "MountGinini",
          "Newcastle",
          "Nhil",
          "NorahHead",
          "NorfolkIsland",
          "Nuriootpa",
          "PearceRAAF",
          "Penrith",
          "Perth",
          "PerthAirport",
          "Portland",
          "Richmond",
          "Sale",
          "SalmonGums",
          "Sydney",
          "SydneyAirport",
          "Townsville",
          "Tuggeranong",
          "Uluru",
          "WaggaWagga",
          "Walpole",
          "Watsonia",
          "Williamtown",
          "Witchcliffe",
          "Wollongong",
          "Woomera"
         ],
         "xaxis": "x",
         "y": [
          5082.32,
          6884.44,
          5831.84,
          2695.68,
          6612.56,
          5297.12,
          4927.36,
          10016.52,
          17279.92,
          5995.68,
          3417.96,
          15078.76,
          6473.32,
          16260.2,
          11374.4,
          5118.4,
          5036.18,
          6120.62,
          6342.48,
          4369,
          2846.52,
          5018.4,
          6348.64,
          9884.48,
          9606.64,
          1488.04,
          10098.4,
          9376.6,
          4189.36,
          5192.92,
          6624.6,
          6086.8,
          5300.8,
          7611.68,
          6447.48,
          4551.74,
          3165.16,
          11110.52,
          9054.24,
          10588.32,
          6584.56,
          1325.96,
          5166.68,
          8635.72,
          5604.2,
          10244.26,
          8682.52,
          10856.88,
          1509.28
         ],
         "yaxis": "y"
        }
       ],
       "layout": {
        "barmode": "relative",
        "legend": {
         "tracegroupgap": 0
        },
        "template": {
         "data": {
          "bar": [
           {
            "error_x": {
             "color": "#2a3f5f"
            },
            "error_y": {
             "color": "#2a3f5f"
            },
            "marker": {
             "line": {
              "color": "#E5ECF6",
              "width": 0.5
             },
             "pattern": {
              "fillmode": "overlay",
              "size": 10,
              "solidity": 0.2
             }
            },
            "type": "bar"
           }
          ],
          "barpolar": [
           {
            "marker": {
             "line": {
              "color": "#E5ECF6",
              "width": 0.5
             },
             "pattern": {
              "fillmode": "overlay",
              "size": 10,
              "solidity": 0.2
             }
            },
            "type": "barpolar"
           }
          ],
          "carpet": [
           {
            "aaxis": {
             "endlinecolor": "#2a3f5f",
             "gridcolor": "white",
             "linecolor": "white",
             "minorgridcolor": "white",
             "startlinecolor": "#2a3f5f"
            },
            "baxis": {
             "endlinecolor": "#2a3f5f",
             "gridcolor": "white",
             "linecolor": "white",
             "minorgridcolor": "white",
             "startlinecolor": "#2a3f5f"
            },
            "type": "carpet"
           }
          ],
          "choropleth": [
           {
            "colorbar": {
             "outlinewidth": 0,
             "ticks": ""
            },
            "type": "choropleth"
           }
          ],
          "contour": [
           {
            "colorbar": {
             "outlinewidth": 0,
             "ticks": ""
            },
            "colorscale": [
             [
              0,
              "#0d0887"
             ],
             [
              0.1111111111111111,
              "#46039f"
             ],
             [
              0.2222222222222222,
              "#7201a8"
             ],
             [
              0.3333333333333333,
              "#9c179e"
             ],
             [
              0.4444444444444444,
              "#bd3786"
             ],
             [
              0.5555555555555556,
              "#d8576b"
             ],
             [
              0.6666666666666666,
              "#ed7953"
             ],
             [
              0.7777777777777778,
              "#fb9f3a"
             ],
             [
              0.8888888888888888,
              "#fdca26"
             ],
             [
              1,
              "#f0f921"
             ]
            ],
            "type": "contour"
           }
          ],
          "contourcarpet": [
           {
            "colorbar": {
             "outlinewidth": 0,
             "ticks": ""
            },
            "type": "contourcarpet"
           }
          ],
          "heatmap": [
           {
            "colorbar": {
             "outlinewidth": 0,
             "ticks": ""
            },
            "colorscale": [
             [
              0,
              "#0d0887"
             ],
             [
              0.1111111111111111,
              "#46039f"
             ],
             [
              0.2222222222222222,
              "#7201a8"
             ],
             [
              0.3333333333333333,
              "#9c179e"
             ],
             [
              0.4444444444444444,
              "#bd3786"
             ],
             [
              0.5555555555555556,
              "#d8576b"
             ],
             [
              0.6666666666666666,
              "#ed7953"
             ],
             [
              0.7777777777777778,
              "#fb9f3a"
             ],
             [
              0.8888888888888888,
              "#fdca26"
             ],
             [
              1,
              "#f0f921"
             ]
            ],
            "type": "heatmap"
           }
          ],
          "heatmapgl": [
           {
            "colorbar": {
             "outlinewidth": 0,
             "ticks": ""
            },
            "colorscale": [
             [
              0,
              "#0d0887"
             ],
             [
              0.1111111111111111,
              "#46039f"
             ],
             [
              0.2222222222222222,
              "#7201a8"
             ],
             [
              0.3333333333333333,
              "#9c179e"
             ],
             [
              0.4444444444444444,
              "#bd3786"
             ],
             [
              0.5555555555555556,
              "#d8576b"
             ],
             [
              0.6666666666666666,
              "#ed7953"
             ],
             [
              0.7777777777777778,
              "#fb9f3a"
             ],
             [
              0.8888888888888888,
              "#fdca26"
             ],
             [
              1,
              "#f0f921"
             ]
            ],
            "type": "heatmapgl"
           }
          ],
          "histogram": [
           {
            "marker": {
             "pattern": {
              "fillmode": "overlay",
              "size": 10,
              "solidity": 0.2
             }
            },
            "type": "histogram"
           }
          ],
          "histogram2d": [
           {
            "colorbar": {
             "outlinewidth": 0,
             "ticks": ""
            },
            "colorscale": [
             [
              0,
              "#0d0887"
             ],
             [
              0.1111111111111111,
              "#46039f"
             ],
             [
              0.2222222222222222,
              "#7201a8"
             ],
             [
              0.3333333333333333,
              "#9c179e"
             ],
             [
              0.4444444444444444,
              "#bd3786"
             ],
             [
              0.5555555555555556,
              "#d8576b"
             ],
             [
              0.6666666666666666,
              "#ed7953"
             ],
             [
              0.7777777777777778,
              "#fb9f3a"
             ],
             [
              0.8888888888888888,
              "#fdca26"
             ],
             [
              1,
              "#f0f921"
             ]
            ],
            "type": "histogram2d"
           }
          ],
          "histogram2dcontour": [
           {
            "colorbar": {
             "outlinewidth": 0,
             "ticks": ""
            },
            "colorscale": [
             [
              0,
              "#0d0887"
             ],
             [
              0.1111111111111111,
              "#46039f"
             ],
             [
              0.2222222222222222,
              "#7201a8"
             ],
             [
              0.3333333333333333,
              "#9c179e"
             ],
             [
              0.4444444444444444,
              "#bd3786"
             ],
             [
              0.5555555555555556,
              "#d8576b"
             ],
             [
              0.6666666666666666,
              "#ed7953"
             ],
             [
              0.7777777777777778,
              "#fb9f3a"
             ],
             [
              0.8888888888888888,
              "#fdca26"
             ],
             [
              1,
              "#f0f921"
             ]
            ],
            "type": "histogram2dcontour"
           }
          ],
          "mesh3d": [
           {
            "colorbar": {
             "outlinewidth": 0,
             "ticks": ""
            },
            "type": "mesh3d"
           }
          ],
          "parcoords": [
           {
            "line": {
             "colorbar": {
              "outlinewidth": 0,
              "ticks": ""
             }
            },
            "type": "parcoords"
           }
          ],
          "pie": [
           {
            "automargin": true,
            "type": "pie"
           }
          ],
          "scatter": [
           {
            "fillpattern": {
             "fillmode": "overlay",
             "size": 10,
             "solidity": 0.2
            },
            "type": "scatter"
           }
          ],
          "scatter3d": [
           {
            "line": {
             "colorbar": {
              "outlinewidth": 0,
              "ticks": ""
             }
            },
            "marker": {
             "colorbar": {
              "outlinewidth": 0,
              "ticks": ""
             }
            },
            "type": "scatter3d"
           }
          ],
          "scattercarpet": [
           {
            "marker": {
             "colorbar": {
              "outlinewidth": 0,
              "ticks": ""
             }
            },
            "type": "scattercarpet"
           }
          ],
          "scattergeo": [
           {
            "marker": {
             "colorbar": {
              "outlinewidth": 0,
              "ticks": ""
             }
            },
            "type": "scattergeo"
           }
          ],
          "scattergl": [
           {
            "marker": {
             "colorbar": {
              "outlinewidth": 0,
              "ticks": ""
             }
            },
            "type": "scattergl"
           }
          ],
          "scattermapbox": [
           {
            "marker": {
             "colorbar": {
              "outlinewidth": 0,
              "ticks": ""
             }
            },
            "type": "scattermapbox"
           }
          ],
          "scatterpolar": [
           {
            "marker": {
             "colorbar": {
              "outlinewidth": 0,
              "ticks": ""
             }
            },
            "type": "scatterpolar"
           }
          ],
          "scatterpolargl": [
           {
            "marker": {
             "colorbar": {
              "outlinewidth": 0,
              "ticks": ""
             }
            },
            "type": "scatterpolargl"
           }
          ],
          "scatterternary": [
           {
            "marker": {
             "colorbar": {
              "outlinewidth": 0,
              "ticks": ""
             }
            },
            "type": "scatterternary"
           }
          ],
          "surface": [
           {
            "colorbar": {
             "outlinewidth": 0,
             "ticks": ""
            },
            "colorscale": [
             [
              0,
              "#0d0887"
             ],
             [
              0.1111111111111111,
              "#46039f"
             ],
             [
              0.2222222222222222,
              "#7201a8"
             ],
             [
              0.3333333333333333,
              "#9c179e"
             ],
             [
              0.4444444444444444,
              "#bd3786"
             ],
             [
              0.5555555555555556,
              "#d8576b"
             ],
             [
              0.6666666666666666,
              "#ed7953"
             ],
             [
              0.7777777777777778,
              "#fb9f3a"
             ],
             [
              0.8888888888888888,
              "#fdca26"
             ],
             [
              1,
              "#f0f921"
             ]
            ],
            "type": "surface"
           }
          ],
          "table": [
           {
            "cells": {
             "fill": {
              "color": "#EBF0F8"
             },
             "line": {
              "color": "white"
             }
            },
            "header": {
             "fill": {
              "color": "#C8D4E3"
             },
             "line": {
              "color": "white"
             }
            },
            "type": "table"
           }
          ]
         },
         "layout": {
          "annotationdefaults": {
           "arrowcolor": "#2a3f5f",
           "arrowhead": 0,
           "arrowwidth": 1
          },
          "autotypenumbers": "strict",
          "coloraxis": {
           "colorbar": {
            "outlinewidth": 0,
            "ticks": ""
           }
          },
          "colorscale": {
           "diverging": [
            [
             0,
             "#8e0152"
            ],
            [
             0.1,
             "#c51b7d"
            ],
            [
             0.2,
             "#de77ae"
            ],
            [
             0.3,
             "#f1b6da"
            ],
            [
             0.4,
             "#fde0ef"
            ],
            [
             0.5,
             "#f7f7f7"
            ],
            [
             0.6,
             "#e6f5d0"
            ],
            [
             0.7,
             "#b8e186"
            ],
            [
             0.8,
             "#7fbc41"
            ],
            [
             0.9,
             "#4d9221"
            ],
            [
             1,
             "#276419"
            ]
           ],
           "sequential": [
            [
             0,
             "#0d0887"
            ],
            [
             0.1111111111111111,
             "#46039f"
            ],
            [
             0.2222222222222222,
             "#7201a8"
            ],
            [
             0.3333333333333333,
             "#9c179e"
            ],
            [
             0.4444444444444444,
             "#bd3786"
            ],
            [
             0.5555555555555556,
             "#d8576b"
            ],
            [
             0.6666666666666666,
             "#ed7953"
            ],
            [
             0.7777777777777778,
             "#fb9f3a"
            ],
            [
             0.8888888888888888,
             "#fdca26"
            ],
            [
             1,
             "#f0f921"
            ]
           ],
           "sequentialminus": [
            [
             0,
             "#0d0887"
            ],
            [
             0.1111111111111111,
             "#46039f"
            ],
            [
             0.2222222222222222,
             "#7201a8"
            ],
            [
             0.3333333333333333,
             "#9c179e"
            ],
            [
             0.4444444444444444,
             "#bd3786"
            ],
            [
             0.5555555555555556,
             "#d8576b"
            ],
            [
             0.6666666666666666,
             "#ed7953"
            ],
            [
             0.7777777777777778,
             "#fb9f3a"
            ],
            [
             0.8888888888888888,
             "#fdca26"
            ],
            [
             1,
             "#f0f921"
            ]
           ]
          },
          "colorway": [
           "#636efa",
           "#EF553B",
           "#00cc96",
           "#ab63fa",
           "#FFA15A",
           "#19d3f3",
           "#FF6692",
           "#B6E880",
           "#FF97FF",
           "#FECB52"
          ],
          "font": {
           "color": "#2a3f5f"
          },
          "geo": {
           "bgcolor": "white",
           "lakecolor": "white",
           "landcolor": "#E5ECF6",
           "showlakes": true,
           "showland": true,
           "subunitcolor": "white"
          },
          "hoverlabel": {
           "align": "left"
          },
          "hovermode": "closest",
          "mapbox": {
           "style": "light"
          },
          "paper_bgcolor": "white",
          "plot_bgcolor": "#E5ECF6",
          "polar": {
           "angularaxis": {
            "gridcolor": "white",
            "linecolor": "white",
            "ticks": ""
           },
           "bgcolor": "#E5ECF6",
           "radialaxis": {
            "gridcolor": "white",
            "linecolor": "white",
            "ticks": ""
           }
          },
          "scene": {
           "xaxis": {
            "backgroundcolor": "#E5ECF6",
            "gridcolor": "white",
            "gridwidth": 2,
            "linecolor": "white",
            "showbackground": true,
            "ticks": "",
            "zerolinecolor": "white"
           },
           "yaxis": {
            "backgroundcolor": "#E5ECF6",
            "gridcolor": "white",
            "gridwidth": 2,
            "linecolor": "white",
            "showbackground": true,
            "ticks": "",
            "zerolinecolor": "white"
           },
           "zaxis": {
            "backgroundcolor": "#E5ECF6",
            "gridcolor": "white",
            "gridwidth": 2,
            "linecolor": "white",
            "showbackground": true,
            "ticks": "",
            "zerolinecolor": "white"
           }
          },
          "shapedefaults": {
           "line": {
            "color": "#2a3f5f"
           }
          },
          "ternary": {
           "aaxis": {
            "gridcolor": "white",
            "linecolor": "white",
            "ticks": ""
           },
           "baxis": {
            "gridcolor": "white",
            "linecolor": "white",
            "ticks": ""
           },
           "bgcolor": "#E5ECF6",
           "caxis": {
            "gridcolor": "white",
            "linecolor": "white",
            "ticks": ""
           }
          },
          "title": {
           "x": 0.05
          },
          "xaxis": {
           "automargin": true,
           "gridcolor": "white",
           "linecolor": "white",
           "ticks": "",
           "title": {
            "standoff": 15
           },
           "zerolinecolor": "white",
           "zerolinewidth": 2
          },
          "yaxis": {
           "automargin": true,
           "gridcolor": "white",
           "linecolor": "white",
           "ticks": "",
           "title": {
            "standoff": 15
           },
           "zerolinecolor": "white",
           "zerolinewidth": 2
          }
         }
        },
        "title": {
         "text": "Total Rainfall by Location"
        },
        "xaxis": {
         "anchor": "y",
         "domain": [
          0,
          1
         ],
         "title": {
          "text": "Location"
         }
        },
        "yaxis": {
         "anchor": "x",
         "domain": [
          0,
          1
         ],
         "title": {
          "text": "Total Rainfall (mm)"
         }
        }
       }
      }
     },
     "metadata": {},
     "output_type": "display_data"
    }
   ],
   "source": [
    "# Plot with plotly express\n",
    "\n",
    "fig = px.bar(\n",
    "    rainfall_sum,\n",
    "    x=\"Location\",\n",
    "    y=\"Rainfall\",\n",
    "    title=\"Total Rainfall by Location\",\n",
    "    labels={'Rainfall': 'Total Rainfall (mm)'},\n",
    "    text='Rainfall'\n",
    ")\n",
    "fig.show()"
   ]
  },
  {
   "cell_type": "code",
   "execution_count": 15,
   "id": "feb1cb7d",
   "metadata": {},
   "outputs": [],
   "source": [
    "# Let's try doing it just by the year 2010, first get only 2010 data\n",
    "df_2010 = df[df['Date'].dt.year == 2010]"
   ]
  },
  {
   "cell_type": "code",
   "execution_count": 16,
   "id": "493deebe",
   "metadata": {},
   "outputs": [
    {
     "data": {
      "text/html": [
       "<div>\n",
       "<style scoped>\n",
       "    .dataframe tbody tr th:only-of-type {\n",
       "        vertical-align: middle;\n",
       "    }\n",
       "\n",
       "    .dataframe tbody tr th {\n",
       "        vertical-align: top;\n",
       "    }\n",
       "\n",
       "    .dataframe thead th {\n",
       "        text-align: right;\n",
       "    }\n",
       "</style>\n",
       "<table border=\"1\" class=\"dataframe\">\n",
       "  <thead>\n",
       "    <tr style=\"text-align: right;\">\n",
       "      <th></th>\n",
       "      <th>Location</th>\n",
       "      <th>Rainfall</th>\n",
       "    </tr>\n",
       "  </thead>\n",
       "  <tbody>\n",
       "    <tr>\n",
       "      <th>0</th>\n",
       "      <td>Adelaide</td>\n",
       "      <td>606.76</td>\n",
       "    </tr>\n",
       "    <tr>\n",
       "      <th>1</th>\n",
       "      <td>Albany</td>\n",
       "      <td>742.20</td>\n",
       "    </tr>\n",
       "    <tr>\n",
       "      <th>2</th>\n",
       "      <td>Albury</td>\n",
       "      <td>932.92</td>\n",
       "    </tr>\n",
       "    <tr>\n",
       "      <th>3</th>\n",
       "      <td>AliceSprings</td>\n",
       "      <td>769.60</td>\n",
       "    </tr>\n",
       "    <tr>\n",
       "      <th>4</th>\n",
       "      <td>BadgerysCreek</td>\n",
       "      <td>904.72</td>\n",
       "    </tr>\n",
       "    <tr>\n",
       "      <th>5</th>\n",
       "      <td>Ballarat</td>\n",
       "      <td>881.96</td>\n",
       "    </tr>\n",
       "    <tr>\n",
       "      <th>6</th>\n",
       "      <td>Bendigo</td>\n",
       "      <td>1060.40</td>\n",
       "    </tr>\n",
       "    <tr>\n",
       "      <th>7</th>\n",
       "      <td>Brisbane</td>\n",
       "      <td>1668.04</td>\n",
       "    </tr>\n",
       "    <tr>\n",
       "      <th>8</th>\n",
       "      <td>Cairns</td>\n",
       "      <td>2659.80</td>\n",
       "    </tr>\n",
       "    <tr>\n",
       "      <th>9</th>\n",
       "      <td>Canberra</td>\n",
       "      <td>959.80</td>\n",
       "    </tr>\n",
       "    <tr>\n",
       "      <th>10</th>\n",
       "      <td>Cobar</td>\n",
       "      <td>678.20</td>\n",
       "    </tr>\n",
       "    <tr>\n",
       "      <th>11</th>\n",
       "      <td>CoffsHarbour</td>\n",
       "      <td>1991.40</td>\n",
       "    </tr>\n",
       "    <tr>\n",
       "      <th>12</th>\n",
       "      <td>Dartmoor</td>\n",
       "      <td>830.60</td>\n",
       "    </tr>\n",
       "    <tr>\n",
       "      <th>13</th>\n",
       "      <td>Darwin</td>\n",
       "      <td>2257.20</td>\n",
       "    </tr>\n",
       "    <tr>\n",
       "      <th>14</th>\n",
       "      <td>GoldCoast</td>\n",
       "      <td>2024.16</td>\n",
       "    </tr>\n",
       "    <tr>\n",
       "      <th>15</th>\n",
       "      <td>Hobart</td>\n",
       "      <td>520.60</td>\n",
       "    </tr>\n",
       "    <tr>\n",
       "      <th>16</th>\n",
       "      <td>Launceston</td>\n",
       "      <td>833.90</td>\n",
       "    </tr>\n",
       "    <tr>\n",
       "      <th>17</th>\n",
       "      <td>Melbourne</td>\n",
       "      <td>776.60</td>\n",
       "    </tr>\n",
       "    <tr>\n",
       "      <th>18</th>\n",
       "      <td>MelbourneAirport</td>\n",
       "      <td>727.40</td>\n",
       "    </tr>\n",
       "    <tr>\n",
       "      <th>19</th>\n",
       "      <td>Mildura</td>\n",
       "      <td>591.20</td>\n",
       "    </tr>\n",
       "    <tr>\n",
       "      <th>20</th>\n",
       "      <td>Moree</td>\n",
       "      <td>652.20</td>\n",
       "    </tr>\n",
       "    <tr>\n",
       "      <th>21</th>\n",
       "      <td>MountGambier</td>\n",
       "      <td>811.20</td>\n",
       "    </tr>\n",
       "    <tr>\n",
       "      <th>22</th>\n",
       "      <td>MountGinini</td>\n",
       "      <td>1766.44</td>\n",
       "    </tr>\n",
       "    <tr>\n",
       "      <th>23</th>\n",
       "      <td>Newcastle</td>\n",
       "      <td>1045.66</td>\n",
       "    </tr>\n",
       "    <tr>\n",
       "      <th>24</th>\n",
       "      <td>NorahHead</td>\n",
       "      <td>1195.60</td>\n",
       "    </tr>\n",
       "    <tr>\n",
       "      <th>25</th>\n",
       "      <td>NorfolkIsland</td>\n",
       "      <td>783.30</td>\n",
       "    </tr>\n",
       "    <tr>\n",
       "      <th>26</th>\n",
       "      <td>Nuriootpa</td>\n",
       "      <td>583.30</td>\n",
       "    </tr>\n",
       "    <tr>\n",
       "      <th>27</th>\n",
       "      <td>PearceRAAF</td>\n",
       "      <td>393.40</td>\n",
       "    </tr>\n",
       "    <tr>\n",
       "      <th>28</th>\n",
       "      <td>Penrith</td>\n",
       "      <td>902.32</td>\n",
       "    </tr>\n",
       "    <tr>\n",
       "      <th>29</th>\n",
       "      <td>Perth</td>\n",
       "      <td>503.80</td>\n",
       "    </tr>\n",
       "    <tr>\n",
       "      <th>30</th>\n",
       "      <td>PerthAirport</td>\n",
       "      <td>425.20</td>\n",
       "    </tr>\n",
       "    <tr>\n",
       "      <th>31</th>\n",
       "      <td>Portland</td>\n",
       "      <td>993.96</td>\n",
       "    </tr>\n",
       "    <tr>\n",
       "      <th>32</th>\n",
       "      <td>Richmond</td>\n",
       "      <td>772.00</td>\n",
       "    </tr>\n",
       "    <tr>\n",
       "      <th>33</th>\n",
       "      <td>Sale</td>\n",
       "      <td>520.00</td>\n",
       "    </tr>\n",
       "    <tr>\n",
       "      <th>34</th>\n",
       "      <td>SalmonGums</td>\n",
       "      <td>288.20</td>\n",
       "    </tr>\n",
       "    <tr>\n",
       "      <th>35</th>\n",
       "      <td>Sydney</td>\n",
       "      <td>1160.88</td>\n",
       "    </tr>\n",
       "    <tr>\n",
       "      <th>36</th>\n",
       "      <td>SydneyAirport</td>\n",
       "      <td>1040.20</td>\n",
       "    </tr>\n",
       "    <tr>\n",
       "      <th>37</th>\n",
       "      <td>Townsville</td>\n",
       "      <td>2006.40</td>\n",
       "    </tr>\n",
       "    <tr>\n",
       "      <th>38</th>\n",
       "      <td>Tuggeranong</td>\n",
       "      <td>1174.96</td>\n",
       "    </tr>\n",
       "    <tr>\n",
       "      <th>39</th>\n",
       "      <td>WaggaWagga</td>\n",
       "      <td>1019.20</td>\n",
       "    </tr>\n",
       "    <tr>\n",
       "      <th>40</th>\n",
       "      <td>Walpole</td>\n",
       "      <td>699.96</td>\n",
       "    </tr>\n",
       "    <tr>\n",
       "      <th>41</th>\n",
       "      <td>Watsonia</td>\n",
       "      <td>886.56</td>\n",
       "    </tr>\n",
       "    <tr>\n",
       "      <th>42</th>\n",
       "      <td>Williamtown</td>\n",
       "      <td>985.28</td>\n",
       "    </tr>\n",
       "    <tr>\n",
       "      <th>43</th>\n",
       "      <td>Witchcliffe</td>\n",
       "      <td>868.80</td>\n",
       "    </tr>\n",
       "    <tr>\n",
       "      <th>44</th>\n",
       "      <td>Wollongong</td>\n",
       "      <td>1221.80</td>\n",
       "    </tr>\n",
       "    <tr>\n",
       "      <th>45</th>\n",
       "      <td>Woomera</td>\n",
       "      <td>250.32</td>\n",
       "    </tr>\n",
       "  </tbody>\n",
       "</table>\n",
       "</div>"
      ],
      "text/plain": [
       "            Location  Rainfall\n",
       "0           Adelaide    606.76\n",
       "1             Albany    742.20\n",
       "2             Albury    932.92\n",
       "3       AliceSprings    769.60\n",
       "4      BadgerysCreek    904.72\n",
       "5           Ballarat    881.96\n",
       "6            Bendigo   1060.40\n",
       "7           Brisbane   1668.04\n",
       "8             Cairns   2659.80\n",
       "9           Canberra    959.80\n",
       "10             Cobar    678.20\n",
       "11      CoffsHarbour   1991.40\n",
       "12          Dartmoor    830.60\n",
       "13            Darwin   2257.20\n",
       "14         GoldCoast   2024.16\n",
       "15            Hobart    520.60\n",
       "16        Launceston    833.90\n",
       "17         Melbourne    776.60\n",
       "18  MelbourneAirport    727.40\n",
       "19           Mildura    591.20\n",
       "20             Moree    652.20\n",
       "21      MountGambier    811.20\n",
       "22       MountGinini   1766.44\n",
       "23         Newcastle   1045.66\n",
       "24         NorahHead   1195.60\n",
       "25     NorfolkIsland    783.30\n",
       "26         Nuriootpa    583.30\n",
       "27        PearceRAAF    393.40\n",
       "28           Penrith    902.32\n",
       "29             Perth    503.80\n",
       "30      PerthAirport    425.20\n",
       "31          Portland    993.96\n",
       "32          Richmond    772.00\n",
       "33              Sale    520.00\n",
       "34        SalmonGums    288.20\n",
       "35            Sydney   1160.88\n",
       "36     SydneyAirport   1040.20\n",
       "37        Townsville   2006.40\n",
       "38       Tuggeranong   1174.96\n",
       "39        WaggaWagga   1019.20\n",
       "40           Walpole    699.96\n",
       "41          Watsonia    886.56\n",
       "42       Williamtown    985.28\n",
       "43       Witchcliffe    868.80\n",
       "44        Wollongong   1221.80\n",
       "45           Woomera    250.32"
      ]
     },
     "execution_count": 16,
     "metadata": {},
     "output_type": "execute_result"
    }
   ],
   "source": [
    "# Now groupby location with only 2010 data\n",
    "rainfall_2010 = df_2010.groupby('Location')['Rainfall'].sum().reset_index()\n",
    "rainfall_2010"
   ]
  },
  {
   "cell_type": "code",
   "execution_count": 17,
   "id": "cc41e063",
   "metadata": {},
   "outputs": [
    {
     "data": {
      "application/vnd.plotly.v1+json": {
       "config": {
        "plotlyServerURL": "https://plot.ly"
       },
       "data": [
        {
         "alignmentgroup": "True",
         "hovertemplate": "Location=%{x}<br>Total Rainfall (mm)=%{text}<extra></extra>",
         "legendgroup": "",
         "marker": {
          "color": "#636efa",
          "pattern": {
           "shape": ""
          }
         },
         "name": "",
         "offsetgroup": "",
         "orientation": "v",
         "showlegend": false,
         "text": [
          606.76,
          742.2,
          932.92,
          769.6,
          904.72,
          881.96,
          1060.4,
          1668.04,
          2659.8,
          959.8000000000001,
          678.2,
          1991.4,
          830.6,
          2257.2,
          2024.16,
          520.6,
          833.9,
          776.6,
          727.4,
          591.2,
          652.2,
          811.2,
          1766.44,
          1045.66,
          1195.6,
          783.3,
          583.3,
          393.4,
          902.3199999999999,
          503.8,
          425.2,
          993.96,
          772,
          520,
          288.2,
          1160.88,
          1040.2,
          2006.4,
          1174.96,
          1019.2,
          699.96,
          886.5600000000001,
          985.28,
          868.8000000000001,
          1221.8,
          250.32
         ],
         "textposition": "auto",
         "type": "bar",
         "x": [
          "Adelaide",
          "Albany",
          "Albury",
          "AliceSprings",
          "BadgerysCreek",
          "Ballarat",
          "Bendigo",
          "Brisbane",
          "Cairns",
          "Canberra",
          "Cobar",
          "CoffsHarbour",
          "Dartmoor",
          "Darwin",
          "GoldCoast",
          "Hobart",
          "Launceston",
          "Melbourne",
          "MelbourneAirport",
          "Mildura",
          "Moree",
          "MountGambier",
          "MountGinini",
          "Newcastle",
          "NorahHead",
          "NorfolkIsland",
          "Nuriootpa",
          "PearceRAAF",
          "Penrith",
          "Perth",
          "PerthAirport",
          "Portland",
          "Richmond",
          "Sale",
          "SalmonGums",
          "Sydney",
          "SydneyAirport",
          "Townsville",
          "Tuggeranong",
          "WaggaWagga",
          "Walpole",
          "Watsonia",
          "Williamtown",
          "Witchcliffe",
          "Wollongong",
          "Woomera"
         ],
         "xaxis": "x",
         "y": [
          606.76,
          742.2,
          932.92,
          769.6,
          904.72,
          881.96,
          1060.4,
          1668.04,
          2659.8,
          959.8000000000001,
          678.2,
          1991.4,
          830.6,
          2257.2,
          2024.16,
          520.6,
          833.9,
          776.6,
          727.4,
          591.2,
          652.2,
          811.2,
          1766.44,
          1045.66,
          1195.6,
          783.3,
          583.3,
          393.4,
          902.3199999999999,
          503.8,
          425.2,
          993.96,
          772,
          520,
          288.2,
          1160.88,
          1040.2,
          2006.4,
          1174.96,
          1019.2,
          699.96,
          886.5600000000001,
          985.28,
          868.8000000000001,
          1221.8,
          250.32
         ],
         "yaxis": "y"
        }
       ],
       "layout": {
        "barmode": "relative",
        "legend": {
         "tracegroupgap": 0
        },
        "template": {
         "data": {
          "bar": [
           {
            "error_x": {
             "color": "#2a3f5f"
            },
            "error_y": {
             "color": "#2a3f5f"
            },
            "marker": {
             "line": {
              "color": "#E5ECF6",
              "width": 0.5
             },
             "pattern": {
              "fillmode": "overlay",
              "size": 10,
              "solidity": 0.2
             }
            },
            "type": "bar"
           }
          ],
          "barpolar": [
           {
            "marker": {
             "line": {
              "color": "#E5ECF6",
              "width": 0.5
             },
             "pattern": {
              "fillmode": "overlay",
              "size": 10,
              "solidity": 0.2
             }
            },
            "type": "barpolar"
           }
          ],
          "carpet": [
           {
            "aaxis": {
             "endlinecolor": "#2a3f5f",
             "gridcolor": "white",
             "linecolor": "white",
             "minorgridcolor": "white",
             "startlinecolor": "#2a3f5f"
            },
            "baxis": {
             "endlinecolor": "#2a3f5f",
             "gridcolor": "white",
             "linecolor": "white",
             "minorgridcolor": "white",
             "startlinecolor": "#2a3f5f"
            },
            "type": "carpet"
           }
          ],
          "choropleth": [
           {
            "colorbar": {
             "outlinewidth": 0,
             "ticks": ""
            },
            "type": "choropleth"
           }
          ],
          "contour": [
           {
            "colorbar": {
             "outlinewidth": 0,
             "ticks": ""
            },
            "colorscale": [
             [
              0,
              "#0d0887"
             ],
             [
              0.1111111111111111,
              "#46039f"
             ],
             [
              0.2222222222222222,
              "#7201a8"
             ],
             [
              0.3333333333333333,
              "#9c179e"
             ],
             [
              0.4444444444444444,
              "#bd3786"
             ],
             [
              0.5555555555555556,
              "#d8576b"
             ],
             [
              0.6666666666666666,
              "#ed7953"
             ],
             [
              0.7777777777777778,
              "#fb9f3a"
             ],
             [
              0.8888888888888888,
              "#fdca26"
             ],
             [
              1,
              "#f0f921"
             ]
            ],
            "type": "contour"
           }
          ],
          "contourcarpet": [
           {
            "colorbar": {
             "outlinewidth": 0,
             "ticks": ""
            },
            "type": "contourcarpet"
           }
          ],
          "heatmap": [
           {
            "colorbar": {
             "outlinewidth": 0,
             "ticks": ""
            },
            "colorscale": [
             [
              0,
              "#0d0887"
             ],
             [
              0.1111111111111111,
              "#46039f"
             ],
             [
              0.2222222222222222,
              "#7201a8"
             ],
             [
              0.3333333333333333,
              "#9c179e"
             ],
             [
              0.4444444444444444,
              "#bd3786"
             ],
             [
              0.5555555555555556,
              "#d8576b"
             ],
             [
              0.6666666666666666,
              "#ed7953"
             ],
             [
              0.7777777777777778,
              "#fb9f3a"
             ],
             [
              0.8888888888888888,
              "#fdca26"
             ],
             [
              1,
              "#f0f921"
             ]
            ],
            "type": "heatmap"
           }
          ],
          "heatmapgl": [
           {
            "colorbar": {
             "outlinewidth": 0,
             "ticks": ""
            },
            "colorscale": [
             [
              0,
              "#0d0887"
             ],
             [
              0.1111111111111111,
              "#46039f"
             ],
             [
              0.2222222222222222,
              "#7201a8"
             ],
             [
              0.3333333333333333,
              "#9c179e"
             ],
             [
              0.4444444444444444,
              "#bd3786"
             ],
             [
              0.5555555555555556,
              "#d8576b"
             ],
             [
              0.6666666666666666,
              "#ed7953"
             ],
             [
              0.7777777777777778,
              "#fb9f3a"
             ],
             [
              0.8888888888888888,
              "#fdca26"
             ],
             [
              1,
              "#f0f921"
             ]
            ],
            "type": "heatmapgl"
           }
          ],
          "histogram": [
           {
            "marker": {
             "pattern": {
              "fillmode": "overlay",
              "size": 10,
              "solidity": 0.2
             }
            },
            "type": "histogram"
           }
          ],
          "histogram2d": [
           {
            "colorbar": {
             "outlinewidth": 0,
             "ticks": ""
            },
            "colorscale": [
             [
              0,
              "#0d0887"
             ],
             [
              0.1111111111111111,
              "#46039f"
             ],
             [
              0.2222222222222222,
              "#7201a8"
             ],
             [
              0.3333333333333333,
              "#9c179e"
             ],
             [
              0.4444444444444444,
              "#bd3786"
             ],
             [
              0.5555555555555556,
              "#d8576b"
             ],
             [
              0.6666666666666666,
              "#ed7953"
             ],
             [
              0.7777777777777778,
              "#fb9f3a"
             ],
             [
              0.8888888888888888,
              "#fdca26"
             ],
             [
              1,
              "#f0f921"
             ]
            ],
            "type": "histogram2d"
           }
          ],
          "histogram2dcontour": [
           {
            "colorbar": {
             "outlinewidth": 0,
             "ticks": ""
            },
            "colorscale": [
             [
              0,
              "#0d0887"
             ],
             [
              0.1111111111111111,
              "#46039f"
             ],
             [
              0.2222222222222222,
              "#7201a8"
             ],
             [
              0.3333333333333333,
              "#9c179e"
             ],
             [
              0.4444444444444444,
              "#bd3786"
             ],
             [
              0.5555555555555556,
              "#d8576b"
             ],
             [
              0.6666666666666666,
              "#ed7953"
             ],
             [
              0.7777777777777778,
              "#fb9f3a"
             ],
             [
              0.8888888888888888,
              "#fdca26"
             ],
             [
              1,
              "#f0f921"
             ]
            ],
            "type": "histogram2dcontour"
           }
          ],
          "mesh3d": [
           {
            "colorbar": {
             "outlinewidth": 0,
             "ticks": ""
            },
            "type": "mesh3d"
           }
          ],
          "parcoords": [
           {
            "line": {
             "colorbar": {
              "outlinewidth": 0,
              "ticks": ""
             }
            },
            "type": "parcoords"
           }
          ],
          "pie": [
           {
            "automargin": true,
            "type": "pie"
           }
          ],
          "scatter": [
           {
            "fillpattern": {
             "fillmode": "overlay",
             "size": 10,
             "solidity": 0.2
            },
            "type": "scatter"
           }
          ],
          "scatter3d": [
           {
            "line": {
             "colorbar": {
              "outlinewidth": 0,
              "ticks": ""
             }
            },
            "marker": {
             "colorbar": {
              "outlinewidth": 0,
              "ticks": ""
             }
            },
            "type": "scatter3d"
           }
          ],
          "scattercarpet": [
           {
            "marker": {
             "colorbar": {
              "outlinewidth": 0,
              "ticks": ""
             }
            },
            "type": "scattercarpet"
           }
          ],
          "scattergeo": [
           {
            "marker": {
             "colorbar": {
              "outlinewidth": 0,
              "ticks": ""
             }
            },
            "type": "scattergeo"
           }
          ],
          "scattergl": [
           {
            "marker": {
             "colorbar": {
              "outlinewidth": 0,
              "ticks": ""
             }
            },
            "type": "scattergl"
           }
          ],
          "scattermapbox": [
           {
            "marker": {
             "colorbar": {
              "outlinewidth": 0,
              "ticks": ""
             }
            },
            "type": "scattermapbox"
           }
          ],
          "scatterpolar": [
           {
            "marker": {
             "colorbar": {
              "outlinewidth": 0,
              "ticks": ""
             }
            },
            "type": "scatterpolar"
           }
          ],
          "scatterpolargl": [
           {
            "marker": {
             "colorbar": {
              "outlinewidth": 0,
              "ticks": ""
             }
            },
            "type": "scatterpolargl"
           }
          ],
          "scatterternary": [
           {
            "marker": {
             "colorbar": {
              "outlinewidth": 0,
              "ticks": ""
             }
            },
            "type": "scatterternary"
           }
          ],
          "surface": [
           {
            "colorbar": {
             "outlinewidth": 0,
             "ticks": ""
            },
            "colorscale": [
             [
              0,
              "#0d0887"
             ],
             [
              0.1111111111111111,
              "#46039f"
             ],
             [
              0.2222222222222222,
              "#7201a8"
             ],
             [
              0.3333333333333333,
              "#9c179e"
             ],
             [
              0.4444444444444444,
              "#bd3786"
             ],
             [
              0.5555555555555556,
              "#d8576b"
             ],
             [
              0.6666666666666666,
              "#ed7953"
             ],
             [
              0.7777777777777778,
              "#fb9f3a"
             ],
             [
              0.8888888888888888,
              "#fdca26"
             ],
             [
              1,
              "#f0f921"
             ]
            ],
            "type": "surface"
           }
          ],
          "table": [
           {
            "cells": {
             "fill": {
              "color": "#EBF0F8"
             },
             "line": {
              "color": "white"
             }
            },
            "header": {
             "fill": {
              "color": "#C8D4E3"
             },
             "line": {
              "color": "white"
             }
            },
            "type": "table"
           }
          ]
         },
         "layout": {
          "annotationdefaults": {
           "arrowcolor": "#2a3f5f",
           "arrowhead": 0,
           "arrowwidth": 1
          },
          "autotypenumbers": "strict",
          "coloraxis": {
           "colorbar": {
            "outlinewidth": 0,
            "ticks": ""
           }
          },
          "colorscale": {
           "diverging": [
            [
             0,
             "#8e0152"
            ],
            [
             0.1,
             "#c51b7d"
            ],
            [
             0.2,
             "#de77ae"
            ],
            [
             0.3,
             "#f1b6da"
            ],
            [
             0.4,
             "#fde0ef"
            ],
            [
             0.5,
             "#f7f7f7"
            ],
            [
             0.6,
             "#e6f5d0"
            ],
            [
             0.7,
             "#b8e186"
            ],
            [
             0.8,
             "#7fbc41"
            ],
            [
             0.9,
             "#4d9221"
            ],
            [
             1,
             "#276419"
            ]
           ],
           "sequential": [
            [
             0,
             "#0d0887"
            ],
            [
             0.1111111111111111,
             "#46039f"
            ],
            [
             0.2222222222222222,
             "#7201a8"
            ],
            [
             0.3333333333333333,
             "#9c179e"
            ],
            [
             0.4444444444444444,
             "#bd3786"
            ],
            [
             0.5555555555555556,
             "#d8576b"
            ],
            [
             0.6666666666666666,
             "#ed7953"
            ],
            [
             0.7777777777777778,
             "#fb9f3a"
            ],
            [
             0.8888888888888888,
             "#fdca26"
            ],
            [
             1,
             "#f0f921"
            ]
           ],
           "sequentialminus": [
            [
             0,
             "#0d0887"
            ],
            [
             0.1111111111111111,
             "#46039f"
            ],
            [
             0.2222222222222222,
             "#7201a8"
            ],
            [
             0.3333333333333333,
             "#9c179e"
            ],
            [
             0.4444444444444444,
             "#bd3786"
            ],
            [
             0.5555555555555556,
             "#d8576b"
            ],
            [
             0.6666666666666666,
             "#ed7953"
            ],
            [
             0.7777777777777778,
             "#fb9f3a"
            ],
            [
             0.8888888888888888,
             "#fdca26"
            ],
            [
             1,
             "#f0f921"
            ]
           ]
          },
          "colorway": [
           "#636efa",
           "#EF553B",
           "#00cc96",
           "#ab63fa",
           "#FFA15A",
           "#19d3f3",
           "#FF6692",
           "#B6E880",
           "#FF97FF",
           "#FECB52"
          ],
          "font": {
           "color": "#2a3f5f"
          },
          "geo": {
           "bgcolor": "white",
           "lakecolor": "white",
           "landcolor": "#E5ECF6",
           "showlakes": true,
           "showland": true,
           "subunitcolor": "white"
          },
          "hoverlabel": {
           "align": "left"
          },
          "hovermode": "closest",
          "mapbox": {
           "style": "light"
          },
          "paper_bgcolor": "white",
          "plot_bgcolor": "#E5ECF6",
          "polar": {
           "angularaxis": {
            "gridcolor": "white",
            "linecolor": "white",
            "ticks": ""
           },
           "bgcolor": "#E5ECF6",
           "radialaxis": {
            "gridcolor": "white",
            "linecolor": "white",
            "ticks": ""
           }
          },
          "scene": {
           "xaxis": {
            "backgroundcolor": "#E5ECF6",
            "gridcolor": "white",
            "gridwidth": 2,
            "linecolor": "white",
            "showbackground": true,
            "ticks": "",
            "zerolinecolor": "white"
           },
           "yaxis": {
            "backgroundcolor": "#E5ECF6",
            "gridcolor": "white",
            "gridwidth": 2,
            "linecolor": "white",
            "showbackground": true,
            "ticks": "",
            "zerolinecolor": "white"
           },
           "zaxis": {
            "backgroundcolor": "#E5ECF6",
            "gridcolor": "white",
            "gridwidth": 2,
            "linecolor": "white",
            "showbackground": true,
            "ticks": "",
            "zerolinecolor": "white"
           }
          },
          "shapedefaults": {
           "line": {
            "color": "#2a3f5f"
           }
          },
          "ternary": {
           "aaxis": {
            "gridcolor": "white",
            "linecolor": "white",
            "ticks": ""
           },
           "baxis": {
            "gridcolor": "white",
            "linecolor": "white",
            "ticks": ""
           },
           "bgcolor": "#E5ECF6",
           "caxis": {
            "gridcolor": "white",
            "linecolor": "white",
            "ticks": ""
           }
          },
          "title": {
           "x": 0.05
          },
          "xaxis": {
           "automargin": true,
           "gridcolor": "white",
           "linecolor": "white",
           "ticks": "",
           "title": {
            "standoff": 15
           },
           "zerolinecolor": "white",
           "zerolinewidth": 2
          },
          "yaxis": {
           "automargin": true,
           "gridcolor": "white",
           "linecolor": "white",
           "ticks": "",
           "title": {
            "standoff": 15
           },
           "zerolinecolor": "white",
           "zerolinewidth": 2
          }
         }
        },
        "title": {
         "text": "Total Rainfall by Location"
        },
        "xaxis": {
         "anchor": "y",
         "domain": [
          0,
          1
         ],
         "title": {
          "text": "Location"
         }
        },
        "yaxis": {
         "anchor": "x",
         "domain": [
          0,
          1
         ],
         "title": {
          "text": "Total Rainfall (mm)"
         }
        }
       }
      }
     },
     "metadata": {},
     "output_type": "display_data"
    }
   ],
   "source": [
    "# Plot with plotly express\n",
    "\n",
    "fig2 = px.bar(\n",
    "    rainfall_2010,\n",
    "    x=\"Location\",\n",
    "    y=\"Rainfall\",\n",
    "    title=\"Total Rainfall by Location\",\n",
    "    labels={'Rainfall': 'Total Rainfall (mm)'},\n",
    "    text='Rainfall'\n",
    ")\n",
    "fig2.show()"
   ]
  },
  {
   "cell_type": "code",
   "execution_count": 19,
   "id": "30275230",
   "metadata": {},
   "outputs": [
    {
     "data": {
      "application/vnd.plotly.v1+json": {
       "config": {
        "plotlyServerURL": "https://plot.ly"
       },
       "data": [
        {
         "alignmentgroup": "True",
         "hovertemplate": "Step=1<br>Location=%{x}<br>Total Rainfall (mm)=%{text}<extra></extra>",
         "legendgroup": "",
         "marker": {
          "color": "#636efa",
          "pattern": {
           "shape": ""
          }
         },
         "name": "",
         "offsetgroup": "",
         "orientation": "v",
         "showlegend": false,
         "text": [
          24.2704,
          29.688000000000002,
          37.3168,
          30.784000000000002,
          36.1888,
          35.278400000000005,
          42.416000000000004,
          66.7216,
          106.39200000000001,
          38.392,
          27.128,
          79.656,
          33.224000000000004,
          90.288,
          80.96640000000001,
          20.824,
          33.356,
          31.064,
          29.096,
          23.648000000000003,
          26.088,
          32.448,
          70.6576,
          41.82640000000001,
          47.824,
          31.331999999999997,
          23.331999999999997,
          15.735999999999999,
          36.0928,
          20.152,
          17.008,
          39.7584,
          30.88,
          20.8,
          11.527999999999999,
          46.4352,
          41.608000000000004,
          80.256,
          46.998400000000004,
          40.768,
          27.9984,
          35.4624,
          39.4112,
          34.752,
          48.872,
          10.0128
         ],
         "textposition": "outside",
         "texttemplate": "%{text:.0f}",
         "type": "bar",
         "x": [
          "Adelaide",
          "Albany",
          "Albury",
          "AliceSprings",
          "BadgerysCreek",
          "Ballarat",
          "Bendigo",
          "Brisbane",
          "Cairns",
          "Canberra",
          "Cobar",
          "CoffsHarbour",
          "Dartmoor",
          "Darwin",
          "GoldCoast",
          "Hobart",
          "Launceston",
          "Melbourne",
          "MelbourneAirport",
          "Mildura",
          "Moree",
          "MountGambier",
          "MountGinini",
          "Newcastle",
          "NorahHead",
          "NorfolkIsland",
          "Nuriootpa",
          "PearceRAAF",
          "Penrith",
          "Perth",
          "PerthAirport",
          "Portland",
          "Richmond",
          "Sale",
          "SalmonGums",
          "Sydney",
          "SydneyAirport",
          "Townsville",
          "Tuggeranong",
          "WaggaWagga",
          "Walpole",
          "Watsonia",
          "Williamtown",
          "Witchcliffe",
          "Wollongong",
          "Woomera"
         ],
         "xaxis": "x",
         "y": [
          24.2704,
          29.688000000000002,
          37.3168,
          30.784000000000002,
          36.1888,
          35.278400000000005,
          42.416000000000004,
          66.7216,
          106.39200000000001,
          38.392,
          27.128,
          79.656,
          33.224000000000004,
          90.288,
          80.96640000000001,
          20.824,
          33.356,
          31.064,
          29.096,
          23.648000000000003,
          26.088,
          32.448,
          70.6576,
          41.82640000000001,
          47.824,
          31.331999999999997,
          23.331999999999997,
          15.735999999999999,
          36.0928,
          20.152,
          17.008,
          39.7584,
          30.88,
          20.8,
          11.527999999999999,
          46.4352,
          41.608000000000004,
          80.256,
          46.998400000000004,
          40.768,
          27.9984,
          35.4624,
          39.4112,
          34.752,
          48.872,
          10.0128
         ],
         "yaxis": "y"
        }
       ],
       "frames": [
        {
         "data": [
          {
           "alignmentgroup": "True",
           "hovertemplate": "Step=1<br>Location=%{x}<br>Total Rainfall (mm)=%{text}<extra></extra>",
           "legendgroup": "",
           "marker": {
            "color": "#636efa",
            "pattern": {
             "shape": ""
            }
           },
           "name": "",
           "offsetgroup": "",
           "orientation": "v",
           "showlegend": false,
           "text": [
            24.2704,
            29.688000000000002,
            37.3168,
            30.784000000000002,
            36.1888,
            35.278400000000005,
            42.416000000000004,
            66.7216,
            106.39200000000001,
            38.392,
            27.128,
            79.656,
            33.224000000000004,
            90.288,
            80.96640000000001,
            20.824,
            33.356,
            31.064,
            29.096,
            23.648000000000003,
            26.088,
            32.448,
            70.6576,
            41.82640000000001,
            47.824,
            31.331999999999997,
            23.331999999999997,
            15.735999999999999,
            36.0928,
            20.152,
            17.008,
            39.7584,
            30.88,
            20.8,
            11.527999999999999,
            46.4352,
            41.608000000000004,
            80.256,
            46.998400000000004,
            40.768,
            27.9984,
            35.4624,
            39.4112,
            34.752,
            48.872,
            10.0128
           ],
           "textposition": "auto",
           "type": "bar",
           "x": [
            "Adelaide",
            "Albany",
            "Albury",
            "AliceSprings",
            "BadgerysCreek",
            "Ballarat",
            "Bendigo",
            "Brisbane",
            "Cairns",
            "Canberra",
            "Cobar",
            "CoffsHarbour",
            "Dartmoor",
            "Darwin",
            "GoldCoast",
            "Hobart",
            "Launceston",
            "Melbourne",
            "MelbourneAirport",
            "Mildura",
            "Moree",
            "MountGambier",
            "MountGinini",
            "Newcastle",
            "NorahHead",
            "NorfolkIsland",
            "Nuriootpa",
            "PearceRAAF",
            "Penrith",
            "Perth",
            "PerthAirport",
            "Portland",
            "Richmond",
            "Sale",
            "SalmonGums",
            "Sydney",
            "SydneyAirport",
            "Townsville",
            "Tuggeranong",
            "WaggaWagga",
            "Walpole",
            "Watsonia",
            "Williamtown",
            "Witchcliffe",
            "Wollongong",
            "Woomera"
           ],
           "xaxis": "x",
           "y": [
            24.2704,
            29.688000000000002,
            37.3168,
            30.784000000000002,
            36.1888,
            35.278400000000005,
            42.416000000000004,
            66.7216,
            106.39200000000001,
            38.392,
            27.128,
            79.656,
            33.224000000000004,
            90.288,
            80.96640000000001,
            20.824,
            33.356,
            31.064,
            29.096,
            23.648000000000003,
            26.088,
            32.448,
            70.6576,
            41.82640000000001,
            47.824,
            31.331999999999997,
            23.331999999999997,
            15.735999999999999,
            36.0928,
            20.152,
            17.008,
            39.7584,
            30.88,
            20.8,
            11.527999999999999,
            46.4352,
            41.608000000000004,
            80.256,
            46.998400000000004,
            40.768,
            27.9984,
            35.4624,
            39.4112,
            34.752,
            48.872,
            10.0128
           ],
           "yaxis": "y"
          }
         ],
         "name": "1"
        },
        {
         "data": [
          {
           "alignmentgroup": "True",
           "hovertemplate": "Step=2<br>Location=%{x}<br>Total Rainfall (mm)=%{text}<extra></extra>",
           "legendgroup": "",
           "marker": {
            "color": "#636efa",
            "pattern": {
             "shape": ""
            }
           },
           "name": "",
           "offsetgroup": "",
           "orientation": "v",
           "showlegend": false,
           "text": [
            48.5408,
            59.376000000000005,
            74.6336,
            61.568000000000005,
            72.3776,
            70.55680000000001,
            84.83200000000001,
            133.4432,
            212.78400000000002,
            76.784,
            54.256,
            159.312,
            66.44800000000001,
            180.576,
            161.93280000000001,
            41.648,
            66.712,
            62.128,
            58.192,
            47.29600000000001,
            52.176,
            64.896,
            141.3152,
            83.65280000000001,
            95.648,
            62.663999999999994,
            46.663999999999994,
            31.471999999999998,
            72.1856,
            40.304,
            34.016,
            79.5168,
            61.76,
            41.6,
            23.055999999999997,
            92.8704,
            83.21600000000001,
            160.512,
            93.99680000000001,
            81.536,
            55.9968,
            70.9248,
            78.8224,
            69.504,
            97.744,
            20.0256
           ],
           "textposition": "auto",
           "type": "bar",
           "x": [
            "Adelaide",
            "Albany",
            "Albury",
            "AliceSprings",
            "BadgerysCreek",
            "Ballarat",
            "Bendigo",
            "Brisbane",
            "Cairns",
            "Canberra",
            "Cobar",
            "CoffsHarbour",
            "Dartmoor",
            "Darwin",
            "GoldCoast",
            "Hobart",
            "Launceston",
            "Melbourne",
            "MelbourneAirport",
            "Mildura",
            "Moree",
            "MountGambier",
            "MountGinini",
            "Newcastle",
            "NorahHead",
            "NorfolkIsland",
            "Nuriootpa",
            "PearceRAAF",
            "Penrith",
            "Perth",
            "PerthAirport",
            "Portland",
            "Richmond",
            "Sale",
            "SalmonGums",
            "Sydney",
            "SydneyAirport",
            "Townsville",
            "Tuggeranong",
            "WaggaWagga",
            "Walpole",
            "Watsonia",
            "Williamtown",
            "Witchcliffe",
            "Wollongong",
            "Woomera"
           ],
           "xaxis": "x",
           "y": [
            48.5408,
            59.376000000000005,
            74.6336,
            61.568000000000005,
            72.3776,
            70.55680000000001,
            84.83200000000001,
            133.4432,
            212.78400000000002,
            76.784,
            54.256,
            159.312,
            66.44800000000001,
            180.576,
            161.93280000000001,
            41.648,
            66.712,
            62.128,
            58.192,
            47.29600000000001,
            52.176,
            64.896,
            141.3152,
            83.65280000000001,
            95.648,
            62.663999999999994,
            46.663999999999994,
            31.471999999999998,
            72.1856,
            40.304,
            34.016,
            79.5168,
            61.76,
            41.6,
            23.055999999999997,
            92.8704,
            83.21600000000001,
            160.512,
            93.99680000000001,
            81.536,
            55.9968,
            70.9248,
            78.8224,
            69.504,
            97.744,
            20.0256
           ],
           "yaxis": "y"
          }
         ],
         "name": "2"
        },
        {
         "data": [
          {
           "alignmentgroup": "True",
           "hovertemplate": "Step=3<br>Location=%{x}<br>Total Rainfall (mm)=%{text}<extra></extra>",
           "legendgroup": "",
           "marker": {
            "color": "#636efa",
            "pattern": {
             "shape": ""
            }
           },
           "name": "",
           "offsetgroup": "",
           "orientation": "v",
           "showlegend": false,
           "text": [
            72.8112,
            89.06400000000002,
            111.95039999999999,
            92.352,
            108.56639999999999,
            105.8352,
            127.248,
            200.16479999999999,
            319.17600000000004,
            115.176,
            81.384,
            238.96800000000002,
            99.67200000000001,
            270.864,
            242.8992,
            62.47200000000001,
            100.068,
            93.19200000000001,
            87.288,
            70.944,
            78.26400000000001,
            97.34400000000001,
            211.97279999999998,
            125.47920000000002,
            143.47199999999998,
            93.99599999999998,
            69.996,
            47.20799999999999,
            108.2784,
            60.456,
            51.023999999999994,
            119.2752,
            92.64,
            62.4,
            34.583999999999996,
            139.30560000000003,
            124.82400000000001,
            240.76800000000003,
            140.9952,
            122.30400000000002,
            83.99520000000001,
            106.3872,
            118.23360000000001,
            104.256,
            146.61599999999999,
            30.038400000000003
           ],
           "textposition": "auto",
           "type": "bar",
           "x": [
            "Adelaide",
            "Albany",
            "Albury",
            "AliceSprings",
            "BadgerysCreek",
            "Ballarat",
            "Bendigo",
            "Brisbane",
            "Cairns",
            "Canberra",
            "Cobar",
            "CoffsHarbour",
            "Dartmoor",
            "Darwin",
            "GoldCoast",
            "Hobart",
            "Launceston",
            "Melbourne",
            "MelbourneAirport",
            "Mildura",
            "Moree",
            "MountGambier",
            "MountGinini",
            "Newcastle",
            "NorahHead",
            "NorfolkIsland",
            "Nuriootpa",
            "PearceRAAF",
            "Penrith",
            "Perth",
            "PerthAirport",
            "Portland",
            "Richmond",
            "Sale",
            "SalmonGums",
            "Sydney",
            "SydneyAirport",
            "Townsville",
            "Tuggeranong",
            "WaggaWagga",
            "Walpole",
            "Watsonia",
            "Williamtown",
            "Witchcliffe",
            "Wollongong",
            "Woomera"
           ],
           "xaxis": "x",
           "y": [
            72.8112,
            89.06400000000002,
            111.95039999999999,
            92.352,
            108.56639999999999,
            105.8352,
            127.248,
            200.16479999999999,
            319.17600000000004,
            115.176,
            81.384,
            238.96800000000002,
            99.67200000000001,
            270.864,
            242.8992,
            62.47200000000001,
            100.068,
            93.19200000000001,
            87.288,
            70.944,
            78.26400000000001,
            97.34400000000001,
            211.97279999999998,
            125.47920000000002,
            143.47199999999998,
            93.99599999999998,
            69.996,
            47.20799999999999,
            108.2784,
            60.456,
            51.023999999999994,
            119.2752,
            92.64,
            62.4,
            34.583999999999996,
            139.30560000000003,
            124.82400000000001,
            240.76800000000003,
            140.9952,
            122.30400000000002,
            83.99520000000001,
            106.3872,
            118.23360000000001,
            104.256,
            146.61599999999999,
            30.038400000000003
           ],
           "yaxis": "y"
          }
         ],
         "name": "3"
        },
        {
         "data": [
          {
           "alignmentgroup": "True",
           "hovertemplate": "Step=4<br>Location=%{x}<br>Total Rainfall (mm)=%{text}<extra></extra>",
           "legendgroup": "",
           "marker": {
            "color": "#636efa",
            "pattern": {
             "shape": ""
            }
           },
           "name": "",
           "offsetgroup": "",
           "orientation": "v",
           "showlegend": false,
           "text": [
            97.0816,
            118.75200000000001,
            149.2672,
            123.13600000000001,
            144.7552,
            141.11360000000002,
            169.66400000000002,
            266.8864,
            425.56800000000004,
            153.568,
            108.512,
            318.624,
            132.89600000000002,
            361.152,
            323.86560000000003,
            83.296,
            133.424,
            124.256,
            116.384,
            94.59200000000001,
            104.352,
            129.792,
            282.6304,
            167.30560000000003,
            191.296,
            125.32799999999999,
            93.32799999999999,
            62.943999999999996,
            144.3712,
            80.608,
            68.032,
            159.0336,
            123.52,
            83.2,
            46.111999999999995,
            185.7408,
            166.43200000000002,
            321.024,
            187.99360000000001,
            163.072,
            111.9936,
            141.8496,
            157.6448,
            139.008,
            195.488,
            40.0512
           ],
           "textposition": "auto",
           "type": "bar",
           "x": [
            "Adelaide",
            "Albany",
            "Albury",
            "AliceSprings",
            "BadgerysCreek",
            "Ballarat",
            "Bendigo",
            "Brisbane",
            "Cairns",
            "Canberra",
            "Cobar",
            "CoffsHarbour",
            "Dartmoor",
            "Darwin",
            "GoldCoast",
            "Hobart",
            "Launceston",
            "Melbourne",
            "MelbourneAirport",
            "Mildura",
            "Moree",
            "MountGambier",
            "MountGinini",
            "Newcastle",
            "NorahHead",
            "NorfolkIsland",
            "Nuriootpa",
            "PearceRAAF",
            "Penrith",
            "Perth",
            "PerthAirport",
            "Portland",
            "Richmond",
            "Sale",
            "SalmonGums",
            "Sydney",
            "SydneyAirport",
            "Townsville",
            "Tuggeranong",
            "WaggaWagga",
            "Walpole",
            "Watsonia",
            "Williamtown",
            "Witchcliffe",
            "Wollongong",
            "Woomera"
           ],
           "xaxis": "x",
           "y": [
            97.0816,
            118.75200000000001,
            149.2672,
            123.13600000000001,
            144.7552,
            141.11360000000002,
            169.66400000000002,
            266.8864,
            425.56800000000004,
            153.568,
            108.512,
            318.624,
            132.89600000000002,
            361.152,
            323.86560000000003,
            83.296,
            133.424,
            124.256,
            116.384,
            94.59200000000001,
            104.352,
            129.792,
            282.6304,
            167.30560000000003,
            191.296,
            125.32799999999999,
            93.32799999999999,
            62.943999999999996,
            144.3712,
            80.608,
            68.032,
            159.0336,
            123.52,
            83.2,
            46.111999999999995,
            185.7408,
            166.43200000000002,
            321.024,
            187.99360000000001,
            163.072,
            111.9936,
            141.8496,
            157.6448,
            139.008,
            195.488,
            40.0512
           ],
           "yaxis": "y"
          }
         ],
         "name": "4"
        },
        {
         "data": [
          {
           "alignmentgroup": "True",
           "hovertemplate": "Step=5<br>Location=%{x}<br>Total Rainfall (mm)=%{text}<extra></extra>",
           "legendgroup": "",
           "marker": {
            "color": "#636efa",
            "pattern": {
             "shape": ""
            }
           },
           "name": "",
           "offsetgroup": "",
           "orientation": "v",
           "showlegend": false,
           "text": [
            121.352,
            148.44,
            186.58399999999997,
            153.92,
            180.94400000000002,
            176.392,
            212.08,
            333.608,
            531.96,
            191.96,
            135.64,
            398.28,
            166.12,
            451.44,
            404.83200000000005,
            104.12,
            166.78,
            155.32,
            145.48,
            118.24,
            130.44,
            162.24,
            353.288,
            209.132,
            239.12,
            156.66,
            116.66,
            78.68,
            180.46399999999997,
            100.76,
            85.04,
            198.792,
            154.4,
            104,
            57.64,
            232.17600000000002,
            208.04,
            401.28,
            234.99200000000002,
            203.84,
            139.99200000000002,
            177.312,
            197.05599999999998,
            173.76,
            244.36,
            50.06399999999999
           ],
           "textposition": "auto",
           "type": "bar",
           "x": [
            "Adelaide",
            "Albany",
            "Albury",
            "AliceSprings",
            "BadgerysCreek",
            "Ballarat",
            "Bendigo",
            "Brisbane",
            "Cairns",
            "Canberra",
            "Cobar",
            "CoffsHarbour",
            "Dartmoor",
            "Darwin",
            "GoldCoast",
            "Hobart",
            "Launceston",
            "Melbourne",
            "MelbourneAirport",
            "Mildura",
            "Moree",
            "MountGambier",
            "MountGinini",
            "Newcastle",
            "NorahHead",
            "NorfolkIsland",
            "Nuriootpa",
            "PearceRAAF",
            "Penrith",
            "Perth",
            "PerthAirport",
            "Portland",
            "Richmond",
            "Sale",
            "SalmonGums",
            "Sydney",
            "SydneyAirport",
            "Townsville",
            "Tuggeranong",
            "WaggaWagga",
            "Walpole",
            "Watsonia",
            "Williamtown",
            "Witchcliffe",
            "Wollongong",
            "Woomera"
           ],
           "xaxis": "x",
           "y": [
            121.352,
            148.44,
            186.58399999999997,
            153.92,
            180.94400000000002,
            176.392,
            212.08,
            333.608,
            531.96,
            191.96,
            135.64,
            398.28,
            166.12,
            451.44,
            404.83200000000005,
            104.12,
            166.78,
            155.32,
            145.48,
            118.24,
            130.44,
            162.24,
            353.288,
            209.132,
            239.12,
            156.66,
            116.66,
            78.68,
            180.46399999999997,
            100.76,
            85.04,
            198.792,
            154.4,
            104,
            57.64,
            232.17600000000002,
            208.04,
            401.28,
            234.99200000000002,
            203.84,
            139.99200000000002,
            177.312,
            197.05599999999998,
            173.76,
            244.36,
            50.06399999999999
           ],
           "yaxis": "y"
          }
         ],
         "name": "5"
        },
        {
         "data": [
          {
           "alignmentgroup": "True",
           "hovertemplate": "Step=6<br>Location=%{x}<br>Total Rainfall (mm)=%{text}<extra></extra>",
           "legendgroup": "",
           "marker": {
            "color": "#636efa",
            "pattern": {
             "shape": ""
            }
           },
           "name": "",
           "offsetgroup": "",
           "orientation": "v",
           "showlegend": false,
           "text": [
            145.6224,
            178.12800000000004,
            223.90079999999998,
            184.704,
            217.13279999999997,
            211.6704,
            254.496,
            400.32959999999997,
            638.3520000000001,
            230.352,
            162.768,
            477.93600000000004,
            199.34400000000002,
            541.728,
            485.7984,
            124.94400000000002,
            200.136,
            186.38400000000001,
            174.576,
            141.888,
            156.52800000000002,
            194.68800000000002,
            423.94559999999996,
            250.95840000000004,
            286.94399999999996,
            187.99199999999996,
            139.992,
            94.41599999999998,
            216.5568,
            120.912,
            102.04799999999999,
            238.5504,
            185.28,
            124.8,
            69.16799999999999,
            278.61120000000005,
            249.64800000000002,
            481.53600000000006,
            281.9904,
            244.60800000000003,
            167.99040000000002,
            212.7744,
            236.46720000000002,
            208.512,
            293.23199999999997,
            60.076800000000006
           ],
           "textposition": "auto",
           "type": "bar",
           "x": [
            "Adelaide",
            "Albany",
            "Albury",
            "AliceSprings",
            "BadgerysCreek",
            "Ballarat",
            "Bendigo",
            "Brisbane",
            "Cairns",
            "Canberra",
            "Cobar",
            "CoffsHarbour",
            "Dartmoor",
            "Darwin",
            "GoldCoast",
            "Hobart",
            "Launceston",
            "Melbourne",
            "MelbourneAirport",
            "Mildura",
            "Moree",
            "MountGambier",
            "MountGinini",
            "Newcastle",
            "NorahHead",
            "NorfolkIsland",
            "Nuriootpa",
            "PearceRAAF",
            "Penrith",
            "Perth",
            "PerthAirport",
            "Portland",
            "Richmond",
            "Sale",
            "SalmonGums",
            "Sydney",
            "SydneyAirport",
            "Townsville",
            "Tuggeranong",
            "WaggaWagga",
            "Walpole",
            "Watsonia",
            "Williamtown",
            "Witchcliffe",
            "Wollongong",
            "Woomera"
           ],
           "xaxis": "x",
           "y": [
            145.6224,
            178.12800000000004,
            223.90079999999998,
            184.704,
            217.13279999999997,
            211.6704,
            254.496,
            400.32959999999997,
            638.3520000000001,
            230.352,
            162.768,
            477.93600000000004,
            199.34400000000002,
            541.728,
            485.7984,
            124.94400000000002,
            200.136,
            186.38400000000001,
            174.576,
            141.888,
            156.52800000000002,
            194.68800000000002,
            423.94559999999996,
            250.95840000000004,
            286.94399999999996,
            187.99199999999996,
            139.992,
            94.41599999999998,
            216.5568,
            120.912,
            102.04799999999999,
            238.5504,
            185.28,
            124.8,
            69.16799999999999,
            278.61120000000005,
            249.64800000000002,
            481.53600000000006,
            281.9904,
            244.60800000000003,
            167.99040000000002,
            212.7744,
            236.46720000000002,
            208.512,
            293.23199999999997,
            60.076800000000006
           ],
           "yaxis": "y"
          }
         ],
         "name": "6"
        },
        {
         "data": [
          {
           "alignmentgroup": "True",
           "hovertemplate": "Step=7<br>Location=%{x}<br>Total Rainfall (mm)=%{text}<extra></extra>",
           "legendgroup": "",
           "marker": {
            "color": "#636efa",
            "pattern": {
             "shape": ""
            }
           },
           "name": "",
           "offsetgroup": "",
           "orientation": "v",
           "showlegend": false,
           "text": [
            169.8928,
            207.81600000000003,
            261.2176,
            215.488,
            253.3216,
            246.9488,
            296.91200000000003,
            467.05119999999994,
            744.7440000000001,
            268.744,
            189.89600000000002,
            557.5920000000001,
            232.56799999999998,
            632.016,
            566.7648,
            145.768,
            233.49200000000002,
            217.44799999999998,
            203.672,
            165.53600000000003,
            182.616,
            227.13600000000002,
            494.6032,
            292.7848,
            334.768,
            219.32399999999998,
            163.32399999999998,
            110.15199999999999,
            252.6496,
            141.064,
            119.056,
            278.3088,
            216.16,
            145.6,
            80.696,
            325.0464,
            291.25600000000003,
            561.792,
            328.9888,
            285.37600000000003,
            195.9888,
            248.23680000000002,
            275.8784,
            243.264,
            342.10400000000004,
            70.0896
           ],
           "textposition": "auto",
           "type": "bar",
           "x": [
            "Adelaide",
            "Albany",
            "Albury",
            "AliceSprings",
            "BadgerysCreek",
            "Ballarat",
            "Bendigo",
            "Brisbane",
            "Cairns",
            "Canberra",
            "Cobar",
            "CoffsHarbour",
            "Dartmoor",
            "Darwin",
            "GoldCoast",
            "Hobart",
            "Launceston",
            "Melbourne",
            "MelbourneAirport",
            "Mildura",
            "Moree",
            "MountGambier",
            "MountGinini",
            "Newcastle",
            "NorahHead",
            "NorfolkIsland",
            "Nuriootpa",
            "PearceRAAF",
            "Penrith",
            "Perth",
            "PerthAirport",
            "Portland",
            "Richmond",
            "Sale",
            "SalmonGums",
            "Sydney",
            "SydneyAirport",
            "Townsville",
            "Tuggeranong",
            "WaggaWagga",
            "Walpole",
            "Watsonia",
            "Williamtown",
            "Witchcliffe",
            "Wollongong",
            "Woomera"
           ],
           "xaxis": "x",
           "y": [
            169.8928,
            207.81600000000003,
            261.2176,
            215.488,
            253.3216,
            246.9488,
            296.91200000000003,
            467.05119999999994,
            744.7440000000001,
            268.744,
            189.89600000000002,
            557.5920000000001,
            232.56799999999998,
            632.016,
            566.7648,
            145.768,
            233.49200000000002,
            217.44799999999998,
            203.672,
            165.53600000000003,
            182.616,
            227.13600000000002,
            494.6032,
            292.7848,
            334.768,
            219.32399999999998,
            163.32399999999998,
            110.15199999999999,
            252.6496,
            141.064,
            119.056,
            278.3088,
            216.16,
            145.6,
            80.696,
            325.0464,
            291.25600000000003,
            561.792,
            328.9888,
            285.37600000000003,
            195.9888,
            248.23680000000002,
            275.8784,
            243.264,
            342.10400000000004,
            70.0896
           ],
           "yaxis": "y"
          }
         ],
         "name": "7"
        },
        {
         "data": [
          {
           "alignmentgroup": "True",
           "hovertemplate": "Step=8<br>Location=%{x}<br>Total Rainfall (mm)=%{text}<extra></extra>",
           "legendgroup": "",
           "marker": {
            "color": "#636efa",
            "pattern": {
             "shape": ""
            }
           },
           "name": "",
           "offsetgroup": "",
           "orientation": "v",
           "showlegend": false,
           "text": [
            194.1632,
            237.50400000000002,
            298.5344,
            246.27200000000002,
            289.5104,
            282.22720000000004,
            339.32800000000003,
            533.7728,
            851.1360000000001,
            307.136,
            217.024,
            637.248,
            265.79200000000003,
            722.304,
            647.7312000000001,
            166.592,
            266.848,
            248.512,
            232.768,
            189.18400000000003,
            208.704,
            259.584,
            565.2608,
            334.61120000000005,
            382.592,
            250.65599999999998,
            186.65599999999998,
            125.88799999999999,
            288.7424,
            161.216,
            136.064,
            318.0672,
            247.04,
            166.4,
            92.22399999999999,
            371.4816,
            332.86400000000003,
            642.048,
            375.98720000000003,
            326.144,
            223.9872,
            283.6992,
            315.2896,
            278.016,
            390.976,
            80.1024
           ],
           "textposition": "auto",
           "type": "bar",
           "x": [
            "Adelaide",
            "Albany",
            "Albury",
            "AliceSprings",
            "BadgerysCreek",
            "Ballarat",
            "Bendigo",
            "Brisbane",
            "Cairns",
            "Canberra",
            "Cobar",
            "CoffsHarbour",
            "Dartmoor",
            "Darwin",
            "GoldCoast",
            "Hobart",
            "Launceston",
            "Melbourne",
            "MelbourneAirport",
            "Mildura",
            "Moree",
            "MountGambier",
            "MountGinini",
            "Newcastle",
            "NorahHead",
            "NorfolkIsland",
            "Nuriootpa",
            "PearceRAAF",
            "Penrith",
            "Perth",
            "PerthAirport",
            "Portland",
            "Richmond",
            "Sale",
            "SalmonGums",
            "Sydney",
            "SydneyAirport",
            "Townsville",
            "Tuggeranong",
            "WaggaWagga",
            "Walpole",
            "Watsonia",
            "Williamtown",
            "Witchcliffe",
            "Wollongong",
            "Woomera"
           ],
           "xaxis": "x",
           "y": [
            194.1632,
            237.50400000000002,
            298.5344,
            246.27200000000002,
            289.5104,
            282.22720000000004,
            339.32800000000003,
            533.7728,
            851.1360000000001,
            307.136,
            217.024,
            637.248,
            265.79200000000003,
            722.304,
            647.7312000000001,
            166.592,
            266.848,
            248.512,
            232.768,
            189.18400000000003,
            208.704,
            259.584,
            565.2608,
            334.61120000000005,
            382.592,
            250.65599999999998,
            186.65599999999998,
            125.88799999999999,
            288.7424,
            161.216,
            136.064,
            318.0672,
            247.04,
            166.4,
            92.22399999999999,
            371.4816,
            332.86400000000003,
            642.048,
            375.98720000000003,
            326.144,
            223.9872,
            283.6992,
            315.2896,
            278.016,
            390.976,
            80.1024
           ],
           "yaxis": "y"
          }
         ],
         "name": "8"
        },
        {
         "data": [
          {
           "alignmentgroup": "True",
           "hovertemplate": "Step=9<br>Location=%{x}<br>Total Rainfall (mm)=%{text}<extra></extra>",
           "legendgroup": "",
           "marker": {
            "color": "#636efa",
            "pattern": {
             "shape": ""
            }
           },
           "name": "",
           "offsetgroup": "",
           "orientation": "v",
           "showlegend": false,
           "text": [
            218.4336,
            267.192,
            335.85119999999995,
            277.05600000000004,
            325.6992,
            317.5056,
            381.744,
            600.4944,
            957.528,
            345.528,
            244.15200000000002,
            716.9040000000001,
            299.016,
            812.592,
            728.6976000000001,
            187.41600000000003,
            300.20399999999995,
            279.576,
            261.864,
            212.832,
            234.792,
            292.032,
            635.9184,
            376.43760000000003,
            430.416,
            281.988,
            209.988,
            141.624,
            324.8352,
            181.368,
            153.072,
            357.82559999999995,
            277.92,
            187.2,
            103.752,
            417.9168000000001,
            374.47200000000004,
            722.3040000000001,
            422.9856,
            366.91200000000003,
            251.9856,
            319.1616,
            354.7008,
            312.76800000000003,
            439.84799999999996,
            90.1152
           ],
           "textposition": "auto",
           "type": "bar",
           "x": [
            "Adelaide",
            "Albany",
            "Albury",
            "AliceSprings",
            "BadgerysCreek",
            "Ballarat",
            "Bendigo",
            "Brisbane",
            "Cairns",
            "Canberra",
            "Cobar",
            "CoffsHarbour",
            "Dartmoor",
            "Darwin",
            "GoldCoast",
            "Hobart",
            "Launceston",
            "Melbourne",
            "MelbourneAirport",
            "Mildura",
            "Moree",
            "MountGambier",
            "MountGinini",
            "Newcastle",
            "NorahHead",
            "NorfolkIsland",
            "Nuriootpa",
            "PearceRAAF",
            "Penrith",
            "Perth",
            "PerthAirport",
            "Portland",
            "Richmond",
            "Sale",
            "SalmonGums",
            "Sydney",
            "SydneyAirport",
            "Townsville",
            "Tuggeranong",
            "WaggaWagga",
            "Walpole",
            "Watsonia",
            "Williamtown",
            "Witchcliffe",
            "Wollongong",
            "Woomera"
           ],
           "xaxis": "x",
           "y": [
            218.4336,
            267.192,
            335.85119999999995,
            277.05600000000004,
            325.6992,
            317.5056,
            381.744,
            600.4944,
            957.528,
            345.528,
            244.15200000000002,
            716.9040000000001,
            299.016,
            812.592,
            728.6976000000001,
            187.41600000000003,
            300.20399999999995,
            279.576,
            261.864,
            212.832,
            234.792,
            292.032,
            635.9184,
            376.43760000000003,
            430.416,
            281.988,
            209.988,
            141.624,
            324.8352,
            181.368,
            153.072,
            357.82559999999995,
            277.92,
            187.2,
            103.752,
            417.9168000000001,
            374.47200000000004,
            722.3040000000001,
            422.9856,
            366.91200000000003,
            251.9856,
            319.1616,
            354.7008,
            312.76800000000003,
            439.84799999999996,
            90.1152
           ],
           "yaxis": "y"
          }
         ],
         "name": "9"
        },
        {
         "data": [
          {
           "alignmentgroup": "True",
           "hovertemplate": "Step=10<br>Location=%{x}<br>Total Rainfall (mm)=%{text}<extra></extra>",
           "legendgroup": "",
           "marker": {
            "color": "#636efa",
            "pattern": {
             "shape": ""
            }
           },
           "name": "",
           "offsetgroup": "",
           "orientation": "v",
           "showlegend": false,
           "text": [
            242.704,
            296.88,
            373.16799999999995,
            307.84,
            361.88800000000003,
            352.784,
            424.16,
            667.216,
            1063.92,
            383.92,
            271.28,
            796.56,
            332.24,
            902.88,
            809.6640000000001,
            208.24,
            333.56,
            310.64,
            290.96,
            236.48,
            260.88,
            324.48,
            706.576,
            418.264,
            478.24,
            313.32,
            233.32,
            157.36,
            360.92799999999994,
            201.52,
            170.08,
            397.584,
            308.8,
            208,
            115.28,
            464.35200000000003,
            416.08,
            802.56,
            469.98400000000004,
            407.68,
            279.98400000000004,
            354.624,
            394.11199999999997,
            347.52,
            488.72,
            100.12799999999999
           ],
           "textposition": "auto",
           "type": "bar",
           "x": [
            "Adelaide",
            "Albany",
            "Albury",
            "AliceSprings",
            "BadgerysCreek",
            "Ballarat",
            "Bendigo",
            "Brisbane",
            "Cairns",
            "Canberra",
            "Cobar",
            "CoffsHarbour",
            "Dartmoor",
            "Darwin",
            "GoldCoast",
            "Hobart",
            "Launceston",
            "Melbourne",
            "MelbourneAirport",
            "Mildura",
            "Moree",
            "MountGambier",
            "MountGinini",
            "Newcastle",
            "NorahHead",
            "NorfolkIsland",
            "Nuriootpa",
            "PearceRAAF",
            "Penrith",
            "Perth",
            "PerthAirport",
            "Portland",
            "Richmond",
            "Sale",
            "SalmonGums",
            "Sydney",
            "SydneyAirport",
            "Townsville",
            "Tuggeranong",
            "WaggaWagga",
            "Walpole",
            "Watsonia",
            "Williamtown",
            "Witchcliffe",
            "Wollongong",
            "Woomera"
           ],
           "xaxis": "x",
           "y": [
            242.704,
            296.88,
            373.16799999999995,
            307.84,
            361.88800000000003,
            352.784,
            424.16,
            667.216,
            1063.92,
            383.92,
            271.28,
            796.56,
            332.24,
            902.88,
            809.6640000000001,
            208.24,
            333.56,
            310.64,
            290.96,
            236.48,
            260.88,
            324.48,
            706.576,
            418.264,
            478.24,
            313.32,
            233.32,
            157.36,
            360.92799999999994,
            201.52,
            170.08,
            397.584,
            308.8,
            208,
            115.28,
            464.35200000000003,
            416.08,
            802.56,
            469.98400000000004,
            407.68,
            279.98400000000004,
            354.624,
            394.11199999999997,
            347.52,
            488.72,
            100.12799999999999
           ],
           "yaxis": "y"
          }
         ],
         "name": "10"
        },
        {
         "data": [
          {
           "alignmentgroup": "True",
           "hovertemplate": "Step=11<br>Location=%{x}<br>Total Rainfall (mm)=%{text}<extra></extra>",
           "legendgroup": "",
           "marker": {
            "color": "#636efa",
            "pattern": {
             "shape": ""
            }
           },
           "name": "",
           "offsetgroup": "",
           "orientation": "v",
           "showlegend": false,
           "text": [
            266.9744,
            326.56800000000004,
            410.48479999999995,
            338.624,
            398.0768,
            388.0624,
            466.5760000000001,
            733.9376,
            1170.3120000000001,
            422.31200000000007,
            298.408,
            876.216,
            365.464,
            993.1679999999999,
            890.6304000000001,
            229.06400000000002,
            366.916,
            341.704,
            320.056,
            260.12800000000004,
            286.968,
            356.92800000000005,
            777.2336,
            460.0904,
            526.064,
            344.652,
            256.652,
            173.09599999999998,
            397.02079999999995,
            221.672,
            187.088,
            437.34240000000005,
            339.68,
            228.8,
            126.80799999999999,
            510.7872,
            457.68800000000005,
            882.816,
            516.9824000000001,
            448.44800000000004,
            307.98240000000004,
            390.08639999999997,
            433.5232,
            382.27200000000005,
            537.592,
            110.1408
           ],
           "textposition": "auto",
           "type": "bar",
           "x": [
            "Adelaide",
            "Albany",
            "Albury",
            "AliceSprings",
            "BadgerysCreek",
            "Ballarat",
            "Bendigo",
            "Brisbane",
            "Cairns",
            "Canberra",
            "Cobar",
            "CoffsHarbour",
            "Dartmoor",
            "Darwin",
            "GoldCoast",
            "Hobart",
            "Launceston",
            "Melbourne",
            "MelbourneAirport",
            "Mildura",
            "Moree",
            "MountGambier",
            "MountGinini",
            "Newcastle",
            "NorahHead",
            "NorfolkIsland",
            "Nuriootpa",
            "PearceRAAF",
            "Penrith",
            "Perth",
            "PerthAirport",
            "Portland",
            "Richmond",
            "Sale",
            "SalmonGums",
            "Sydney",
            "SydneyAirport",
            "Townsville",
            "Tuggeranong",
            "WaggaWagga",
            "Walpole",
            "Watsonia",
            "Williamtown",
            "Witchcliffe",
            "Wollongong",
            "Woomera"
           ],
           "xaxis": "x",
           "y": [
            266.9744,
            326.56800000000004,
            410.48479999999995,
            338.624,
            398.0768,
            388.0624,
            466.5760000000001,
            733.9376,
            1170.3120000000001,
            422.31200000000007,
            298.408,
            876.216,
            365.464,
            993.1679999999999,
            890.6304000000001,
            229.06400000000002,
            366.916,
            341.704,
            320.056,
            260.12800000000004,
            286.968,
            356.92800000000005,
            777.2336,
            460.0904,
            526.064,
            344.652,
            256.652,
            173.09599999999998,
            397.02079999999995,
            221.672,
            187.088,
            437.34240000000005,
            339.68,
            228.8,
            126.80799999999999,
            510.7872,
            457.68800000000005,
            882.816,
            516.9824000000001,
            448.44800000000004,
            307.98240000000004,
            390.08639999999997,
            433.5232,
            382.27200000000005,
            537.592,
            110.1408
           ],
           "yaxis": "y"
          }
         ],
         "name": "11"
        },
        {
         "data": [
          {
           "alignmentgroup": "True",
           "hovertemplate": "Step=12<br>Location=%{x}<br>Total Rainfall (mm)=%{text}<extra></extra>",
           "legendgroup": "",
           "marker": {
            "color": "#636efa",
            "pattern": {
             "shape": ""
            }
           },
           "name": "",
           "offsetgroup": "",
           "orientation": "v",
           "showlegend": false,
           "text": [
            291.2448,
            356.2560000000001,
            447.80159999999995,
            369.408,
            434.26559999999995,
            423.3408,
            508.992,
            800.6591999999999,
            1276.7040000000002,
            460.704,
            325.536,
            955.8720000000001,
            398.68800000000005,
            1083.456,
            971.5968,
            249.88800000000003,
            400.272,
            372.76800000000003,
            349.152,
            283.776,
            313.05600000000004,
            389.37600000000003,
            847.8911999999999,
            501.9168000000001,
            573.8879999999999,
            375.9839999999999,
            279.984,
            188.83199999999997,
            433.1136,
            241.824,
            204.09599999999998,
            477.1008,
            370.56,
            249.6,
            138.33599999999998,
            557.2224000000001,
            499.29600000000005,
            963.0720000000001,
            563.9808,
            489.21600000000007,
            335.98080000000004,
            425.5488,
            472.93440000000004,
            417.024,
            586.4639999999999,
            120.15360000000001
           ],
           "textposition": "auto",
           "type": "bar",
           "x": [
            "Adelaide",
            "Albany",
            "Albury",
            "AliceSprings",
            "BadgerysCreek",
            "Ballarat",
            "Bendigo",
            "Brisbane",
            "Cairns",
            "Canberra",
            "Cobar",
            "CoffsHarbour",
            "Dartmoor",
            "Darwin",
            "GoldCoast",
            "Hobart",
            "Launceston",
            "Melbourne",
            "MelbourneAirport",
            "Mildura",
            "Moree",
            "MountGambier",
            "MountGinini",
            "Newcastle",
            "NorahHead",
            "NorfolkIsland",
            "Nuriootpa",
            "PearceRAAF",
            "Penrith",
            "Perth",
            "PerthAirport",
            "Portland",
            "Richmond",
            "Sale",
            "SalmonGums",
            "Sydney",
            "SydneyAirport",
            "Townsville",
            "Tuggeranong",
            "WaggaWagga",
            "Walpole",
            "Watsonia",
            "Williamtown",
            "Witchcliffe",
            "Wollongong",
            "Woomera"
           ],
           "xaxis": "x",
           "y": [
            291.2448,
            356.2560000000001,
            447.80159999999995,
            369.408,
            434.26559999999995,
            423.3408,
            508.992,
            800.6591999999999,
            1276.7040000000002,
            460.704,
            325.536,
            955.8720000000001,
            398.68800000000005,
            1083.456,
            971.5968,
            249.88800000000003,
            400.272,
            372.76800000000003,
            349.152,
            283.776,
            313.05600000000004,
            389.37600000000003,
            847.8911999999999,
            501.9168000000001,
            573.8879999999999,
            375.9839999999999,
            279.984,
            188.83199999999997,
            433.1136,
            241.824,
            204.09599999999998,
            477.1008,
            370.56,
            249.6,
            138.33599999999998,
            557.2224000000001,
            499.29600000000005,
            963.0720000000001,
            563.9808,
            489.21600000000007,
            335.98080000000004,
            425.5488,
            472.93440000000004,
            417.024,
            586.4639999999999,
            120.15360000000001
           ],
           "yaxis": "y"
          }
         ],
         "name": "12"
        },
        {
         "data": [
          {
           "alignmentgroup": "True",
           "hovertemplate": "Step=13<br>Location=%{x}<br>Total Rainfall (mm)=%{text}<extra></extra>",
           "legendgroup": "",
           "marker": {
            "color": "#636efa",
            "pattern": {
             "shape": ""
            }
           },
           "name": "",
           "offsetgroup": "",
           "orientation": "v",
           "showlegend": false,
           "text": [
            315.5152,
            385.944,
            485.11839999999995,
            400.19200000000006,
            470.4544,
            458.6192,
            551.408,
            867.3808,
            1383.096,
            499.09600000000006,
            352.664,
            1035.528,
            431.91200000000003,
            1173.744,
            1052.5632,
            270.712,
            433.62799999999993,
            403.83200000000005,
            378.24799999999993,
            307.42400000000004,
            339.144,
            421.824,
            918.5488,
            543.7432000000001,
            621.712,
            407.316,
            303.316,
            204.56799999999998,
            469.2064,
            261.976,
            221.10399999999998,
            516.8592,
            401.44,
            270.4,
            149.864,
            603.6576000000001,
            540.904,
            1043.328,
            610.9792,
            529.984,
            363.9792,
            461.01120000000003,
            512.3456,
            451.77600000000007,
            635.336,
            130.16639999999998
           ],
           "textposition": "auto",
           "type": "bar",
           "x": [
            "Adelaide",
            "Albany",
            "Albury",
            "AliceSprings",
            "BadgerysCreek",
            "Ballarat",
            "Bendigo",
            "Brisbane",
            "Cairns",
            "Canberra",
            "Cobar",
            "CoffsHarbour",
            "Dartmoor",
            "Darwin",
            "GoldCoast",
            "Hobart",
            "Launceston",
            "Melbourne",
            "MelbourneAirport",
            "Mildura",
            "Moree",
            "MountGambier",
            "MountGinini",
            "Newcastle",
            "NorahHead",
            "NorfolkIsland",
            "Nuriootpa",
            "PearceRAAF",
            "Penrith",
            "Perth",
            "PerthAirport",
            "Portland",
            "Richmond",
            "Sale",
            "SalmonGums",
            "Sydney",
            "SydneyAirport",
            "Townsville",
            "Tuggeranong",
            "WaggaWagga",
            "Walpole",
            "Watsonia",
            "Williamtown",
            "Witchcliffe",
            "Wollongong",
            "Woomera"
           ],
           "xaxis": "x",
           "y": [
            315.5152,
            385.944,
            485.11839999999995,
            400.19200000000006,
            470.4544,
            458.6192,
            551.408,
            867.3808,
            1383.096,
            499.09600000000006,
            352.664,
            1035.528,
            431.91200000000003,
            1173.744,
            1052.5632,
            270.712,
            433.62799999999993,
            403.83200000000005,
            378.24799999999993,
            307.42400000000004,
            339.144,
            421.824,
            918.5488,
            543.7432000000001,
            621.712,
            407.316,
            303.316,
            204.56799999999998,
            469.2064,
            261.976,
            221.10399999999998,
            516.8592,
            401.44,
            270.4,
            149.864,
            603.6576000000001,
            540.904,
            1043.328,
            610.9792,
            529.984,
            363.9792,
            461.01120000000003,
            512.3456,
            451.77600000000007,
            635.336,
            130.16639999999998
           ],
           "yaxis": "y"
          }
         ],
         "name": "13"
        },
        {
         "data": [
          {
           "alignmentgroup": "True",
           "hovertemplate": "Step=14<br>Location=%{x}<br>Total Rainfall (mm)=%{text}<extra></extra>",
           "legendgroup": "",
           "marker": {
            "color": "#636efa",
            "pattern": {
             "shape": ""
            }
           },
           "name": "",
           "offsetgroup": "",
           "orientation": "v",
           "showlegend": false,
           "text": [
            339.7856,
            415.63200000000006,
            522.4352,
            430.976,
            506.6432,
            493.8976,
            593.8240000000001,
            934.1023999999999,
            1489.4880000000003,
            537.488,
            379.79200000000003,
            1115.1840000000002,
            465.13599999999997,
            1264.032,
            1133.5296,
            291.536,
            466.98400000000004,
            434.89599999999996,
            407.344,
            331.07200000000006,
            365.232,
            454.27200000000005,
            989.2064,
            585.5696,
            669.536,
            438.64799999999997,
            326.64799999999997,
            220.30399999999997,
            505.2992,
            282.128,
            238.112,
            556.6176,
            432.32,
            291.2,
            161.392,
            650.0928,
            582.5120000000001,
            1123.584,
            657.9776,
            570.7520000000001,
            391.9776,
            496.47360000000003,
            551.7568,
            486.528,
            684.2080000000001,
            140.1792
           ],
           "textposition": "auto",
           "type": "bar",
           "x": [
            "Adelaide",
            "Albany",
            "Albury",
            "AliceSprings",
            "BadgerysCreek",
            "Ballarat",
            "Bendigo",
            "Brisbane",
            "Cairns",
            "Canberra",
            "Cobar",
            "CoffsHarbour",
            "Dartmoor",
            "Darwin",
            "GoldCoast",
            "Hobart",
            "Launceston",
            "Melbourne",
            "MelbourneAirport",
            "Mildura",
            "Moree",
            "MountGambier",
            "MountGinini",
            "Newcastle",
            "NorahHead",
            "NorfolkIsland",
            "Nuriootpa",
            "PearceRAAF",
            "Penrith",
            "Perth",
            "PerthAirport",
            "Portland",
            "Richmond",
            "Sale",
            "SalmonGums",
            "Sydney",
            "SydneyAirport",
            "Townsville",
            "Tuggeranong",
            "WaggaWagga",
            "Walpole",
            "Watsonia",
            "Williamtown",
            "Witchcliffe",
            "Wollongong",
            "Woomera"
           ],
           "xaxis": "x",
           "y": [
            339.7856,
            415.63200000000006,
            522.4352,
            430.976,
            506.6432,
            493.8976,
            593.8240000000001,
            934.1023999999999,
            1489.4880000000003,
            537.488,
            379.79200000000003,
            1115.1840000000002,
            465.13599999999997,
            1264.032,
            1133.5296,
            291.536,
            466.98400000000004,
            434.89599999999996,
            407.344,
            331.07200000000006,
            365.232,
            454.27200000000005,
            989.2064,
            585.5696,
            669.536,
            438.64799999999997,
            326.64799999999997,
            220.30399999999997,
            505.2992,
            282.128,
            238.112,
            556.6176,
            432.32,
            291.2,
            161.392,
            650.0928,
            582.5120000000001,
            1123.584,
            657.9776,
            570.7520000000001,
            391.9776,
            496.47360000000003,
            551.7568,
            486.528,
            684.2080000000001,
            140.1792
           ],
           "yaxis": "y"
          }
         ],
         "name": "14"
        },
        {
         "data": [
          {
           "alignmentgroup": "True",
           "hovertemplate": "Step=15<br>Location=%{x}<br>Total Rainfall (mm)=%{text}<extra></extra>",
           "legendgroup": "",
           "marker": {
            "color": "#636efa",
            "pattern": {
             "shape": ""
            }
           },
           "name": "",
           "offsetgroup": "",
           "orientation": "v",
           "showlegend": false,
           "text": [
            364.056,
            445.32,
            559.752,
            461.76,
            542.832,
            529.176,
            636.2400000000001,
            1000.824,
            1595.88,
            575.8800000000001,
            406.92,
            1194.84,
            498.36,
            1354.32,
            1214.496,
            312.36,
            500.34,
            465.96,
            436.44,
            354.72,
            391.32,
            486.72,
            1059.864,
            627.3960000000001,
            717.36,
            469.98,
            349.98,
            236.04,
            541.3919999999999,
            302.28,
            255.12,
            596.3760000000001,
            463.2,
            312,
            172.92,
            696.528,
            624.12,
            1203.84,
            704.9760000000001,
            611.52,
            419.97600000000006,
            531.936,
            591.168,
            521.2800000000001,
            733.08,
            150.19199999999998
           ],
           "textposition": "auto",
           "type": "bar",
           "x": [
            "Adelaide",
            "Albany",
            "Albury",
            "AliceSprings",
            "BadgerysCreek",
            "Ballarat",
            "Bendigo",
            "Brisbane",
            "Cairns",
            "Canberra",
            "Cobar",
            "CoffsHarbour",
            "Dartmoor",
            "Darwin",
            "GoldCoast",
            "Hobart",
            "Launceston",
            "Melbourne",
            "MelbourneAirport",
            "Mildura",
            "Moree",
            "MountGambier",
            "MountGinini",
            "Newcastle",
            "NorahHead",
            "NorfolkIsland",
            "Nuriootpa",
            "PearceRAAF",
            "Penrith",
            "Perth",
            "PerthAirport",
            "Portland",
            "Richmond",
            "Sale",
            "SalmonGums",
            "Sydney",
            "SydneyAirport",
            "Townsville",
            "Tuggeranong",
            "WaggaWagga",
            "Walpole",
            "Watsonia",
            "Williamtown",
            "Witchcliffe",
            "Wollongong",
            "Woomera"
           ],
           "xaxis": "x",
           "y": [
            364.056,
            445.32,
            559.752,
            461.76,
            542.832,
            529.176,
            636.2400000000001,
            1000.824,
            1595.88,
            575.8800000000001,
            406.92,
            1194.84,
            498.36,
            1354.32,
            1214.496,
            312.36,
            500.34,
            465.96,
            436.44,
            354.72,
            391.32,
            486.72,
            1059.864,
            627.3960000000001,
            717.36,
            469.98,
            349.98,
            236.04,
            541.3919999999999,
            302.28,
            255.12,
            596.3760000000001,
            463.2,
            312,
            172.92,
            696.528,
            624.12,
            1203.84,
            704.9760000000001,
            611.52,
            419.97600000000006,
            531.936,
            591.168,
            521.2800000000001,
            733.08,
            150.19199999999998
           ],
           "yaxis": "y"
          }
         ],
         "name": "15"
        },
        {
         "data": [
          {
           "alignmentgroup": "True",
           "hovertemplate": "Step=16<br>Location=%{x}<br>Total Rainfall (mm)=%{text}<extra></extra>",
           "legendgroup": "",
           "marker": {
            "color": "#636efa",
            "pattern": {
             "shape": ""
            }
           },
           "name": "",
           "offsetgroup": "",
           "orientation": "v",
           "showlegend": false,
           "text": [
            388.3264,
            475.00800000000004,
            597.0688,
            492.54400000000004,
            579.0208,
            564.4544000000001,
            678.6560000000001,
            1067.5456,
            1702.2720000000002,
            614.272,
            434.048,
            1274.496,
            531.5840000000001,
            1444.608,
            1295.4624000000001,
            333.184,
            533.696,
            497.024,
            465.536,
            378.36800000000005,
            417.408,
            519.168,
            1130.5216,
            669.2224000000001,
            765.184,
            501.31199999999995,
            373.31199999999995,
            251.77599999999998,
            577.4848,
            322.432,
            272.128,
            636.1344,
            494.08,
            332.8,
            184.44799999999998,
            742.9632,
            665.7280000000001,
            1284.096,
            751.9744000000001,
            652.288,
            447.9744,
            567.3984,
            630.5792,
            556.032,
            781.952,
            160.2048
           ],
           "textposition": "auto",
           "type": "bar",
           "x": [
            "Adelaide",
            "Albany",
            "Albury",
            "AliceSprings",
            "BadgerysCreek",
            "Ballarat",
            "Bendigo",
            "Brisbane",
            "Cairns",
            "Canberra",
            "Cobar",
            "CoffsHarbour",
            "Dartmoor",
            "Darwin",
            "GoldCoast",
            "Hobart",
            "Launceston",
            "Melbourne",
            "MelbourneAirport",
            "Mildura",
            "Moree",
            "MountGambier",
            "MountGinini",
            "Newcastle",
            "NorahHead",
            "NorfolkIsland",
            "Nuriootpa",
            "PearceRAAF",
            "Penrith",
            "Perth",
            "PerthAirport",
            "Portland",
            "Richmond",
            "Sale",
            "SalmonGums",
            "Sydney",
            "SydneyAirport",
            "Townsville",
            "Tuggeranong",
            "WaggaWagga",
            "Walpole",
            "Watsonia",
            "Williamtown",
            "Witchcliffe",
            "Wollongong",
            "Woomera"
           ],
           "xaxis": "x",
           "y": [
            388.3264,
            475.00800000000004,
            597.0688,
            492.54400000000004,
            579.0208,
            564.4544000000001,
            678.6560000000001,
            1067.5456,
            1702.2720000000002,
            614.272,
            434.048,
            1274.496,
            531.5840000000001,
            1444.608,
            1295.4624000000001,
            333.184,
            533.696,
            497.024,
            465.536,
            378.36800000000005,
            417.408,
            519.168,
            1130.5216,
            669.2224000000001,
            765.184,
            501.31199999999995,
            373.31199999999995,
            251.77599999999998,
            577.4848,
            322.432,
            272.128,
            636.1344,
            494.08,
            332.8,
            184.44799999999998,
            742.9632,
            665.7280000000001,
            1284.096,
            751.9744000000001,
            652.288,
            447.9744,
            567.3984,
            630.5792,
            556.032,
            781.952,
            160.2048
           ],
           "yaxis": "y"
          }
         ],
         "name": "16"
        },
        {
         "data": [
          {
           "alignmentgroup": "True",
           "hovertemplate": "Step=17<br>Location=%{x}<br>Total Rainfall (mm)=%{text}<extra></extra>",
           "legendgroup": "",
           "marker": {
            "color": "#636efa",
            "pattern": {
             "shape": ""
            }
           },
           "name": "",
           "offsetgroup": "",
           "orientation": "v",
           "showlegend": false,
           "text": [
            412.59680000000003,
            504.6960000000001,
            634.3856,
            523.328,
            615.2096,
            599.7328,
            721.0720000000001,
            1134.2672,
            1808.6640000000002,
            652.664,
            461.17600000000004,
            1354.152,
            564.808,
            1534.8959999999997,
            1376.4288000000001,
            354.00800000000004,
            567.052,
            528.0880000000001,
            494.63199999999995,
            402.0160000000001,
            443.49600000000004,
            551.6160000000001,
            1201.1792,
            711.0488,
            813.0079999999999,
            532.6439999999999,
            396.64399999999995,
            267.51199999999994,
            613.5776,
            342.584,
            289.13599999999997,
            675.8928,
            524.96,
            353.6,
            195.976,
            789.3984000000002,
            707.336,
            1364.352,
            798.9728,
            693.056,
            475.9728,
            602.8608,
            669.9903999999999,
            590.784,
            830.824,
            170.21759999999998
           ],
           "textposition": "auto",
           "type": "bar",
           "x": [
            "Adelaide",
            "Albany",
            "Albury",
            "AliceSprings",
            "BadgerysCreek",
            "Ballarat",
            "Bendigo",
            "Brisbane",
            "Cairns",
            "Canberra",
            "Cobar",
            "CoffsHarbour",
            "Dartmoor",
            "Darwin",
            "GoldCoast",
            "Hobart",
            "Launceston",
            "Melbourne",
            "MelbourneAirport",
            "Mildura",
            "Moree",
            "MountGambier",
            "MountGinini",
            "Newcastle",
            "NorahHead",
            "NorfolkIsland",
            "Nuriootpa",
            "PearceRAAF",
            "Penrith",
            "Perth",
            "PerthAirport",
            "Portland",
            "Richmond",
            "Sale",
            "SalmonGums",
            "Sydney",
            "SydneyAirport",
            "Townsville",
            "Tuggeranong",
            "WaggaWagga",
            "Walpole",
            "Watsonia",
            "Williamtown",
            "Witchcliffe",
            "Wollongong",
            "Woomera"
           ],
           "xaxis": "x",
           "y": [
            412.59680000000003,
            504.6960000000001,
            634.3856,
            523.328,
            615.2096,
            599.7328,
            721.0720000000001,
            1134.2672,
            1808.6640000000002,
            652.664,
            461.17600000000004,
            1354.152,
            564.808,
            1534.8959999999997,
            1376.4288000000001,
            354.00800000000004,
            567.052,
            528.0880000000001,
            494.63199999999995,
            402.0160000000001,
            443.49600000000004,
            551.6160000000001,
            1201.1792,
            711.0488,
            813.0079999999999,
            532.6439999999999,
            396.64399999999995,
            267.51199999999994,
            613.5776,
            342.584,
            289.13599999999997,
            675.8928,
            524.96,
            353.6,
            195.976,
            789.3984000000002,
            707.336,
            1364.352,
            798.9728,
            693.056,
            475.9728,
            602.8608,
            669.9903999999999,
            590.784,
            830.824,
            170.21759999999998
           ],
           "yaxis": "y"
          }
         ],
         "name": "17"
        },
        {
         "data": [
          {
           "alignmentgroup": "True",
           "hovertemplate": "Step=18<br>Location=%{x}<br>Total Rainfall (mm)=%{text}<extra></extra>",
           "legendgroup": "",
           "marker": {
            "color": "#636efa",
            "pattern": {
             "shape": ""
            }
           },
           "name": "",
           "offsetgroup": "",
           "orientation": "v",
           "showlegend": false,
           "text": [
            436.8672,
            534.384,
            671.7023999999999,
            554.1120000000001,
            651.3984,
            635.0112,
            763.488,
            1200.9888,
            1915.056,
            691.056,
            488.30400000000003,
            1433.8080000000002,
            598.032,
            1625.184,
            1457.3952000000002,
            374.83200000000005,
            600.4079999999999,
            559.152,
            523.728,
            425.664,
            469.584,
            584.064,
            1271.8368,
            752.8752000000001,
            860.832,
            563.976,
            419.976,
            283.248,
            649.6704,
            362.736,
            306.144,
            715.6511999999999,
            555.84,
            374.4,
            207.504,
            835.8336000000002,
            748.9440000000001,
            1444.6080000000002,
            845.9712,
            733.8240000000001,
            503.9712,
            638.3232,
            709.4016,
            625.5360000000001,
            879.6959999999999,
            180.2304
           ],
           "textposition": "auto",
           "type": "bar",
           "x": [
            "Adelaide",
            "Albany",
            "Albury",
            "AliceSprings",
            "BadgerysCreek",
            "Ballarat",
            "Bendigo",
            "Brisbane",
            "Cairns",
            "Canberra",
            "Cobar",
            "CoffsHarbour",
            "Dartmoor",
            "Darwin",
            "GoldCoast",
            "Hobart",
            "Launceston",
            "Melbourne",
            "MelbourneAirport",
            "Mildura",
            "Moree",
            "MountGambier",
            "MountGinini",
            "Newcastle",
            "NorahHead",
            "NorfolkIsland",
            "Nuriootpa",
            "PearceRAAF",
            "Penrith",
            "Perth",
            "PerthAirport",
            "Portland",
            "Richmond",
            "Sale",
            "SalmonGums",
            "Sydney",
            "SydneyAirport",
            "Townsville",
            "Tuggeranong",
            "WaggaWagga",
            "Walpole",
            "Watsonia",
            "Williamtown",
            "Witchcliffe",
            "Wollongong",
            "Woomera"
           ],
           "xaxis": "x",
           "y": [
            436.8672,
            534.384,
            671.7023999999999,
            554.1120000000001,
            651.3984,
            635.0112,
            763.488,
            1200.9888,
            1915.056,
            691.056,
            488.30400000000003,
            1433.8080000000002,
            598.032,
            1625.184,
            1457.3952000000002,
            374.83200000000005,
            600.4079999999999,
            559.152,
            523.728,
            425.664,
            469.584,
            584.064,
            1271.8368,
            752.8752000000001,
            860.832,
            563.976,
            419.976,
            283.248,
            649.6704,
            362.736,
            306.144,
            715.6511999999999,
            555.84,
            374.4,
            207.504,
            835.8336000000002,
            748.9440000000001,
            1444.6080000000002,
            845.9712,
            733.8240000000001,
            503.9712,
            638.3232,
            709.4016,
            625.5360000000001,
            879.6959999999999,
            180.2304
           ],
           "yaxis": "y"
          }
         ],
         "name": "18"
        },
        {
         "data": [
          {
           "alignmentgroup": "True",
           "hovertemplate": "Step=19<br>Location=%{x}<br>Total Rainfall (mm)=%{text}<extra></extra>",
           "legendgroup": "",
           "marker": {
            "color": "#636efa",
            "pattern": {
             "shape": ""
            }
           },
           "name": "",
           "offsetgroup": "",
           "orientation": "v",
           "showlegend": false,
           "text": [
            461.1376,
            564.072,
            709.0192,
            584.896,
            687.5872,
            670.2896000000001,
            805.9040000000001,
            1267.7104,
            2021.448,
            729.448,
            515.432,
            1513.464,
            631.256,
            1715.4719999999998,
            1538.3616,
            395.656,
            633.764,
            590.216,
            552.8240000000001,
            449.31200000000007,
            495.672,
            616.5120000000001,
            1342.4944,
            794.7016,
            908.656,
            595.308,
            443.30799999999994,
            298.984,
            685.7631999999999,
            382.88800000000003,
            323.152,
            755.4096000000001,
            586.72,
            395.2,
            219.032,
            882.2688,
            790.552,
            1524.864,
            892.9696,
            774.592,
            531.9696,
            673.7855999999999,
            748.8128,
            660.288,
            928.568,
            190.2432
           ],
           "textposition": "auto",
           "type": "bar",
           "x": [
            "Adelaide",
            "Albany",
            "Albury",
            "AliceSprings",
            "BadgerysCreek",
            "Ballarat",
            "Bendigo",
            "Brisbane",
            "Cairns",
            "Canberra",
            "Cobar",
            "CoffsHarbour",
            "Dartmoor",
            "Darwin",
            "GoldCoast",
            "Hobart",
            "Launceston",
            "Melbourne",
            "MelbourneAirport",
            "Mildura",
            "Moree",
            "MountGambier",
            "MountGinini",
            "Newcastle",
            "NorahHead",
            "NorfolkIsland",
            "Nuriootpa",
            "PearceRAAF",
            "Penrith",
            "Perth",
            "PerthAirport",
            "Portland",
            "Richmond",
            "Sale",
            "SalmonGums",
            "Sydney",
            "SydneyAirport",
            "Townsville",
            "Tuggeranong",
            "WaggaWagga",
            "Walpole",
            "Watsonia",
            "Williamtown",
            "Witchcliffe",
            "Wollongong",
            "Woomera"
           ],
           "xaxis": "x",
           "y": [
            461.1376,
            564.072,
            709.0192,
            584.896,
            687.5872,
            670.2896000000001,
            805.9040000000001,
            1267.7104,
            2021.448,
            729.448,
            515.432,
            1513.464,
            631.256,
            1715.4719999999998,
            1538.3616,
            395.656,
            633.764,
            590.216,
            552.8240000000001,
            449.31200000000007,
            495.672,
            616.5120000000001,
            1342.4944,
            794.7016,
            908.656,
            595.308,
            443.30799999999994,
            298.984,
            685.7631999999999,
            382.88800000000003,
            323.152,
            755.4096000000001,
            586.72,
            395.2,
            219.032,
            882.2688,
            790.552,
            1524.864,
            892.9696,
            774.592,
            531.9696,
            673.7855999999999,
            748.8128,
            660.288,
            928.568,
            190.2432
           ],
           "yaxis": "y"
          }
         ],
         "name": "19"
        },
        {
         "data": [
          {
           "alignmentgroup": "True",
           "hovertemplate": "Step=20<br>Location=%{x}<br>Total Rainfall (mm)=%{text}<extra></extra>",
           "legendgroup": "",
           "marker": {
            "color": "#636efa",
            "pattern": {
             "shape": ""
            }
           },
           "name": "",
           "offsetgroup": "",
           "orientation": "v",
           "showlegend": false,
           "text": [
            485.408,
            593.76,
            746.3359999999999,
            615.68,
            723.7760000000001,
            705.568,
            848.32,
            1334.432,
            2127.84,
            767.84,
            542.56,
            1593.12,
            664.48,
            1805.76,
            1619.3280000000002,
            416.48,
            667.12,
            621.28,
            581.92,
            472.96,
            521.76,
            648.96,
            1413.152,
            836.528,
            956.48,
            626.64,
            466.64,
            314.72,
            721.8559999999999,
            403.04,
            340.16,
            795.168,
            617.6,
            416,
            230.56,
            928.7040000000001,
            832.16,
            1605.12,
            939.9680000000001,
            815.36,
            559.9680000000001,
            709.248,
            788.2239999999999,
            695.04,
            977.44,
            200.25599999999997
           ],
           "textposition": "auto",
           "type": "bar",
           "x": [
            "Adelaide",
            "Albany",
            "Albury",
            "AliceSprings",
            "BadgerysCreek",
            "Ballarat",
            "Bendigo",
            "Brisbane",
            "Cairns",
            "Canberra",
            "Cobar",
            "CoffsHarbour",
            "Dartmoor",
            "Darwin",
            "GoldCoast",
            "Hobart",
            "Launceston",
            "Melbourne",
            "MelbourneAirport",
            "Mildura",
            "Moree",
            "MountGambier",
            "MountGinini",
            "Newcastle",
            "NorahHead",
            "NorfolkIsland",
            "Nuriootpa",
            "PearceRAAF",
            "Penrith",
            "Perth",
            "PerthAirport",
            "Portland",
            "Richmond",
            "Sale",
            "SalmonGums",
            "Sydney",
            "SydneyAirport",
            "Townsville",
            "Tuggeranong",
            "WaggaWagga",
            "Walpole",
            "Watsonia",
            "Williamtown",
            "Witchcliffe",
            "Wollongong",
            "Woomera"
           ],
           "xaxis": "x",
           "y": [
            485.408,
            593.76,
            746.3359999999999,
            615.68,
            723.7760000000001,
            705.568,
            848.32,
            1334.432,
            2127.84,
            767.84,
            542.56,
            1593.12,
            664.48,
            1805.76,
            1619.3280000000002,
            416.48,
            667.12,
            621.28,
            581.92,
            472.96,
            521.76,
            648.96,
            1413.152,
            836.528,
            956.48,
            626.64,
            466.64,
            314.72,
            721.8559999999999,
            403.04,
            340.16,
            795.168,
            617.6,
            416,
            230.56,
            928.7040000000001,
            832.16,
            1605.12,
            939.9680000000001,
            815.36,
            559.9680000000001,
            709.248,
            788.2239999999999,
            695.04,
            977.44,
            200.25599999999997
           ],
           "yaxis": "y"
          }
         ],
         "name": "20"
        },
        {
         "data": [
          {
           "alignmentgroup": "True",
           "hovertemplate": "Step=21<br>Location=%{x}<br>Total Rainfall (mm)=%{text}<extra></extra>",
           "legendgroup": "",
           "marker": {
            "color": "#636efa",
            "pattern": {
             "shape": ""
            }
           },
           "name": "",
           "offsetgroup": "",
           "orientation": "v",
           "showlegend": false,
           "text": [
            509.67839999999995,
            623.448,
            783.6528,
            646.464,
            759.9648,
            740.8464,
            890.7360000000001,
            1401.1535999999999,
            2234.232,
            806.2320000000001,
            569.688,
            1672.776,
            697.7040000000001,
            1896.0479999999998,
            1700.2944,
            437.30400000000003,
            700.4759999999999,
            652.344,
            611.016,
            496.608,
            547.8480000000001,
            681.408,
            1483.8095999999998,
            878.3544,
            1004.304,
            657.972,
            489.972,
            330.45599999999996,
            757.9487999999999,
            423.19200000000006,
            357.16799999999995,
            834.9264,
            648.48,
            436.8,
            242.088,
            975.1392000000001,
            873.768,
            1685.376,
            986.9664,
            856.128,
            587.9664,
            744.7104,
            827.6352,
            729.7920000000001,
            1026.312,
            210.2688
           ],
           "textposition": "auto",
           "type": "bar",
           "x": [
            "Adelaide",
            "Albany",
            "Albury",
            "AliceSprings",
            "BadgerysCreek",
            "Ballarat",
            "Bendigo",
            "Brisbane",
            "Cairns",
            "Canberra",
            "Cobar",
            "CoffsHarbour",
            "Dartmoor",
            "Darwin",
            "GoldCoast",
            "Hobart",
            "Launceston",
            "Melbourne",
            "MelbourneAirport",
            "Mildura",
            "Moree",
            "MountGambier",
            "MountGinini",
            "Newcastle",
            "NorahHead",
            "NorfolkIsland",
            "Nuriootpa",
            "PearceRAAF",
            "Penrith",
            "Perth",
            "PerthAirport",
            "Portland",
            "Richmond",
            "Sale",
            "SalmonGums",
            "Sydney",
            "SydneyAirport",
            "Townsville",
            "Tuggeranong",
            "WaggaWagga",
            "Walpole",
            "Watsonia",
            "Williamtown",
            "Witchcliffe",
            "Wollongong",
            "Woomera"
           ],
           "xaxis": "x",
           "y": [
            509.67839999999995,
            623.448,
            783.6528,
            646.464,
            759.9648,
            740.8464,
            890.7360000000001,
            1401.1535999999999,
            2234.232,
            806.2320000000001,
            569.688,
            1672.776,
            697.7040000000001,
            1896.0479999999998,
            1700.2944,
            437.30400000000003,
            700.4759999999999,
            652.344,
            611.016,
            496.608,
            547.8480000000001,
            681.408,
            1483.8095999999998,
            878.3544,
            1004.304,
            657.972,
            489.972,
            330.45599999999996,
            757.9487999999999,
            423.19200000000006,
            357.16799999999995,
            834.9264,
            648.48,
            436.8,
            242.088,
            975.1392000000001,
            873.768,
            1685.376,
            986.9664,
            856.128,
            587.9664,
            744.7104,
            827.6352,
            729.7920000000001,
            1026.312,
            210.2688
           ],
           "yaxis": "y"
          }
         ],
         "name": "21"
        },
        {
         "data": [
          {
           "alignmentgroup": "True",
           "hovertemplate": "Step=22<br>Location=%{x}<br>Total Rainfall (mm)=%{text}<extra></extra>",
           "legendgroup": "",
           "marker": {
            "color": "#636efa",
            "pattern": {
             "shape": ""
            }
           },
           "name": "",
           "offsetgroup": "",
           "orientation": "v",
           "showlegend": false,
           "text": [
            533.9488,
            653.1360000000001,
            820.9695999999999,
            677.248,
            796.1536,
            776.1248,
            933.1520000000002,
            1467.8752,
            2340.6240000000003,
            844.6240000000001,
            596.816,
            1752.432,
            730.928,
            1986.3359999999998,
            1781.2608000000002,
            458.12800000000004,
            733.832,
            683.408,
            640.112,
            520.2560000000001,
            573.936,
            713.8560000000001,
            1554.4672,
            920.1808,
            1052.128,
            689.304,
            513.304,
            346.19199999999995,
            794.0415999999999,
            443.344,
            374.176,
            874.6848000000001,
            679.36,
            457.6,
            253.61599999999999,
            1021.5744,
            915.3760000000001,
            1765.632,
            1033.9648000000002,
            896.8960000000001,
            615.9648000000001,
            780.1727999999999,
            867.0464,
            764.5440000000001,
            1075.184,
            220.2816
           ],
           "textposition": "auto",
           "type": "bar",
           "x": [
            "Adelaide",
            "Albany",
            "Albury",
            "AliceSprings",
            "BadgerysCreek",
            "Ballarat",
            "Bendigo",
            "Brisbane",
            "Cairns",
            "Canberra",
            "Cobar",
            "CoffsHarbour",
            "Dartmoor",
            "Darwin",
            "GoldCoast",
            "Hobart",
            "Launceston",
            "Melbourne",
            "MelbourneAirport",
            "Mildura",
            "Moree",
            "MountGambier",
            "MountGinini",
            "Newcastle",
            "NorahHead",
            "NorfolkIsland",
            "Nuriootpa",
            "PearceRAAF",
            "Penrith",
            "Perth",
            "PerthAirport",
            "Portland",
            "Richmond",
            "Sale",
            "SalmonGums",
            "Sydney",
            "SydneyAirport",
            "Townsville",
            "Tuggeranong",
            "WaggaWagga",
            "Walpole",
            "Watsonia",
            "Williamtown",
            "Witchcliffe",
            "Wollongong",
            "Woomera"
           ],
           "xaxis": "x",
           "y": [
            533.9488,
            653.1360000000001,
            820.9695999999999,
            677.248,
            796.1536,
            776.1248,
            933.1520000000002,
            1467.8752,
            2340.6240000000003,
            844.6240000000001,
            596.816,
            1752.432,
            730.928,
            1986.3359999999998,
            1781.2608000000002,
            458.12800000000004,
            733.832,
            683.408,
            640.112,
            520.2560000000001,
            573.936,
            713.8560000000001,
            1554.4672,
            920.1808,
            1052.128,
            689.304,
            513.304,
            346.19199999999995,
            794.0415999999999,
            443.344,
            374.176,
            874.6848000000001,
            679.36,
            457.6,
            253.61599999999999,
            1021.5744,
            915.3760000000001,
            1765.632,
            1033.9648000000002,
            896.8960000000001,
            615.9648000000001,
            780.1727999999999,
            867.0464,
            764.5440000000001,
            1075.184,
            220.2816
           ],
           "yaxis": "y"
          }
         ],
         "name": "22"
        },
        {
         "data": [
          {
           "alignmentgroup": "True",
           "hovertemplate": "Step=23<br>Location=%{x}<br>Total Rainfall (mm)=%{text}<extra></extra>",
           "legendgroup": "",
           "marker": {
            "color": "#636efa",
            "pattern": {
             "shape": ""
            }
           },
           "name": "",
           "offsetgroup": "",
           "orientation": "v",
           "showlegend": false,
           "text": [
            558.2192,
            682.8240000000001,
            858.2864,
            708.0319999999999,
            832.3424,
            811.4032000000001,
            975.568,
            1534.5968,
            2447.016,
            883.0160000000001,
            623.944,
            1832.0880000000002,
            764.1519999999999,
            2076.624,
            1862.2272,
            478.95200000000006,
            767.188,
            714.472,
            669.2080000000001,
            543.904,
            600.024,
            746.3040000000001,
            1625.1248,
            962.0072,
            1099.952,
            720.636,
            536.636,
            361.92799999999994,
            830.1343999999999,
            463.496,
            391.184,
            914.4432,
            710.24,
            478.4,
            265.144,
            1068.0096,
            956.984,
            1845.8880000000001,
            1080.9632000000001,
            937.6640000000001,
            643.9632,
            815.6352,
            906.4576,
            799.296,
            1124.0559999999998,
            230.2944
           ],
           "textposition": "auto",
           "type": "bar",
           "x": [
            "Adelaide",
            "Albany",
            "Albury",
            "AliceSprings",
            "BadgerysCreek",
            "Ballarat",
            "Bendigo",
            "Brisbane",
            "Cairns",
            "Canberra",
            "Cobar",
            "CoffsHarbour",
            "Dartmoor",
            "Darwin",
            "GoldCoast",
            "Hobart",
            "Launceston",
            "Melbourne",
            "MelbourneAirport",
            "Mildura",
            "Moree",
            "MountGambier",
            "MountGinini",
            "Newcastle",
            "NorahHead",
            "NorfolkIsland",
            "Nuriootpa",
            "PearceRAAF",
            "Penrith",
            "Perth",
            "PerthAirport",
            "Portland",
            "Richmond",
            "Sale",
            "SalmonGums",
            "Sydney",
            "SydneyAirport",
            "Townsville",
            "Tuggeranong",
            "WaggaWagga",
            "Walpole",
            "Watsonia",
            "Williamtown",
            "Witchcliffe",
            "Wollongong",
            "Woomera"
           ],
           "xaxis": "x",
           "y": [
            558.2192,
            682.8240000000001,
            858.2864,
            708.0319999999999,
            832.3424,
            811.4032000000001,
            975.568,
            1534.5968,
            2447.016,
            883.0160000000001,
            623.944,
            1832.0880000000002,
            764.1519999999999,
            2076.624,
            1862.2272,
            478.95200000000006,
            767.188,
            714.472,
            669.2080000000001,
            543.904,
            600.024,
            746.3040000000001,
            1625.1248,
            962.0072,
            1099.952,
            720.636,
            536.636,
            361.92799999999994,
            830.1343999999999,
            463.496,
            391.184,
            914.4432,
            710.24,
            478.4,
            265.144,
            1068.0096,
            956.984,
            1845.8880000000001,
            1080.9632000000001,
            937.6640000000001,
            643.9632,
            815.6352,
            906.4576,
            799.296,
            1124.0559999999998,
            230.2944
           ],
           "yaxis": "y"
          }
         ],
         "name": "23"
        },
        {
         "data": [
          {
           "alignmentgroup": "True",
           "hovertemplate": "Step=24<br>Location=%{x}<br>Total Rainfall (mm)=%{text}<extra></extra>",
           "legendgroup": "",
           "marker": {
            "color": "#636efa",
            "pattern": {
             "shape": ""
            }
           },
           "name": "",
           "offsetgroup": "",
           "orientation": "v",
           "showlegend": false,
           "text": [
            582.4896,
            712.5120000000002,
            895.6031999999999,
            738.816,
            868.5311999999999,
            846.6816,
            1017.984,
            1601.3183999999999,
            2553.4080000000004,
            921.408,
            651.072,
            1911.7440000000001,
            797.3760000000001,
            2166.912,
            1943.1936,
            499.77600000000007,
            800.544,
            745.5360000000001,
            698.304,
            567.552,
            626.1120000000001,
            778.7520000000001,
            1695.7823999999998,
            1003.8336000000002,
            1147.7759999999998,
            751.9679999999998,
            559.968,
            377.66399999999993,
            866.2272,
            483.648,
            408.19199999999995,
            954.2016,
            741.12,
            499.2,
            276.67199999999997,
            1114.4448000000002,
            998.5920000000001,
            1926.1440000000002,
            1127.9616,
            978.4320000000001,
            671.9616000000001,
            851.0976,
            945.8688000000001,
            834.048,
            1172.9279999999999,
            240.30720000000002
           ],
           "textposition": "auto",
           "type": "bar",
           "x": [
            "Adelaide",
            "Albany",
            "Albury",
            "AliceSprings",
            "BadgerysCreek",
            "Ballarat",
            "Bendigo",
            "Brisbane",
            "Cairns",
            "Canberra",
            "Cobar",
            "CoffsHarbour",
            "Dartmoor",
            "Darwin",
            "GoldCoast",
            "Hobart",
            "Launceston",
            "Melbourne",
            "MelbourneAirport",
            "Mildura",
            "Moree",
            "MountGambier",
            "MountGinini",
            "Newcastle",
            "NorahHead",
            "NorfolkIsland",
            "Nuriootpa",
            "PearceRAAF",
            "Penrith",
            "Perth",
            "PerthAirport",
            "Portland",
            "Richmond",
            "Sale",
            "SalmonGums",
            "Sydney",
            "SydneyAirport",
            "Townsville",
            "Tuggeranong",
            "WaggaWagga",
            "Walpole",
            "Watsonia",
            "Williamtown",
            "Witchcliffe",
            "Wollongong",
            "Woomera"
           ],
           "xaxis": "x",
           "y": [
            582.4896,
            712.5120000000002,
            895.6031999999999,
            738.816,
            868.5311999999999,
            846.6816,
            1017.984,
            1601.3183999999999,
            2553.4080000000004,
            921.408,
            651.072,
            1911.7440000000001,
            797.3760000000001,
            2166.912,
            1943.1936,
            499.77600000000007,
            800.544,
            745.5360000000001,
            698.304,
            567.552,
            626.1120000000001,
            778.7520000000001,
            1695.7823999999998,
            1003.8336000000002,
            1147.7759999999998,
            751.9679999999998,
            559.968,
            377.66399999999993,
            866.2272,
            483.648,
            408.19199999999995,
            954.2016,
            741.12,
            499.2,
            276.67199999999997,
            1114.4448000000002,
            998.5920000000001,
            1926.1440000000002,
            1127.9616,
            978.4320000000001,
            671.9616000000001,
            851.0976,
            945.8688000000001,
            834.048,
            1172.9279999999999,
            240.30720000000002
           ],
           "yaxis": "y"
          }
         ],
         "name": "24"
        },
        {
         "data": [
          {
           "alignmentgroup": "True",
           "hovertemplate": "Step=25<br>Location=%{x}<br>Total Rainfall (mm)=%{text}<extra></extra>",
           "legendgroup": "",
           "marker": {
            "color": "#636efa",
            "pattern": {
             "shape": ""
            }
           },
           "name": "",
           "offsetgroup": "",
           "orientation": "v",
           "showlegend": false,
           "text": [
            606.76,
            742.2,
            932.92,
            769.6,
            904.72,
            881.96,
            1060.4,
            1668.04,
            2659.8,
            959.8,
            678.2,
            1991.4,
            830.6,
            2257.2,
            2024.16,
            520.6,
            833.9,
            776.6,
            727.4,
            591.2,
            652.2,
            811.2,
            1766.44,
            1045.66,
            1195.6,
            783.3,
            583.3,
            393.4,
            902.32,
            503.8,
            425.2,
            993.96,
            772,
            520,
            288.2,
            1160.88,
            1040.2,
            2006.4,
            1174.96,
            1019.2,
            699.96,
            886.56,
            985.28,
            868.8,
            1221.8,
            250.32
           ],
           "textposition": "auto",
           "type": "bar",
           "x": [
            "Adelaide",
            "Albany",
            "Albury",
            "AliceSprings",
            "BadgerysCreek",
            "Ballarat",
            "Bendigo",
            "Brisbane",
            "Cairns",
            "Canberra",
            "Cobar",
            "CoffsHarbour",
            "Dartmoor",
            "Darwin",
            "GoldCoast",
            "Hobart",
            "Launceston",
            "Melbourne",
            "MelbourneAirport",
            "Mildura",
            "Moree",
            "MountGambier",
            "MountGinini",
            "Newcastle",
            "NorahHead",
            "NorfolkIsland",
            "Nuriootpa",
            "PearceRAAF",
            "Penrith",
            "Perth",
            "PerthAirport",
            "Portland",
            "Richmond",
            "Sale",
            "SalmonGums",
            "Sydney",
            "SydneyAirport",
            "Townsville",
            "Tuggeranong",
            "WaggaWagga",
            "Walpole",
            "Watsonia",
            "Williamtown",
            "Witchcliffe",
            "Wollongong",
            "Woomera"
           ],
           "xaxis": "x",
           "y": [
            606.76,
            742.2,
            932.92,
            769.6,
            904.72,
            881.96,
            1060.4,
            1668.04,
            2659.8,
            959.8,
            678.2,
            1991.4,
            830.6,
            2257.2,
            2024.16,
            520.6,
            833.9,
            776.6,
            727.4,
            591.2,
            652.2,
            811.2,
            1766.44,
            1045.66,
            1195.6,
            783.3,
            583.3,
            393.4,
            902.32,
            503.8,
            425.2,
            993.96,
            772,
            520,
            288.2,
            1160.88,
            1040.2,
            2006.4,
            1174.96,
            1019.2,
            699.96,
            886.56,
            985.28,
            868.8,
            1221.8,
            250.32
           ],
           "yaxis": "y"
          }
         ],
         "name": "25"
        }
       ],
       "layout": {
        "barmode": "relative",
        "legend": {
         "tracegroupgap": 0
        },
        "showlegend": false,
        "sliders": [
         {
          "active": 0,
          "currentvalue": {
           "prefix": "Step="
          },
          "len": 0.9,
          "pad": {
           "b": 10,
           "t": 60
          },
          "steps": [
           {
            "args": [
             [
              "1"
             ],
             {
              "frame": {
               "duration": 0,
               "redraw": true
              },
              "fromcurrent": true,
              "mode": "immediate",
              "transition": {
               "duration": 0,
               "easing": "linear"
              }
             }
            ],
            "label": "1",
            "method": "animate"
           },
           {
            "args": [
             [
              "2"
             ],
             {
              "frame": {
               "duration": 0,
               "redraw": true
              },
              "fromcurrent": true,
              "mode": "immediate",
              "transition": {
               "duration": 0,
               "easing": "linear"
              }
             }
            ],
            "label": "2",
            "method": "animate"
           },
           {
            "args": [
             [
              "3"
             ],
             {
              "frame": {
               "duration": 0,
               "redraw": true
              },
              "fromcurrent": true,
              "mode": "immediate",
              "transition": {
               "duration": 0,
               "easing": "linear"
              }
             }
            ],
            "label": "3",
            "method": "animate"
           },
           {
            "args": [
             [
              "4"
             ],
             {
              "frame": {
               "duration": 0,
               "redraw": true
              },
              "fromcurrent": true,
              "mode": "immediate",
              "transition": {
               "duration": 0,
               "easing": "linear"
              }
             }
            ],
            "label": "4",
            "method": "animate"
           },
           {
            "args": [
             [
              "5"
             ],
             {
              "frame": {
               "duration": 0,
               "redraw": true
              },
              "fromcurrent": true,
              "mode": "immediate",
              "transition": {
               "duration": 0,
               "easing": "linear"
              }
             }
            ],
            "label": "5",
            "method": "animate"
           },
           {
            "args": [
             [
              "6"
             ],
             {
              "frame": {
               "duration": 0,
               "redraw": true
              },
              "fromcurrent": true,
              "mode": "immediate",
              "transition": {
               "duration": 0,
               "easing": "linear"
              }
             }
            ],
            "label": "6",
            "method": "animate"
           },
           {
            "args": [
             [
              "7"
             ],
             {
              "frame": {
               "duration": 0,
               "redraw": true
              },
              "fromcurrent": true,
              "mode": "immediate",
              "transition": {
               "duration": 0,
               "easing": "linear"
              }
             }
            ],
            "label": "7",
            "method": "animate"
           },
           {
            "args": [
             [
              "8"
             ],
             {
              "frame": {
               "duration": 0,
               "redraw": true
              },
              "fromcurrent": true,
              "mode": "immediate",
              "transition": {
               "duration": 0,
               "easing": "linear"
              }
             }
            ],
            "label": "8",
            "method": "animate"
           },
           {
            "args": [
             [
              "9"
             ],
             {
              "frame": {
               "duration": 0,
               "redraw": true
              },
              "fromcurrent": true,
              "mode": "immediate",
              "transition": {
               "duration": 0,
               "easing": "linear"
              }
             }
            ],
            "label": "9",
            "method": "animate"
           },
           {
            "args": [
             [
              "10"
             ],
             {
              "frame": {
               "duration": 0,
               "redraw": true
              },
              "fromcurrent": true,
              "mode": "immediate",
              "transition": {
               "duration": 0,
               "easing": "linear"
              }
             }
            ],
            "label": "10",
            "method": "animate"
           },
           {
            "args": [
             [
              "11"
             ],
             {
              "frame": {
               "duration": 0,
               "redraw": true
              },
              "fromcurrent": true,
              "mode": "immediate",
              "transition": {
               "duration": 0,
               "easing": "linear"
              }
             }
            ],
            "label": "11",
            "method": "animate"
           },
           {
            "args": [
             [
              "12"
             ],
             {
              "frame": {
               "duration": 0,
               "redraw": true
              },
              "fromcurrent": true,
              "mode": "immediate",
              "transition": {
               "duration": 0,
               "easing": "linear"
              }
             }
            ],
            "label": "12",
            "method": "animate"
           },
           {
            "args": [
             [
              "13"
             ],
             {
              "frame": {
               "duration": 0,
               "redraw": true
              },
              "fromcurrent": true,
              "mode": "immediate",
              "transition": {
               "duration": 0,
               "easing": "linear"
              }
             }
            ],
            "label": "13",
            "method": "animate"
           },
           {
            "args": [
             [
              "14"
             ],
             {
              "frame": {
               "duration": 0,
               "redraw": true
              },
              "fromcurrent": true,
              "mode": "immediate",
              "transition": {
               "duration": 0,
               "easing": "linear"
              }
             }
            ],
            "label": "14",
            "method": "animate"
           },
           {
            "args": [
             [
              "15"
             ],
             {
              "frame": {
               "duration": 0,
               "redraw": true
              },
              "fromcurrent": true,
              "mode": "immediate",
              "transition": {
               "duration": 0,
               "easing": "linear"
              }
             }
            ],
            "label": "15",
            "method": "animate"
           },
           {
            "args": [
             [
              "16"
             ],
             {
              "frame": {
               "duration": 0,
               "redraw": true
              },
              "fromcurrent": true,
              "mode": "immediate",
              "transition": {
               "duration": 0,
               "easing": "linear"
              }
             }
            ],
            "label": "16",
            "method": "animate"
           },
           {
            "args": [
             [
              "17"
             ],
             {
              "frame": {
               "duration": 0,
               "redraw": true
              },
              "fromcurrent": true,
              "mode": "immediate",
              "transition": {
               "duration": 0,
               "easing": "linear"
              }
             }
            ],
            "label": "17",
            "method": "animate"
           },
           {
            "args": [
             [
              "18"
             ],
             {
              "frame": {
               "duration": 0,
               "redraw": true
              },
              "fromcurrent": true,
              "mode": "immediate",
              "transition": {
               "duration": 0,
               "easing": "linear"
              }
             }
            ],
            "label": "18",
            "method": "animate"
           },
           {
            "args": [
             [
              "19"
             ],
             {
              "frame": {
               "duration": 0,
               "redraw": true
              },
              "fromcurrent": true,
              "mode": "immediate",
              "transition": {
               "duration": 0,
               "easing": "linear"
              }
             }
            ],
            "label": "19",
            "method": "animate"
           },
           {
            "args": [
             [
              "20"
             ],
             {
              "frame": {
               "duration": 0,
               "redraw": true
              },
              "fromcurrent": true,
              "mode": "immediate",
              "transition": {
               "duration": 0,
               "easing": "linear"
              }
             }
            ],
            "label": "20",
            "method": "animate"
           },
           {
            "args": [
             [
              "21"
             ],
             {
              "frame": {
               "duration": 0,
               "redraw": true
              },
              "fromcurrent": true,
              "mode": "immediate",
              "transition": {
               "duration": 0,
               "easing": "linear"
              }
             }
            ],
            "label": "21",
            "method": "animate"
           },
           {
            "args": [
             [
              "22"
             ],
             {
              "frame": {
               "duration": 0,
               "redraw": true
              },
              "fromcurrent": true,
              "mode": "immediate",
              "transition": {
               "duration": 0,
               "easing": "linear"
              }
             }
            ],
            "label": "22",
            "method": "animate"
           },
           {
            "args": [
             [
              "23"
             ],
             {
              "frame": {
               "duration": 0,
               "redraw": true
              },
              "fromcurrent": true,
              "mode": "immediate",
              "transition": {
               "duration": 0,
               "easing": "linear"
              }
             }
            ],
            "label": "23",
            "method": "animate"
           },
           {
            "args": [
             [
              "24"
             ],
             {
              "frame": {
               "duration": 0,
               "redraw": true
              },
              "fromcurrent": true,
              "mode": "immediate",
              "transition": {
               "duration": 0,
               "easing": "linear"
              }
             }
            ],
            "label": "24",
            "method": "animate"
           },
           {
            "args": [
             [
              "25"
             ],
             {
              "frame": {
               "duration": 0,
               "redraw": true
              },
              "fromcurrent": true,
              "mode": "immediate",
              "transition": {
               "duration": 0,
               "easing": "linear"
              }
             }
            ],
            "label": "25",
            "method": "animate"
           }
          ],
          "x": 0.1,
          "xanchor": "left",
          "y": 0,
          "yanchor": "top"
         }
        ],
        "template": {
         "data": {
          "bar": [
           {
            "error_x": {
             "color": "#2a3f5f"
            },
            "error_y": {
             "color": "#2a3f5f"
            },
            "marker": {
             "line": {
              "color": "#E5ECF6",
              "width": 0.5
             },
             "pattern": {
              "fillmode": "overlay",
              "size": 10,
              "solidity": 0.2
             }
            },
            "type": "bar"
           }
          ],
          "barpolar": [
           {
            "marker": {
             "line": {
              "color": "#E5ECF6",
              "width": 0.5
             },
             "pattern": {
              "fillmode": "overlay",
              "size": 10,
              "solidity": 0.2
             }
            },
            "type": "barpolar"
           }
          ],
          "carpet": [
           {
            "aaxis": {
             "endlinecolor": "#2a3f5f",
             "gridcolor": "white",
             "linecolor": "white",
             "minorgridcolor": "white",
             "startlinecolor": "#2a3f5f"
            },
            "baxis": {
             "endlinecolor": "#2a3f5f",
             "gridcolor": "white",
             "linecolor": "white",
             "minorgridcolor": "white",
             "startlinecolor": "#2a3f5f"
            },
            "type": "carpet"
           }
          ],
          "choropleth": [
           {
            "colorbar": {
             "outlinewidth": 0,
             "ticks": ""
            },
            "type": "choropleth"
           }
          ],
          "contour": [
           {
            "colorbar": {
             "outlinewidth": 0,
             "ticks": ""
            },
            "colorscale": [
             [
              0,
              "#0d0887"
             ],
             [
              0.1111111111111111,
              "#46039f"
             ],
             [
              0.2222222222222222,
              "#7201a8"
             ],
             [
              0.3333333333333333,
              "#9c179e"
             ],
             [
              0.4444444444444444,
              "#bd3786"
             ],
             [
              0.5555555555555556,
              "#d8576b"
             ],
             [
              0.6666666666666666,
              "#ed7953"
             ],
             [
              0.7777777777777778,
              "#fb9f3a"
             ],
             [
              0.8888888888888888,
              "#fdca26"
             ],
             [
              1,
              "#f0f921"
             ]
            ],
            "type": "contour"
           }
          ],
          "contourcarpet": [
           {
            "colorbar": {
             "outlinewidth": 0,
             "ticks": ""
            },
            "type": "contourcarpet"
           }
          ],
          "heatmap": [
           {
            "colorbar": {
             "outlinewidth": 0,
             "ticks": ""
            },
            "colorscale": [
             [
              0,
              "#0d0887"
             ],
             [
              0.1111111111111111,
              "#46039f"
             ],
             [
              0.2222222222222222,
              "#7201a8"
             ],
             [
              0.3333333333333333,
              "#9c179e"
             ],
             [
              0.4444444444444444,
              "#bd3786"
             ],
             [
              0.5555555555555556,
              "#d8576b"
             ],
             [
              0.6666666666666666,
              "#ed7953"
             ],
             [
              0.7777777777777778,
              "#fb9f3a"
             ],
             [
              0.8888888888888888,
              "#fdca26"
             ],
             [
              1,
              "#f0f921"
             ]
            ],
            "type": "heatmap"
           }
          ],
          "heatmapgl": [
           {
            "colorbar": {
             "outlinewidth": 0,
             "ticks": ""
            },
            "colorscale": [
             [
              0,
              "#0d0887"
             ],
             [
              0.1111111111111111,
              "#46039f"
             ],
             [
              0.2222222222222222,
              "#7201a8"
             ],
             [
              0.3333333333333333,
              "#9c179e"
             ],
             [
              0.4444444444444444,
              "#bd3786"
             ],
             [
              0.5555555555555556,
              "#d8576b"
             ],
             [
              0.6666666666666666,
              "#ed7953"
             ],
             [
              0.7777777777777778,
              "#fb9f3a"
             ],
             [
              0.8888888888888888,
              "#fdca26"
             ],
             [
              1,
              "#f0f921"
             ]
            ],
            "type": "heatmapgl"
           }
          ],
          "histogram": [
           {
            "marker": {
             "pattern": {
              "fillmode": "overlay",
              "size": 10,
              "solidity": 0.2
             }
            },
            "type": "histogram"
           }
          ],
          "histogram2d": [
           {
            "colorbar": {
             "outlinewidth": 0,
             "ticks": ""
            },
            "colorscale": [
             [
              0,
              "#0d0887"
             ],
             [
              0.1111111111111111,
              "#46039f"
             ],
             [
              0.2222222222222222,
              "#7201a8"
             ],
             [
              0.3333333333333333,
              "#9c179e"
             ],
             [
              0.4444444444444444,
              "#bd3786"
             ],
             [
              0.5555555555555556,
              "#d8576b"
             ],
             [
              0.6666666666666666,
              "#ed7953"
             ],
             [
              0.7777777777777778,
              "#fb9f3a"
             ],
             [
              0.8888888888888888,
              "#fdca26"
             ],
             [
              1,
              "#f0f921"
             ]
            ],
            "type": "histogram2d"
           }
          ],
          "histogram2dcontour": [
           {
            "colorbar": {
             "outlinewidth": 0,
             "ticks": ""
            },
            "colorscale": [
             [
              0,
              "#0d0887"
             ],
             [
              0.1111111111111111,
              "#46039f"
             ],
             [
              0.2222222222222222,
              "#7201a8"
             ],
             [
              0.3333333333333333,
              "#9c179e"
             ],
             [
              0.4444444444444444,
              "#bd3786"
             ],
             [
              0.5555555555555556,
              "#d8576b"
             ],
             [
              0.6666666666666666,
              "#ed7953"
             ],
             [
              0.7777777777777778,
              "#fb9f3a"
             ],
             [
              0.8888888888888888,
              "#fdca26"
             ],
             [
              1,
              "#f0f921"
             ]
            ],
            "type": "histogram2dcontour"
           }
          ],
          "mesh3d": [
           {
            "colorbar": {
             "outlinewidth": 0,
             "ticks": ""
            },
            "type": "mesh3d"
           }
          ],
          "parcoords": [
           {
            "line": {
             "colorbar": {
              "outlinewidth": 0,
              "ticks": ""
             }
            },
            "type": "parcoords"
           }
          ],
          "pie": [
           {
            "automargin": true,
            "type": "pie"
           }
          ],
          "scatter": [
           {
            "fillpattern": {
             "fillmode": "overlay",
             "size": 10,
             "solidity": 0.2
            },
            "type": "scatter"
           }
          ],
          "scatter3d": [
           {
            "line": {
             "colorbar": {
              "outlinewidth": 0,
              "ticks": ""
             }
            },
            "marker": {
             "colorbar": {
              "outlinewidth": 0,
              "ticks": ""
             }
            },
            "type": "scatter3d"
           }
          ],
          "scattercarpet": [
           {
            "marker": {
             "colorbar": {
              "outlinewidth": 0,
              "ticks": ""
             }
            },
            "type": "scattercarpet"
           }
          ],
          "scattergeo": [
           {
            "marker": {
             "colorbar": {
              "outlinewidth": 0,
              "ticks": ""
             }
            },
            "type": "scattergeo"
           }
          ],
          "scattergl": [
           {
            "marker": {
             "colorbar": {
              "outlinewidth": 0,
              "ticks": ""
             }
            },
            "type": "scattergl"
           }
          ],
          "scattermapbox": [
           {
            "marker": {
             "colorbar": {
              "outlinewidth": 0,
              "ticks": ""
             }
            },
            "type": "scattermapbox"
           }
          ],
          "scatterpolar": [
           {
            "marker": {
             "colorbar": {
              "outlinewidth": 0,
              "ticks": ""
             }
            },
            "type": "scatterpolar"
           }
          ],
          "scatterpolargl": [
           {
            "marker": {
             "colorbar": {
              "outlinewidth": 0,
              "ticks": ""
             }
            },
            "type": "scatterpolargl"
           }
          ],
          "scatterternary": [
           {
            "marker": {
             "colorbar": {
              "outlinewidth": 0,
              "ticks": ""
             }
            },
            "type": "scatterternary"
           }
          ],
          "surface": [
           {
            "colorbar": {
             "outlinewidth": 0,
             "ticks": ""
            },
            "colorscale": [
             [
              0,
              "#0d0887"
             ],
             [
              0.1111111111111111,
              "#46039f"
             ],
             [
              0.2222222222222222,
              "#7201a8"
             ],
             [
              0.3333333333333333,
              "#9c179e"
             ],
             [
              0.4444444444444444,
              "#bd3786"
             ],
             [
              0.5555555555555556,
              "#d8576b"
             ],
             [
              0.6666666666666666,
              "#ed7953"
             ],
             [
              0.7777777777777778,
              "#fb9f3a"
             ],
             [
              0.8888888888888888,
              "#fdca26"
             ],
             [
              1,
              "#f0f921"
             ]
            ],
            "type": "surface"
           }
          ],
          "table": [
           {
            "cells": {
             "fill": {
              "color": "#EBF0F8"
             },
             "line": {
              "color": "white"
             }
            },
            "header": {
             "fill": {
              "color": "#C8D4E3"
             },
             "line": {
              "color": "white"
             }
            },
            "type": "table"
           }
          ]
         },
         "layout": {
          "annotationdefaults": {
           "arrowcolor": "#2a3f5f",
           "arrowhead": 0,
           "arrowwidth": 1
          },
          "autotypenumbers": "strict",
          "coloraxis": {
           "colorbar": {
            "outlinewidth": 0,
            "ticks": ""
           }
          },
          "colorscale": {
           "diverging": [
            [
             0,
             "#8e0152"
            ],
            [
             0.1,
             "#c51b7d"
            ],
            [
             0.2,
             "#de77ae"
            ],
            [
             0.3,
             "#f1b6da"
            ],
            [
             0.4,
             "#fde0ef"
            ],
            [
             0.5,
             "#f7f7f7"
            ],
            [
             0.6,
             "#e6f5d0"
            ],
            [
             0.7,
             "#b8e186"
            ],
            [
             0.8,
             "#7fbc41"
            ],
            [
             0.9,
             "#4d9221"
            ],
            [
             1,
             "#276419"
            ]
           ],
           "sequential": [
            [
             0,
             "#0d0887"
            ],
            [
             0.1111111111111111,
             "#46039f"
            ],
            [
             0.2222222222222222,
             "#7201a8"
            ],
            [
             0.3333333333333333,
             "#9c179e"
            ],
            [
             0.4444444444444444,
             "#bd3786"
            ],
            [
             0.5555555555555556,
             "#d8576b"
            ],
            [
             0.6666666666666666,
             "#ed7953"
            ],
            [
             0.7777777777777778,
             "#fb9f3a"
            ],
            [
             0.8888888888888888,
             "#fdca26"
            ],
            [
             1,
             "#f0f921"
            ]
           ],
           "sequentialminus": [
            [
             0,
             "#0d0887"
            ],
            [
             0.1111111111111111,
             "#46039f"
            ],
            [
             0.2222222222222222,
             "#7201a8"
            ],
            [
             0.3333333333333333,
             "#9c179e"
            ],
            [
             0.4444444444444444,
             "#bd3786"
            ],
            [
             0.5555555555555556,
             "#d8576b"
            ],
            [
             0.6666666666666666,
             "#ed7953"
            ],
            [
             0.7777777777777778,
             "#fb9f3a"
            ],
            [
             0.8888888888888888,
             "#fdca26"
            ],
            [
             1,
             "#f0f921"
            ]
           ]
          },
          "colorway": [
           "#636efa",
           "#EF553B",
           "#00cc96",
           "#ab63fa",
           "#FFA15A",
           "#19d3f3",
           "#FF6692",
           "#B6E880",
           "#FF97FF",
           "#FECB52"
          ],
          "font": {
           "color": "#2a3f5f"
          },
          "geo": {
           "bgcolor": "white",
           "lakecolor": "white",
           "landcolor": "#E5ECF6",
           "showlakes": true,
           "showland": true,
           "subunitcolor": "white"
          },
          "hoverlabel": {
           "align": "left"
          },
          "hovermode": "closest",
          "mapbox": {
           "style": "light"
          },
          "paper_bgcolor": "white",
          "plot_bgcolor": "#E5ECF6",
          "polar": {
           "angularaxis": {
            "gridcolor": "white",
            "linecolor": "white",
            "ticks": ""
           },
           "bgcolor": "#E5ECF6",
           "radialaxis": {
            "gridcolor": "white",
            "linecolor": "white",
            "ticks": ""
           }
          },
          "scene": {
           "xaxis": {
            "backgroundcolor": "#E5ECF6",
            "gridcolor": "white",
            "gridwidth": 2,
            "linecolor": "white",
            "showbackground": true,
            "ticks": "",
            "zerolinecolor": "white"
           },
           "yaxis": {
            "backgroundcolor": "#E5ECF6",
            "gridcolor": "white",
            "gridwidth": 2,
            "linecolor": "white",
            "showbackground": true,
            "ticks": "",
            "zerolinecolor": "white"
           },
           "zaxis": {
            "backgroundcolor": "#E5ECF6",
            "gridcolor": "white",
            "gridwidth": 2,
            "linecolor": "white",
            "showbackground": true,
            "ticks": "",
            "zerolinecolor": "white"
           }
          },
          "shapedefaults": {
           "line": {
            "color": "#2a3f5f"
           }
          },
          "ternary": {
           "aaxis": {
            "gridcolor": "white",
            "linecolor": "white",
            "ticks": ""
           },
           "baxis": {
            "gridcolor": "white",
            "linecolor": "white",
            "ticks": ""
           },
           "bgcolor": "#E5ECF6",
           "caxis": {
            "gridcolor": "white",
            "linecolor": "white",
            "ticks": ""
           }
          },
          "title": {
           "x": 0.05
          },
          "xaxis": {
           "automargin": true,
           "gridcolor": "white",
           "linecolor": "white",
           "ticks": "",
           "title": {
            "standoff": 15
           },
           "zerolinecolor": "white",
           "zerolinewidth": 2
          },
          "yaxis": {
           "automargin": true,
           "gridcolor": "white",
           "linecolor": "white",
           "ticks": "",
           "title": {
            "standoff": 15
           },
           "zerolinecolor": "white",
           "zerolinewidth": 2
          }
         }
        },
        "title": {
         "text": "Total Rainfall by Location - Racing Animation"
        },
        "transition": {
         "duration": 100
        },
        "updatemenus": [
         {
          "buttons": [
           {
            "args": [
             null,
             {
              "frame": {
               "duration": 500,
               "redraw": true
              },
              "fromcurrent": true,
              "mode": "immediate",
              "transition": {
               "duration": 500,
               "easing": "linear"
              }
             }
            ],
            "label": "&#9654;",
            "method": "animate"
           },
           {
            "args": [
             [
              null
             ],
             {
              "frame": {
               "duration": 0,
               "redraw": true
              },
              "fromcurrent": true,
              "mode": "immediate",
              "transition": {
               "duration": 0,
               "easing": "linear"
              }
             }
            ],
            "label": "&#9724;",
            "method": "animate"
           }
          ],
          "direction": "left",
          "pad": {
           "r": 10,
           "t": 70
          },
          "showactive": false,
          "type": "buttons",
          "x": 0.1,
          "xanchor": "right",
          "y": 0,
          "yanchor": "top"
         }
        ],
        "xaxis": {
         "anchor": "y",
         "domain": [
          0,
          1
         ],
         "title": {
          "text": "Location"
         }
        },
        "yaxis": {
         "anchor": "x",
         "domain": [
          0,
          1
         ],
         "range": [
          0,
          2925.7800000000007
         ],
         "title": {
          "text": "Total Rainfall (mm)"
         }
        }
       }
      }
     },
     "metadata": {},
     "output_type": "display_data"
    },
    {
     "name": "stdout",
     "output_type": "stream",
     "text": [
      "Racing bar animations created!\n",
      "Basic version: racing_fig.show()\n",
      "Styled version: styled_racing_fig.show()\n"
     ]
    }
   ],
   "source": [
    "def create_racing_bars_animation(rainfall_data, steps=30):\n",
    "    \n",
    "    racing_data = []\n",
    "    \n",
    "    # Create data for each animation step\n",
    "    for step in range(1, steps + 1):\n",
    "        for _, row in rainfall_data.iterrows():\n",
    "            # Calculate current value as percentage of final value\n",
    "            current_rainfall = (row['Rainfall'] * step) / steps\n",
    "            \n",
    "            racing_data.append({\n",
    "                'Location': row['Location'],\n",
    "                'Rainfall': current_rainfall,\n",
    "                'Step': step\n",
    "            })\n",
    "    \n",
    "    racing_df = pd.DataFrame(racing_data)\n",
    "    \n",
    "    # Create the animated bar chart\n",
    "    fig = px.bar(\n",
    "        racing_df,\n",
    "        x=\"Location\",\n",
    "        y=\"Rainfall\",\n",
    "        animation_frame=\"Step\",\n",
    "        title=\"Total Rainfall by Location - Racing Animation\",\n",
    "        labels={'Rainfall': 'Total Rainfall (mm)'},\n",
    "        text='Rainfall'\n",
    "    )\n",
    "    \n",
    "    # Customize the animation\n",
    "    fig.update_traces(\n",
    "        texttemplate='%{text:.0f}',  # Show rounded values on bars\n",
    "        textposition='outside'\n",
    "    )\n",
    "    \n",
    "    fig.update_layout(\n",
    "        showlegend=False,\n",
    "        transition_duration=100,  # Fast transitions for smooth racing effect\n",
    "        yaxis=dict(range=[0, rainfall_data['Rainfall'].max() * 1.1])  # Fix y-axis\n",
    "    )\n",
    "    \n",
    "    return fig\n",
    "\n",
    "# Example usage with your original structure:\n",
    "# Assuming your rainfall_2010 DataFrame has 'Location' and 'Rainfall' columns\n",
    "\n",
    "# Create the racing animation\n",
    "racing_fig = create_racing_bars_animation(rainfall_2010, steps=25)\n",
    "\n",
    "# Show the chart\n",
    "racing_fig.show()\n",
    "\n",
    "# Alternative: More customized version with color and styling\n",
    "def create_styled_racing_bars(rainfall_data, steps=30):\n",
    "    \"\"\"Enhanced version with better styling\"\"\"\n",
    "    \n",
    "    racing_data = []\n",
    "    \n",
    "    for step in range(1, steps + 1):\n",
    "        for _, row in rainfall_data.iterrows():\n",
    "            current_rainfall = (row['Rainfall'] * step) / steps\n",
    "            \n",
    "            racing_data.append({\n",
    "                'Location': row['Location'],\n",
    "                'Rainfall': current_rainfall,\n",
    "                'Final_Value': row['Rainfall'],  # Keep track of final value for coloring\n",
    "                'Step': step\n",
    "            })\n",
    "    \n",
    "    racing_df = pd.DataFrame(racing_data)\n",
    "    \n",
    "    # Create chart with color based on final rainfall values\n",
    "    fig = px.bar(\n",
    "        racing_df,\n",
    "        x=\"Location\",\n",
    "        y=\"Rainfall\",\n",
    "        animation_frame=\"Step\",\n",
    "        color=\"Final_Value\",  # Color bars based on final values\n",
    "        color_continuous_scale=\"Blues\",\n",
    "        title=\"Total Rainfall by Location - Racing Animation\",\n",
    "        labels={'Rainfall': 'Total Rainfall (mm)', 'Final_Value': 'Final Rainfall'},\n",
    "        text='Rainfall'\n",
    "    )\n",
    "    \n",
    "    fig.update_traces(\n",
    "        texttemplate='%{text:.0f}',\n",
    "        textposition='outside'\n",
    "    )\n",
    "    \n",
    "    fig.update_layout(\n",
    "        showlegend=False,\n",
    "        transition_duration=80,\n",
    "        yaxis=dict(range=[0, rainfall_data['Rainfall'].max() * 1.15]),\n",
    "        coloraxis_showscale=False  # Hide color scale\n",
    "    )\n",
    "    \n",
    "    return fig\n",
    "\n",
    "# Create styled version\n",
    "styled_racing_fig = create_styled_racing_bars(rainfall_2010, steps=25)\n",
    "\n",
    "print(\"Racing bar animations created!\")\n",
    "print(\"Basic version: racing_fig.show()\")\n",
    "print(\"Styled version: styled_racing_fig.show()\")"
   ]
  },
  {
   "cell_type": "code",
   "execution_count": null,
   "id": "5f887997",
   "metadata": {},
   "outputs": [],
   "source": []
  }
 ],
 "metadata": {
  "kernelspec": {
   "display_name": "dev",
   "language": "python",
   "name": "python3"
  },
  "language_info": {
   "codemirror_mode": {
    "name": "ipython",
    "version": 3
   },
   "file_extension": ".py",
   "mimetype": "text/x-python",
   "name": "python",
   "nbconvert_exporter": "python",
   "pygments_lexer": "ipython3",
   "version": "3.10.14"
  }
 },
 "nbformat": 4,
 "nbformat_minor": 5
}
