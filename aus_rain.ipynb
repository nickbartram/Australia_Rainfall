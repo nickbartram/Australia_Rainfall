{
 "cells": [
  {
   "cell_type": "code",
   "execution_count": 1,
   "id": "3a822665",
   "metadata": {},
   "outputs": [],
   "source": [
    "import plotly.express as px\n",
    "import pandas as pd\n",
    "import os"
   ]
  },
  {
   "cell_type": "code",
   "execution_count": 2,
   "id": "8fdaf461",
   "metadata": {},
   "outputs": [
    {
     "name": "stdout",
     "output_type": "stream",
     "text": [
      "Warning: Looks like you're using an outdated `kagglehub` version, please consider updating (latest version: 0.3.12)\n",
      "Path to dataset files: C:\\Users\\nbart.DESKTOP-3OF7M8N\\.cache\\kagglehub\\datasets\\sandhyapalaniappan\\rainfall-prediction-dataset-cleaned-weatheraus\\versions\\1\n"
     ]
    }
   ],
   "source": [
    "import kagglehub\n",
    "\n",
    "# Download latest version\n",
    "path = kagglehub.dataset_download(\"sandhyapalaniappan/rainfall-prediction-dataset-cleaned-weatheraus\")\n",
    "\n",
    "print(\"Path to dataset files:\", path)"
   ]
  },
  {
   "cell_type": "code",
   "execution_count": 3,
   "id": "a89eff57",
   "metadata": {},
   "outputs": [
    {
     "data": {
      "text/plain": [
       "['weatherAUS_rainfall_prediction_dataset_cleaned.csv']"
      ]
     },
     "execution_count": 3,
     "metadata": {},
     "output_type": "execute_result"
    }
   ],
   "source": [
    "# Look inside the path folder\n",
    "files = os.listdir(path)\n",
    "files"
   ]
  },
  {
   "cell_type": "code",
   "execution_count": 4,
   "id": "22018781",
   "metadata": {},
   "outputs": [
    {
     "data": {
      "text/html": [
       "<div>\n",
       "<style scoped>\n",
       "    .dataframe tbody tr th:only-of-type {\n",
       "        vertical-align: middle;\n",
       "    }\n",
       "\n",
       "    .dataframe tbody tr th {\n",
       "        vertical-align: top;\n",
       "    }\n",
       "\n",
       "    .dataframe thead th {\n",
       "        text-align: right;\n",
       "    }\n",
       "</style>\n",
       "<table border=\"1\" class=\"dataframe\">\n",
       "  <thead>\n",
       "    <tr style=\"text-align: right;\">\n",
       "      <th></th>\n",
       "      <th>Date</th>\n",
       "      <th>Location</th>\n",
       "      <th>MinTemp</th>\n",
       "      <th>MaxTemp</th>\n",
       "      <th>Rainfall</th>\n",
       "      <th>Evaporation</th>\n",
       "      <th>Sunshine</th>\n",
       "      <th>WindGustDir</th>\n",
       "      <th>WindGustSpeed</th>\n",
       "      <th>WindDir9am</th>\n",
       "      <th>...</th>\n",
       "      <th>Humidity9am</th>\n",
       "      <th>Humidity3pm</th>\n",
       "      <th>Pressure9am</th>\n",
       "      <th>Pressure3pm</th>\n",
       "      <th>Cloud9am</th>\n",
       "      <th>Cloud3pm</th>\n",
       "      <th>Temp9am</th>\n",
       "      <th>Temp3pm</th>\n",
       "      <th>RainToday</th>\n",
       "      <th>RainTomorrow</th>\n",
       "    </tr>\n",
       "  </thead>\n",
       "  <tbody>\n",
       "    <tr>\n",
       "      <th>0</th>\n",
       "      <td>2010-04-30</td>\n",
       "      <td>Adelaide</td>\n",
       "      <td>10.8</td>\n",
       "      <td>21.2</td>\n",
       "      <td>0.0</td>\n",
       "      <td>1.8</td>\n",
       "      <td>6.60</td>\n",
       "      <td>ENE</td>\n",
       "      <td>22.0</td>\n",
       "      <td>ENE</td>\n",
       "      <td>...</td>\n",
       "      <td>66.0</td>\n",
       "      <td>48.0</td>\n",
       "      <td>1028.4</td>\n",
       "      <td>1024.7</td>\n",
       "      <td>4.45</td>\n",
       "      <td>4.51</td>\n",
       "      <td>15.7</td>\n",
       "      <td>21.0</td>\n",
       "      <td>No</td>\n",
       "      <td>No</td>\n",
       "    </tr>\n",
       "    <tr>\n",
       "      <th>1</th>\n",
       "      <td>2014-07-22</td>\n",
       "      <td>Adelaide</td>\n",
       "      <td>3.7</td>\n",
       "      <td>19.0</td>\n",
       "      <td>0.0</td>\n",
       "      <td>1.4</td>\n",
       "      <td>7.61</td>\n",
       "      <td>N</td>\n",
       "      <td>24.0</td>\n",
       "      <td>N</td>\n",
       "      <td>...</td>\n",
       "      <td>75.0</td>\n",
       "      <td>32.0</td>\n",
       "      <td>1024.2</td>\n",
       "      <td>1021.1</td>\n",
       "      <td>4.45</td>\n",
       "      <td>4.51</td>\n",
       "      <td>9.6</td>\n",
       "      <td>18.5</td>\n",
       "      <td>No</td>\n",
       "      <td>No</td>\n",
       "    </tr>\n",
       "    <tr>\n",
       "      <th>2</th>\n",
       "      <td>2014-07-23</td>\n",
       "      <td>Adelaide</td>\n",
       "      <td>9.6</td>\n",
       "      <td>15.8</td>\n",
       "      <td>0.0</td>\n",
       "      <td>2.6</td>\n",
       "      <td>7.61</td>\n",
       "      <td>NE</td>\n",
       "      <td>52.0</td>\n",
       "      <td>NNE</td>\n",
       "      <td>...</td>\n",
       "      <td>35.0</td>\n",
       "      <td>51.0</td>\n",
       "      <td>1017.9</td>\n",
       "      <td>1011.5</td>\n",
       "      <td>4.45</td>\n",
       "      <td>4.51</td>\n",
       "      <td>14.7</td>\n",
       "      <td>15.4</td>\n",
       "      <td>No</td>\n",
       "      <td>Yes</td>\n",
       "    </tr>\n",
       "    <tr>\n",
       "      <th>3</th>\n",
       "      <td>2014-07-24</td>\n",
       "      <td>Adelaide</td>\n",
       "      <td>10.1</td>\n",
       "      <td>15.5</td>\n",
       "      <td>16.6</td>\n",
       "      <td>0.8</td>\n",
       "      <td>7.61</td>\n",
       "      <td>NNE</td>\n",
       "      <td>50.0</td>\n",
       "      <td>NW</td>\n",
       "      <td>...</td>\n",
       "      <td>96.0</td>\n",
       "      <td>80.0</td>\n",
       "      <td>1007.4</td>\n",
       "      <td>1008.0</td>\n",
       "      <td>4.45</td>\n",
       "      <td>4.51</td>\n",
       "      <td>11.2</td>\n",
       "      <td>14.0</td>\n",
       "      <td>Yes</td>\n",
       "      <td>Yes</td>\n",
       "    </tr>\n",
       "    <tr>\n",
       "      <th>4</th>\n",
       "      <td>2014-07-25</td>\n",
       "      <td>Adelaide</td>\n",
       "      <td>11.2</td>\n",
       "      <td>16.2</td>\n",
       "      <td>1.8</td>\n",
       "      <td>0.6</td>\n",
       "      <td>7.61</td>\n",
       "      <td>NW</td>\n",
       "      <td>30.0</td>\n",
       "      <td>WNW</td>\n",
       "      <td>...</td>\n",
       "      <td>89.0</td>\n",
       "      <td>70.0</td>\n",
       "      <td>1018.4</td>\n",
       "      <td>1019.2</td>\n",
       "      <td>4.45</td>\n",
       "      <td>4.51</td>\n",
       "      <td>13.0</td>\n",
       "      <td>15.3</td>\n",
       "      <td>Yes</td>\n",
       "      <td>Yes</td>\n",
       "    </tr>\n",
       "  </tbody>\n",
       "</table>\n",
       "<p>5 rows × 23 columns</p>\n",
       "</div>"
      ],
      "text/plain": [
       "         Date  Location  MinTemp  MaxTemp  Rainfall  Evaporation  Sunshine  \\\n",
       "0  2010-04-30  Adelaide     10.8     21.2       0.0          1.8      6.60   \n",
       "1  2014-07-22  Adelaide      3.7     19.0       0.0          1.4      7.61   \n",
       "2  2014-07-23  Adelaide      9.6     15.8       0.0          2.6      7.61   \n",
       "3  2014-07-24  Adelaide     10.1     15.5      16.6          0.8      7.61   \n",
       "4  2014-07-25  Adelaide     11.2     16.2       1.8          0.6      7.61   \n",
       "\n",
       "  WindGustDir  WindGustSpeed WindDir9am  ... Humidity9am  Humidity3pm  \\\n",
       "0         ENE           22.0        ENE  ...        66.0         48.0   \n",
       "1           N           24.0          N  ...        75.0         32.0   \n",
       "2          NE           52.0        NNE  ...        35.0         51.0   \n",
       "3         NNE           50.0         NW  ...        96.0         80.0   \n",
       "4          NW           30.0        WNW  ...        89.0         70.0   \n",
       "\n",
       "   Pressure9am  Pressure3pm  Cloud9am  Cloud3pm  Temp9am  Temp3pm  RainToday  \\\n",
       "0       1028.4       1024.7      4.45      4.51     15.7     21.0         No   \n",
       "1       1024.2       1021.1      4.45      4.51      9.6     18.5         No   \n",
       "2       1017.9       1011.5      4.45      4.51     14.7     15.4         No   \n",
       "3       1007.4       1008.0      4.45      4.51     11.2     14.0        Yes   \n",
       "4       1018.4       1019.2      4.45      4.51     13.0     15.3        Yes   \n",
       "\n",
       "   RainTomorrow  \n",
       "0            No  \n",
       "1            No  \n",
       "2           Yes  \n",
       "3           Yes  \n",
       "4           Yes  \n",
       "\n",
       "[5 rows x 23 columns]"
      ]
     },
     "execution_count": 4,
     "metadata": {},
     "output_type": "execute_result"
    }
   ],
   "source": [
    "# Get the csv\n",
    "df = pd.read_csv(path + \"/weatherAUS_rainfall_prediction_dataset_cleaned.csv\")\n",
    "df.head()"
   ]
  },
  {
   "cell_type": "code",
   "execution_count": 5,
   "id": "1e61f049",
   "metadata": {},
   "outputs": [
    {
     "name": "stdout",
     "output_type": "stream",
     "text": [
      "<class 'pandas.core.frame.DataFrame'>\n",
      "RangeIndex: 145460 entries, 0 to 145459\n",
      "Data columns (total 23 columns):\n",
      " #   Column         Non-Null Count   Dtype  \n",
      "---  ------         --------------   -----  \n",
      " 0   Date           145460 non-null  object \n",
      " 1   Location       145460 non-null  object \n",
      " 2   MinTemp        145460 non-null  float64\n",
      " 3   MaxTemp        145460 non-null  float64\n",
      " 4   Rainfall       145460 non-null  float64\n",
      " 5   Evaporation    145460 non-null  float64\n",
      " 6   Sunshine       145460 non-null  float64\n",
      " 7   WindGustDir    145460 non-null  object \n",
      " 8   WindGustSpeed  145460 non-null  float64\n",
      " 9   WindDir9am     145460 non-null  object \n",
      " 10  WindDir3pm     145460 non-null  object \n",
      " 11  WindSpeed9am   145460 non-null  float64\n",
      " 12  WindSpeed3pm   145460 non-null  float64\n",
      " 13  Humidity9am    145460 non-null  float64\n",
      " 14  Humidity3pm    145460 non-null  float64\n",
      " 15  Pressure9am    145460 non-null  float64\n",
      " 16  Pressure3pm    145460 non-null  float64\n",
      " 17  Cloud9am       145460 non-null  float64\n",
      " 18  Cloud3pm       145460 non-null  float64\n",
      " 19  Temp9am        145460 non-null  float64\n",
      " 20  Temp3pm        145460 non-null  float64\n",
      " 21  RainToday      145460 non-null  object \n",
      " 22  RainTomorrow   145460 non-null  object \n",
      "dtypes: float64(16), object(7)\n",
      "memory usage: 25.5+ MB\n"
     ]
    }
   ],
   "source": [
    "# Check df info\n",
    "df.info()"
   ]
  },
  {
   "cell_type": "code",
   "execution_count": 6,
   "id": "812b6842",
   "metadata": {},
   "outputs": [
    {
     "data": {
      "text/html": [
       "<div>\n",
       "<style scoped>\n",
       "    .dataframe tbody tr th:only-of-type {\n",
       "        vertical-align: middle;\n",
       "    }\n",
       "\n",
       "    .dataframe tbody tr th {\n",
       "        vertical-align: top;\n",
       "    }\n",
       "\n",
       "    .dataframe thead th {\n",
       "        text-align: right;\n",
       "    }\n",
       "</style>\n",
       "<table border=\"1\" class=\"dataframe\">\n",
       "  <thead>\n",
       "    <tr style=\"text-align: right;\">\n",
       "      <th></th>\n",
       "      <th>MinTemp</th>\n",
       "      <th>MaxTemp</th>\n",
       "      <th>Rainfall</th>\n",
       "      <th>Evaporation</th>\n",
       "      <th>Sunshine</th>\n",
       "      <th>WindGustSpeed</th>\n",
       "      <th>WindSpeed9am</th>\n",
       "      <th>WindSpeed3pm</th>\n",
       "      <th>Humidity9am</th>\n",
       "      <th>Humidity3pm</th>\n",
       "      <th>Pressure9am</th>\n",
       "      <th>Pressure3pm</th>\n",
       "      <th>Cloud9am</th>\n",
       "      <th>Cloud3pm</th>\n",
       "      <th>Temp9am</th>\n",
       "      <th>Temp3pm</th>\n",
       "    </tr>\n",
       "  </thead>\n",
       "  <tbody>\n",
       "    <tr>\n",
       "      <th>count</th>\n",
       "      <td>145460.000000</td>\n",
       "      <td>145460.000000</td>\n",
       "      <td>145460.000000</td>\n",
       "      <td>145460.000000</td>\n",
       "      <td>145460.000000</td>\n",
       "      <td>145460.000000</td>\n",
       "      <td>145460.000000</td>\n",
       "      <td>145460.000000</td>\n",
       "      <td>145460.000000</td>\n",
       "      <td>145460.000000</td>\n",
       "      <td>145460.000000</td>\n",
       "      <td>145460.000000</td>\n",
       "      <td>145460.000000</td>\n",
       "      <td>145460.000000</td>\n",
       "      <td>145460.000000</td>\n",
       "      <td>145460.000000</td>\n",
       "    </tr>\n",
       "    <tr>\n",
       "      <th>mean</th>\n",
       "      <td>12.193993</td>\n",
       "      <td>23.221337</td>\n",
       "      <td>2.360898</td>\n",
       "      <td>5.468995</td>\n",
       "      <td>7.610612</td>\n",
       "      <td>40.035567</td>\n",
       "      <td>14.043384</td>\n",
       "      <td>18.662601</td>\n",
       "      <td>68.880816</td>\n",
       "      <td>51.539143</td>\n",
       "      <td>1017.649946</td>\n",
       "      <td>1015.256314</td>\n",
       "      <td>4.448437</td>\n",
       "      <td>4.509959</td>\n",
       "      <td>16.990624</td>\n",
       "      <td>21.683306</td>\n",
       "    </tr>\n",
       "    <tr>\n",
       "      <th>std</th>\n",
       "      <td>6.365750</td>\n",
       "      <td>7.088124</td>\n",
       "      <td>8.382488</td>\n",
       "      <td>3.161541</td>\n",
       "      <td>2.729486</td>\n",
       "      <td>13.118253</td>\n",
       "      <td>8.861059</td>\n",
       "      <td>8.716581</td>\n",
       "      <td>18.854765</td>\n",
       "      <td>20.471189</td>\n",
       "      <td>6.728467</td>\n",
       "      <td>6.663973</td>\n",
       "      <td>2.265605</td>\n",
       "      <td>2.092954</td>\n",
       "      <td>6.449221</td>\n",
       "      <td>6.850057</td>\n",
       "    </tr>\n",
       "    <tr>\n",
       "      <th>min</th>\n",
       "      <td>-8.500000</td>\n",
       "      <td>-4.800000</td>\n",
       "      <td>0.000000</td>\n",
       "      <td>0.000000</td>\n",
       "      <td>0.000000</td>\n",
       "      <td>6.000000</td>\n",
       "      <td>0.000000</td>\n",
       "      <td>0.000000</td>\n",
       "      <td>0.000000</td>\n",
       "      <td>0.000000</td>\n",
       "      <td>980.500000</td>\n",
       "      <td>977.100000</td>\n",
       "      <td>0.000000</td>\n",
       "      <td>0.000000</td>\n",
       "      <td>-7.200000</td>\n",
       "      <td>-5.400000</td>\n",
       "    </tr>\n",
       "    <tr>\n",
       "      <th>25%</th>\n",
       "      <td>7.700000</td>\n",
       "      <td>18.000000</td>\n",
       "      <td>0.000000</td>\n",
       "      <td>4.000000</td>\n",
       "      <td>7.610000</td>\n",
       "      <td>31.000000</td>\n",
       "      <td>7.000000</td>\n",
       "      <td>13.000000</td>\n",
       "      <td>57.000000</td>\n",
       "      <td>37.000000</td>\n",
       "      <td>1013.500000</td>\n",
       "      <td>1011.100000</td>\n",
       "      <td>3.000000</td>\n",
       "      <td>4.000000</td>\n",
       "      <td>12.300000</td>\n",
       "      <td>16.700000</td>\n",
       "    </tr>\n",
       "    <tr>\n",
       "      <th>50%</th>\n",
       "      <td>12.100000</td>\n",
       "      <td>22.700000</td>\n",
       "      <td>0.000000</td>\n",
       "      <td>5.470000</td>\n",
       "      <td>7.610000</td>\n",
       "      <td>39.000000</td>\n",
       "      <td>13.000000</td>\n",
       "      <td>18.660000</td>\n",
       "      <td>69.000000</td>\n",
       "      <td>51.540000</td>\n",
       "      <td>1017.650000</td>\n",
       "      <td>1015.260000</td>\n",
       "      <td>4.450000</td>\n",
       "      <td>4.510000</td>\n",
       "      <td>16.800000</td>\n",
       "      <td>21.400000</td>\n",
       "    </tr>\n",
       "    <tr>\n",
       "      <th>75%</th>\n",
       "      <td>16.800000</td>\n",
       "      <td>28.200000</td>\n",
       "      <td>1.000000</td>\n",
       "      <td>5.470000</td>\n",
       "      <td>8.700000</td>\n",
       "      <td>46.000000</td>\n",
       "      <td>19.000000</td>\n",
       "      <td>24.000000</td>\n",
       "      <td>83.000000</td>\n",
       "      <td>65.000000</td>\n",
       "      <td>1021.800000</td>\n",
       "      <td>1019.400000</td>\n",
       "      <td>6.000000</td>\n",
       "      <td>6.000000</td>\n",
       "      <td>21.500000</td>\n",
       "      <td>26.200000</td>\n",
       "    </tr>\n",
       "    <tr>\n",
       "      <th>max</th>\n",
       "      <td>33.900000</td>\n",
       "      <td>48.100000</td>\n",
       "      <td>371.000000</td>\n",
       "      <td>145.000000</td>\n",
       "      <td>14.500000</td>\n",
       "      <td>135.000000</td>\n",
       "      <td>130.000000</td>\n",
       "      <td>87.000000</td>\n",
       "      <td>100.000000</td>\n",
       "      <td>100.000000</td>\n",
       "      <td>1041.000000</td>\n",
       "      <td>1039.600000</td>\n",
       "      <td>9.000000</td>\n",
       "      <td>9.000000</td>\n",
       "      <td>40.200000</td>\n",
       "      <td>46.700000</td>\n",
       "    </tr>\n",
       "  </tbody>\n",
       "</table>\n",
       "</div>"
      ],
      "text/plain": [
       "             MinTemp        MaxTemp       Rainfall    Evaporation  \\\n",
       "count  145460.000000  145460.000000  145460.000000  145460.000000   \n",
       "mean       12.193993      23.221337       2.360898       5.468995   \n",
       "std         6.365750       7.088124       8.382488       3.161541   \n",
       "min        -8.500000      -4.800000       0.000000       0.000000   \n",
       "25%         7.700000      18.000000       0.000000       4.000000   \n",
       "50%        12.100000      22.700000       0.000000       5.470000   \n",
       "75%        16.800000      28.200000       1.000000       5.470000   \n",
       "max        33.900000      48.100000     371.000000     145.000000   \n",
       "\n",
       "            Sunshine  WindGustSpeed   WindSpeed9am   WindSpeed3pm  \\\n",
       "count  145460.000000  145460.000000  145460.000000  145460.000000   \n",
       "mean        7.610612      40.035567      14.043384      18.662601   \n",
       "std         2.729486      13.118253       8.861059       8.716581   \n",
       "min         0.000000       6.000000       0.000000       0.000000   \n",
       "25%         7.610000      31.000000       7.000000      13.000000   \n",
       "50%         7.610000      39.000000      13.000000      18.660000   \n",
       "75%         8.700000      46.000000      19.000000      24.000000   \n",
       "max        14.500000     135.000000     130.000000      87.000000   \n",
       "\n",
       "         Humidity9am    Humidity3pm    Pressure9am    Pressure3pm  \\\n",
       "count  145460.000000  145460.000000  145460.000000  145460.000000   \n",
       "mean       68.880816      51.539143    1017.649946    1015.256314   \n",
       "std        18.854765      20.471189       6.728467       6.663973   \n",
       "min         0.000000       0.000000     980.500000     977.100000   \n",
       "25%        57.000000      37.000000    1013.500000    1011.100000   \n",
       "50%        69.000000      51.540000    1017.650000    1015.260000   \n",
       "75%        83.000000      65.000000    1021.800000    1019.400000   \n",
       "max       100.000000     100.000000    1041.000000    1039.600000   \n",
       "\n",
       "            Cloud9am       Cloud3pm        Temp9am        Temp3pm  \n",
       "count  145460.000000  145460.000000  145460.000000  145460.000000  \n",
       "mean        4.448437       4.509959      16.990624      21.683306  \n",
       "std         2.265605       2.092954       6.449221       6.850057  \n",
       "min         0.000000       0.000000      -7.200000      -5.400000  \n",
       "25%         3.000000       4.000000      12.300000      16.700000  \n",
       "50%         4.450000       4.510000      16.800000      21.400000  \n",
       "75%         6.000000       6.000000      21.500000      26.200000  \n",
       "max         9.000000       9.000000      40.200000      46.700000  "
      ]
     },
     "execution_count": 6,
     "metadata": {},
     "output_type": "execute_result"
    }
   ],
   "source": [
    "# Check df quick stats\n",
    "df.describe()"
   ]
  },
  {
   "cell_type": "code",
   "execution_count": 7,
   "id": "4bf3009c",
   "metadata": {},
   "outputs": [
    {
     "data": {
      "text/plain": [
       "Date             0\n",
       "Location         0\n",
       "MinTemp          0\n",
       "MaxTemp          0\n",
       "Rainfall         0\n",
       "Evaporation      0\n",
       "Sunshine         0\n",
       "WindGustDir      0\n",
       "WindGustSpeed    0\n",
       "WindDir9am       0\n",
       "WindDir3pm       0\n",
       "WindSpeed9am     0\n",
       "WindSpeed3pm     0\n",
       "Humidity9am      0\n",
       "Humidity3pm      0\n",
       "Pressure9am      0\n",
       "Pressure3pm      0\n",
       "Cloud9am         0\n",
       "Cloud3pm         0\n",
       "Temp9am          0\n",
       "Temp3pm          0\n",
       "RainToday        0\n",
       "RainTomorrow     0\n",
       "dtype: int64"
      ]
     },
     "execution_count": 7,
     "metadata": {},
     "output_type": "execute_result"
    }
   ],
   "source": [
    "# Check df for NA\n",
    "df.isna().sum()"
   ]
  },
  {
   "cell_type": "code",
   "execution_count": 9,
   "id": "2402e6ca",
   "metadata": {},
   "outputs": [
    {
     "data": {
      "text/plain": [
       "Location\n",
       "Canberra            3436\n",
       "Sydney              3344\n",
       "Adelaide            3193\n",
       "Melbourne           3193\n",
       "Perth               3193\n",
       "Hobart              3193\n",
       "Brisbane            3193\n",
       "Darwin              3193\n",
       "Albany              3040\n",
       "Launceston          3040\n",
       "GoldCoast           3040\n",
       "Townsville          3040\n",
       "MountGambier        3040\n",
       "Cairns              3040\n",
       "Bendigo             3040\n",
       "Ballarat            3040\n",
       "Wollongong          3040\n",
       "AliceSprings        3040\n",
       "Albury              3040\n",
       "MountGinini         3040\n",
       "Tuggeranong         3039\n",
       "Penrith             3039\n",
       "Newcastle           3039\n",
       "Moree               3009\n",
       "Sale                3009\n",
       "BadgerysCreek       3009\n",
       "Witchcliffe         3009\n",
       "Williamtown         3009\n",
       "Watsonia            3009\n",
       "WaggaWagga          3009\n",
       "Cobar               3009\n",
       "CoffsHarbour        3009\n",
       "SydneyAirport       3009\n",
       "Dartmoor            3009\n",
       "Mildura             3009\n",
       "Woomera             3009\n",
       "Richmond            3009\n",
       "Portland            3009\n",
       "PerthAirport        3009\n",
       "MelbourneAirport    3009\n",
       "PearceRAAF          3009\n",
       "Nuriootpa           3009\n",
       "NorfolkIsland       3009\n",
       "Walpole             3006\n",
       "NorahHead           3004\n",
       "SalmonGums          3001\n",
       "Katherine           1578\n",
       "Uluru               1578\n",
       "Nhil                1578\n",
       "Name: count, dtype: int64"
      ]
     },
     "execution_count": 9,
     "metadata": {},
     "output_type": "execute_result"
    }
   ],
   "source": [
    "# Find unique location values\n",
    "df['Location'].value_counts()"
   ]
  },
  {
   "cell_type": "code",
   "execution_count": 11,
   "id": "58a8e4c7",
   "metadata": {},
   "outputs": [
    {
     "data": {
      "text/plain": [
       "count       145460\n",
       "unique          49\n",
       "top       Canberra\n",
       "freq          3436\n",
       "Name: Location, dtype: object"
      ]
     },
     "execution_count": 11,
     "metadata": {},
     "output_type": "execute_result"
    }
   ],
   "source": [
    "# Continue looking at location\n",
    "df['Location'].describe()"
   ]
  },
  {
   "cell_type": "markdown",
   "id": "2c0987ad",
   "metadata": {},
   "source": [
    "There are 49 unique locations for this dataset. A bar chart might be pretty confusing... but let's look at one anyway. Maybe for total precip. First we'll need to create a df with total rainfall for each location."
   ]
  },
  {
   "cell_type": "code",
   "execution_count": 12,
   "id": "54b8cb42",
   "metadata": {},
   "outputs": [],
   "source": [
    "# Let's check some data time stuff\n",
    "df['Date'] = pd.to_datetime(df['Date'])"
   ]
  },
  {
   "cell_type": "code",
   "execution_count": 14,
   "id": "96741cc6",
   "metadata": {},
   "outputs": [
    {
     "data": {
      "text/html": [
       "<div>\n",
       "<style scoped>\n",
       "    .dataframe tbody tr th:only-of-type {\n",
       "        vertical-align: middle;\n",
       "    }\n",
       "\n",
       "    .dataframe tbody tr th {\n",
       "        vertical-align: top;\n",
       "    }\n",
       "\n",
       "    .dataframe thead th {\n",
       "        text-align: right;\n",
       "    }\n",
       "</style>\n",
       "<table border=\"1\" class=\"dataframe\">\n",
       "  <thead>\n",
       "    <tr style=\"text-align: right;\">\n",
       "      <th></th>\n",
       "      <th>Location</th>\n",
       "      <th>min</th>\n",
       "      <th>max</th>\n",
       "    </tr>\n",
       "  </thead>\n",
       "  <tbody>\n",
       "    <tr>\n",
       "      <th>0</th>\n",
       "      <td>Adelaide</td>\n",
       "      <td>2008-07-01</td>\n",
       "      <td>2017-06-25</td>\n",
       "    </tr>\n",
       "    <tr>\n",
       "      <th>1</th>\n",
       "      <td>Albany</td>\n",
       "      <td>2008-12-01</td>\n",
       "      <td>2017-06-25</td>\n",
       "    </tr>\n",
       "    <tr>\n",
       "      <th>2</th>\n",
       "      <td>Albury</td>\n",
       "      <td>2008-12-01</td>\n",
       "      <td>2017-06-25</td>\n",
       "    </tr>\n",
       "    <tr>\n",
       "      <th>3</th>\n",
       "      <td>AliceSprings</td>\n",
       "      <td>2008-12-01</td>\n",
       "      <td>2017-06-25</td>\n",
       "    </tr>\n",
       "    <tr>\n",
       "      <th>4</th>\n",
       "      <td>BadgerysCreek</td>\n",
       "      <td>2009-01-01</td>\n",
       "      <td>2017-06-25</td>\n",
       "    </tr>\n",
       "    <tr>\n",
       "      <th>5</th>\n",
       "      <td>Ballarat</td>\n",
       "      <td>2008-12-01</td>\n",
       "      <td>2017-06-25</td>\n",
       "    </tr>\n",
       "    <tr>\n",
       "      <th>6</th>\n",
       "      <td>Bendigo</td>\n",
       "      <td>2008-12-01</td>\n",
       "      <td>2017-06-25</td>\n",
       "    </tr>\n",
       "    <tr>\n",
       "      <th>7</th>\n",
       "      <td>Brisbane</td>\n",
       "      <td>2008-07-01</td>\n",
       "      <td>2017-06-25</td>\n",
       "    </tr>\n",
       "    <tr>\n",
       "      <th>8</th>\n",
       "      <td>Cairns</td>\n",
       "      <td>2008-12-01</td>\n",
       "      <td>2017-06-25</td>\n",
       "    </tr>\n",
       "    <tr>\n",
       "      <th>9</th>\n",
       "      <td>Canberra</td>\n",
       "      <td>2007-11-01</td>\n",
       "      <td>2017-06-25</td>\n",
       "    </tr>\n",
       "    <tr>\n",
       "      <th>10</th>\n",
       "      <td>Cobar</td>\n",
       "      <td>2009-01-01</td>\n",
       "      <td>2017-06-25</td>\n",
       "    </tr>\n",
       "    <tr>\n",
       "      <th>11</th>\n",
       "      <td>CoffsHarbour</td>\n",
       "      <td>2009-01-01</td>\n",
       "      <td>2017-06-25</td>\n",
       "    </tr>\n",
       "    <tr>\n",
       "      <th>12</th>\n",
       "      <td>Dartmoor</td>\n",
       "      <td>2009-01-01</td>\n",
       "      <td>2017-06-25</td>\n",
       "    </tr>\n",
       "    <tr>\n",
       "      <th>13</th>\n",
       "      <td>Darwin</td>\n",
       "      <td>2008-07-01</td>\n",
       "      <td>2017-06-25</td>\n",
       "    </tr>\n",
       "    <tr>\n",
       "      <th>14</th>\n",
       "      <td>GoldCoast</td>\n",
       "      <td>2008-12-01</td>\n",
       "      <td>2017-06-25</td>\n",
       "    </tr>\n",
       "    <tr>\n",
       "      <th>15</th>\n",
       "      <td>Hobart</td>\n",
       "      <td>2008-07-01</td>\n",
       "      <td>2017-06-25</td>\n",
       "    </tr>\n",
       "    <tr>\n",
       "      <th>16</th>\n",
       "      <td>Katherine</td>\n",
       "      <td>2013-03-01</td>\n",
       "      <td>2017-06-25</td>\n",
       "    </tr>\n",
       "    <tr>\n",
       "      <th>17</th>\n",
       "      <td>Launceston</td>\n",
       "      <td>2008-12-01</td>\n",
       "      <td>2017-06-25</td>\n",
       "    </tr>\n",
       "    <tr>\n",
       "      <th>18</th>\n",
       "      <td>Melbourne</td>\n",
       "      <td>2008-07-01</td>\n",
       "      <td>2017-06-25</td>\n",
       "    </tr>\n",
       "    <tr>\n",
       "      <th>19</th>\n",
       "      <td>MelbourneAirport</td>\n",
       "      <td>2009-01-01</td>\n",
       "      <td>2017-06-25</td>\n",
       "    </tr>\n",
       "    <tr>\n",
       "      <th>20</th>\n",
       "      <td>Mildura</td>\n",
       "      <td>2009-01-01</td>\n",
       "      <td>2017-06-25</td>\n",
       "    </tr>\n",
       "    <tr>\n",
       "      <th>21</th>\n",
       "      <td>Moree</td>\n",
       "      <td>2009-01-01</td>\n",
       "      <td>2017-06-25</td>\n",
       "    </tr>\n",
       "    <tr>\n",
       "      <th>22</th>\n",
       "      <td>MountGambier</td>\n",
       "      <td>2008-12-01</td>\n",
       "      <td>2017-06-25</td>\n",
       "    </tr>\n",
       "    <tr>\n",
       "      <th>23</th>\n",
       "      <td>MountGinini</td>\n",
       "      <td>2008-12-01</td>\n",
       "      <td>2017-06-25</td>\n",
       "    </tr>\n",
       "    <tr>\n",
       "      <th>24</th>\n",
       "      <td>Newcastle</td>\n",
       "      <td>2008-12-01</td>\n",
       "      <td>2017-06-24</td>\n",
       "    </tr>\n",
       "    <tr>\n",
       "      <th>25</th>\n",
       "      <td>Nhil</td>\n",
       "      <td>2013-03-01</td>\n",
       "      <td>2017-06-25</td>\n",
       "    </tr>\n",
       "    <tr>\n",
       "      <th>26</th>\n",
       "      <td>NorahHead</td>\n",
       "      <td>2009-01-01</td>\n",
       "      <td>2017-06-25</td>\n",
       "    </tr>\n",
       "    <tr>\n",
       "      <th>27</th>\n",
       "      <td>NorfolkIsland</td>\n",
       "      <td>2009-01-01</td>\n",
       "      <td>2017-06-25</td>\n",
       "    </tr>\n",
       "    <tr>\n",
       "      <th>28</th>\n",
       "      <td>Nuriootpa</td>\n",
       "      <td>2009-01-01</td>\n",
       "      <td>2017-06-25</td>\n",
       "    </tr>\n",
       "    <tr>\n",
       "      <th>29</th>\n",
       "      <td>PearceRAAF</td>\n",
       "      <td>2009-01-01</td>\n",
       "      <td>2017-06-25</td>\n",
       "    </tr>\n",
       "    <tr>\n",
       "      <th>30</th>\n",
       "      <td>Penrith</td>\n",
       "      <td>2008-12-01</td>\n",
       "      <td>2017-06-25</td>\n",
       "    </tr>\n",
       "    <tr>\n",
       "      <th>31</th>\n",
       "      <td>Perth</td>\n",
       "      <td>2008-07-01</td>\n",
       "      <td>2017-06-25</td>\n",
       "    </tr>\n",
       "    <tr>\n",
       "      <th>32</th>\n",
       "      <td>PerthAirport</td>\n",
       "      <td>2009-01-01</td>\n",
       "      <td>2017-06-25</td>\n",
       "    </tr>\n",
       "    <tr>\n",
       "      <th>33</th>\n",
       "      <td>Portland</td>\n",
       "      <td>2009-01-01</td>\n",
       "      <td>2017-06-25</td>\n",
       "    </tr>\n",
       "    <tr>\n",
       "      <th>34</th>\n",
       "      <td>Richmond</td>\n",
       "      <td>2009-01-01</td>\n",
       "      <td>2017-06-25</td>\n",
       "    </tr>\n",
       "    <tr>\n",
       "      <th>35</th>\n",
       "      <td>Sale</td>\n",
       "      <td>2009-01-01</td>\n",
       "      <td>2017-06-25</td>\n",
       "    </tr>\n",
       "    <tr>\n",
       "      <th>36</th>\n",
       "      <td>SalmonGums</td>\n",
       "      <td>2009-01-01</td>\n",
       "      <td>2017-06-25</td>\n",
       "    </tr>\n",
       "    <tr>\n",
       "      <th>37</th>\n",
       "      <td>Sydney</td>\n",
       "      <td>2008-02-01</td>\n",
       "      <td>2017-06-25</td>\n",
       "    </tr>\n",
       "    <tr>\n",
       "      <th>38</th>\n",
       "      <td>SydneyAirport</td>\n",
       "      <td>2009-01-01</td>\n",
       "      <td>2017-06-25</td>\n",
       "    </tr>\n",
       "    <tr>\n",
       "      <th>39</th>\n",
       "      <td>Townsville</td>\n",
       "      <td>2008-12-01</td>\n",
       "      <td>2017-06-25</td>\n",
       "    </tr>\n",
       "    <tr>\n",
       "      <th>40</th>\n",
       "      <td>Tuggeranong</td>\n",
       "      <td>2008-12-01</td>\n",
       "      <td>2017-06-25</td>\n",
       "    </tr>\n",
       "    <tr>\n",
       "      <th>41</th>\n",
       "      <td>Uluru</td>\n",
       "      <td>2013-03-01</td>\n",
       "      <td>2017-06-25</td>\n",
       "    </tr>\n",
       "    <tr>\n",
       "      <th>42</th>\n",
       "      <td>WaggaWagga</td>\n",
       "      <td>2009-01-01</td>\n",
       "      <td>2017-06-25</td>\n",
       "    </tr>\n",
       "    <tr>\n",
       "      <th>43</th>\n",
       "      <td>Walpole</td>\n",
       "      <td>2009-01-01</td>\n",
       "      <td>2017-06-25</td>\n",
       "    </tr>\n",
       "    <tr>\n",
       "      <th>44</th>\n",
       "      <td>Watsonia</td>\n",
       "      <td>2009-01-01</td>\n",
       "      <td>2017-06-25</td>\n",
       "    </tr>\n",
       "    <tr>\n",
       "      <th>45</th>\n",
       "      <td>Williamtown</td>\n",
       "      <td>2009-01-01</td>\n",
       "      <td>2017-06-25</td>\n",
       "    </tr>\n",
       "    <tr>\n",
       "      <th>46</th>\n",
       "      <td>Witchcliffe</td>\n",
       "      <td>2009-01-01</td>\n",
       "      <td>2017-06-25</td>\n",
       "    </tr>\n",
       "    <tr>\n",
       "      <th>47</th>\n",
       "      <td>Wollongong</td>\n",
       "      <td>2008-12-01</td>\n",
       "      <td>2017-06-25</td>\n",
       "    </tr>\n",
       "    <tr>\n",
       "      <th>48</th>\n",
       "      <td>Woomera</td>\n",
       "      <td>2009-01-01</td>\n",
       "      <td>2017-06-25</td>\n",
       "    </tr>\n",
       "  </tbody>\n",
       "</table>\n",
       "</div>"
      ],
      "text/plain": [
       "            Location        min        max\n",
       "0           Adelaide 2008-07-01 2017-06-25\n",
       "1             Albany 2008-12-01 2017-06-25\n",
       "2             Albury 2008-12-01 2017-06-25\n",
       "3       AliceSprings 2008-12-01 2017-06-25\n",
       "4      BadgerysCreek 2009-01-01 2017-06-25\n",
       "5           Ballarat 2008-12-01 2017-06-25\n",
       "6            Bendigo 2008-12-01 2017-06-25\n",
       "7           Brisbane 2008-07-01 2017-06-25\n",
       "8             Cairns 2008-12-01 2017-06-25\n",
       "9           Canberra 2007-11-01 2017-06-25\n",
       "10             Cobar 2009-01-01 2017-06-25\n",
       "11      CoffsHarbour 2009-01-01 2017-06-25\n",
       "12          Dartmoor 2009-01-01 2017-06-25\n",
       "13            Darwin 2008-07-01 2017-06-25\n",
       "14         GoldCoast 2008-12-01 2017-06-25\n",
       "15            Hobart 2008-07-01 2017-06-25\n",
       "16         Katherine 2013-03-01 2017-06-25\n",
       "17        Launceston 2008-12-01 2017-06-25\n",
       "18         Melbourne 2008-07-01 2017-06-25\n",
       "19  MelbourneAirport 2009-01-01 2017-06-25\n",
       "20           Mildura 2009-01-01 2017-06-25\n",
       "21             Moree 2009-01-01 2017-06-25\n",
       "22      MountGambier 2008-12-01 2017-06-25\n",
       "23       MountGinini 2008-12-01 2017-06-25\n",
       "24         Newcastle 2008-12-01 2017-06-24\n",
       "25              Nhil 2013-03-01 2017-06-25\n",
       "26         NorahHead 2009-01-01 2017-06-25\n",
       "27     NorfolkIsland 2009-01-01 2017-06-25\n",
       "28         Nuriootpa 2009-01-01 2017-06-25\n",
       "29        PearceRAAF 2009-01-01 2017-06-25\n",
       "30           Penrith 2008-12-01 2017-06-25\n",
       "31             Perth 2008-07-01 2017-06-25\n",
       "32      PerthAirport 2009-01-01 2017-06-25\n",
       "33          Portland 2009-01-01 2017-06-25\n",
       "34          Richmond 2009-01-01 2017-06-25\n",
       "35              Sale 2009-01-01 2017-06-25\n",
       "36        SalmonGums 2009-01-01 2017-06-25\n",
       "37            Sydney 2008-02-01 2017-06-25\n",
       "38     SydneyAirport 2009-01-01 2017-06-25\n",
       "39        Townsville 2008-12-01 2017-06-25\n",
       "40       Tuggeranong 2008-12-01 2017-06-25\n",
       "41             Uluru 2013-03-01 2017-06-25\n",
       "42        WaggaWagga 2009-01-01 2017-06-25\n",
       "43           Walpole 2009-01-01 2017-06-25\n",
       "44          Watsonia 2009-01-01 2017-06-25\n",
       "45       Williamtown 2009-01-01 2017-06-25\n",
       "46       Witchcliffe 2009-01-01 2017-06-25\n",
       "47        Wollongong 2008-12-01 2017-06-25\n",
       "48           Woomera 2009-01-01 2017-06-25"
      ]
     },
     "execution_count": 14,
     "metadata": {},
     "output_type": "execute_result"
    }
   ],
   "source": [
    "# Group by location and get min/max dates, check to see if dates are roughly in same range\n",
    "date_ranges = df.groupby('Location')['Date'].agg(['min', 'max']).reset_index()\n",
    "date_ranges"
   ]
  },
  {
   "cell_type": "markdown",
   "id": "f3e0a27d",
   "metadata": {},
   "source": [
    "So each location has the same end date, however there's a wide variety of start dates. For our purposes it should be OK, although the bar chart will be a little skewed towards locations with an earlier start date."
   ]
  },
  {
   "cell_type": "code",
   "execution_count": 16,
   "id": "f5e6b084",
   "metadata": {},
   "outputs": [
    {
     "data": {
      "text/html": [
       "<div>\n",
       "<style scoped>\n",
       "    .dataframe tbody tr th:only-of-type {\n",
       "        vertical-align: middle;\n",
       "    }\n",
       "\n",
       "    .dataframe tbody tr th {\n",
       "        vertical-align: top;\n",
       "    }\n",
       "\n",
       "    .dataframe thead th {\n",
       "        text-align: right;\n",
       "    }\n",
       "</style>\n",
       "<table border=\"1\" class=\"dataframe\">\n",
       "  <thead>\n",
       "    <tr style=\"text-align: right;\">\n",
       "      <th></th>\n",
       "      <th>Location</th>\n",
       "      <th>Rainfall</th>\n",
       "    </tr>\n",
       "  </thead>\n",
       "  <tbody>\n",
       "    <tr>\n",
       "      <th>0</th>\n",
       "      <td>Adelaide</td>\n",
       "      <td>5082.32</td>\n",
       "    </tr>\n",
       "    <tr>\n",
       "      <th>1</th>\n",
       "      <td>Albany</td>\n",
       "      <td>6884.44</td>\n",
       "    </tr>\n",
       "    <tr>\n",
       "      <th>2</th>\n",
       "      <td>Albury</td>\n",
       "      <td>5831.84</td>\n",
       "    </tr>\n",
       "    <tr>\n",
       "      <th>3</th>\n",
       "      <td>AliceSprings</td>\n",
       "      <td>2695.68</td>\n",
       "    </tr>\n",
       "    <tr>\n",
       "      <th>4</th>\n",
       "      <td>BadgerysCreek</td>\n",
       "      <td>6612.56</td>\n",
       "    </tr>\n",
       "    <tr>\n",
       "      <th>5</th>\n",
       "      <td>Ballarat</td>\n",
       "      <td>5297.12</td>\n",
       "    </tr>\n",
       "    <tr>\n",
       "      <th>6</th>\n",
       "      <td>Bendigo</td>\n",
       "      <td>4927.36</td>\n",
       "    </tr>\n",
       "    <tr>\n",
       "      <th>7</th>\n",
       "      <td>Brisbane</td>\n",
       "      <td>10016.52</td>\n",
       "    </tr>\n",
       "    <tr>\n",
       "      <th>8</th>\n",
       "      <td>Cairns</td>\n",
       "      <td>17279.92</td>\n",
       "    </tr>\n",
       "    <tr>\n",
       "      <th>9</th>\n",
       "      <td>Canberra</td>\n",
       "      <td>5995.68</td>\n",
       "    </tr>\n",
       "    <tr>\n",
       "      <th>10</th>\n",
       "      <td>Cobar</td>\n",
       "      <td>3417.96</td>\n",
       "    </tr>\n",
       "    <tr>\n",
       "      <th>11</th>\n",
       "      <td>CoffsHarbour</td>\n",
       "      <td>15078.76</td>\n",
       "    </tr>\n",
       "    <tr>\n",
       "      <th>12</th>\n",
       "      <td>Dartmoor</td>\n",
       "      <td>6473.32</td>\n",
       "    </tr>\n",
       "    <tr>\n",
       "      <th>13</th>\n",
       "      <td>Darwin</td>\n",
       "      <td>16260.20</td>\n",
       "    </tr>\n",
       "    <tr>\n",
       "      <th>14</th>\n",
       "      <td>GoldCoast</td>\n",
       "      <td>11374.40</td>\n",
       "    </tr>\n",
       "    <tr>\n",
       "      <th>15</th>\n",
       "      <td>Hobart</td>\n",
       "      <td>5118.40</td>\n",
       "    </tr>\n",
       "    <tr>\n",
       "      <th>16</th>\n",
       "      <td>Katherine</td>\n",
       "      <td>5036.18</td>\n",
       "    </tr>\n",
       "    <tr>\n",
       "      <th>17</th>\n",
       "      <td>Launceston</td>\n",
       "      <td>6120.62</td>\n",
       "    </tr>\n",
       "    <tr>\n",
       "      <th>18</th>\n",
       "      <td>Melbourne</td>\n",
       "      <td>6342.48</td>\n",
       "    </tr>\n",
       "    <tr>\n",
       "      <th>19</th>\n",
       "      <td>MelbourneAirport</td>\n",
       "      <td>4369.00</td>\n",
       "    </tr>\n",
       "    <tr>\n",
       "      <th>20</th>\n",
       "      <td>Mildura</td>\n",
       "      <td>2846.52</td>\n",
       "    </tr>\n",
       "    <tr>\n",
       "      <th>21</th>\n",
       "      <td>Moree</td>\n",
       "      <td>5018.40</td>\n",
       "    </tr>\n",
       "    <tr>\n",
       "      <th>22</th>\n",
       "      <td>MountGambier</td>\n",
       "      <td>6348.64</td>\n",
       "    </tr>\n",
       "    <tr>\n",
       "      <th>23</th>\n",
       "      <td>MountGinini</td>\n",
       "      <td>9884.48</td>\n",
       "    </tr>\n",
       "    <tr>\n",
       "      <th>24</th>\n",
       "      <td>Newcastle</td>\n",
       "      <td>9606.64</td>\n",
       "    </tr>\n",
       "    <tr>\n",
       "      <th>25</th>\n",
       "      <td>Nhil</td>\n",
       "      <td>1488.04</td>\n",
       "    </tr>\n",
       "    <tr>\n",
       "      <th>26</th>\n",
       "      <td>NorahHead</td>\n",
       "      <td>10098.40</td>\n",
       "    </tr>\n",
       "    <tr>\n",
       "      <th>27</th>\n",
       "      <td>NorfolkIsland</td>\n",
       "      <td>9376.60</td>\n",
       "    </tr>\n",
       "    <tr>\n",
       "      <th>28</th>\n",
       "      <td>Nuriootpa</td>\n",
       "      <td>4189.36</td>\n",
       "    </tr>\n",
       "    <tr>\n",
       "      <th>29</th>\n",
       "      <td>PearceRAAF</td>\n",
       "      <td>5192.92</td>\n",
       "    </tr>\n",
       "    <tr>\n",
       "      <th>30</th>\n",
       "      <td>Penrith</td>\n",
       "      <td>6624.60</td>\n",
       "    </tr>\n",
       "    <tr>\n",
       "      <th>31</th>\n",
       "      <td>Perth</td>\n",
       "      <td>6086.80</td>\n",
       "    </tr>\n",
       "    <tr>\n",
       "      <th>32</th>\n",
       "      <td>PerthAirport</td>\n",
       "      <td>5300.80</td>\n",
       "    </tr>\n",
       "    <tr>\n",
       "      <th>33</th>\n",
       "      <td>Portland</td>\n",
       "      <td>7611.68</td>\n",
       "    </tr>\n",
       "    <tr>\n",
       "      <th>34</th>\n",
       "      <td>Richmond</td>\n",
       "      <td>6447.48</td>\n",
       "    </tr>\n",
       "    <tr>\n",
       "      <th>35</th>\n",
       "      <td>Sale</td>\n",
       "      <td>4551.74</td>\n",
       "    </tr>\n",
       "    <tr>\n",
       "      <th>36</th>\n",
       "      <td>SalmonGums</td>\n",
       "      <td>3165.16</td>\n",
       "    </tr>\n",
       "    <tr>\n",
       "      <th>37</th>\n",
       "      <td>Sydney</td>\n",
       "      <td>11110.52</td>\n",
       "    </tr>\n",
       "    <tr>\n",
       "      <th>38</th>\n",
       "      <td>SydneyAirport</td>\n",
       "      <td>9054.24</td>\n",
       "    </tr>\n",
       "    <tr>\n",
       "      <th>39</th>\n",
       "      <td>Townsville</td>\n",
       "      <td>10588.32</td>\n",
       "    </tr>\n",
       "    <tr>\n",
       "      <th>40</th>\n",
       "      <td>Tuggeranong</td>\n",
       "      <td>6584.56</td>\n",
       "    </tr>\n",
       "    <tr>\n",
       "      <th>41</th>\n",
       "      <td>Uluru</td>\n",
       "      <td>1325.96</td>\n",
       "    </tr>\n",
       "    <tr>\n",
       "      <th>42</th>\n",
       "      <td>WaggaWagga</td>\n",
       "      <td>5166.68</td>\n",
       "    </tr>\n",
       "    <tr>\n",
       "      <th>43</th>\n",
       "      <td>Walpole</td>\n",
       "      <td>8635.72</td>\n",
       "    </tr>\n",
       "    <tr>\n",
       "      <th>44</th>\n",
       "      <td>Watsonia</td>\n",
       "      <td>5604.20</td>\n",
       "    </tr>\n",
       "    <tr>\n",
       "      <th>45</th>\n",
       "      <td>Williamtown</td>\n",
       "      <td>10244.26</td>\n",
       "    </tr>\n",
       "    <tr>\n",
       "      <th>46</th>\n",
       "      <td>Witchcliffe</td>\n",
       "      <td>8682.52</td>\n",
       "    </tr>\n",
       "    <tr>\n",
       "      <th>47</th>\n",
       "      <td>Wollongong</td>\n",
       "      <td>10856.88</td>\n",
       "    </tr>\n",
       "    <tr>\n",
       "      <th>48</th>\n",
       "      <td>Woomera</td>\n",
       "      <td>1509.28</td>\n",
       "    </tr>\n",
       "  </tbody>\n",
       "</table>\n",
       "</div>"
      ],
      "text/plain": [
       "            Location  Rainfall\n",
       "0           Adelaide   5082.32\n",
       "1             Albany   6884.44\n",
       "2             Albury   5831.84\n",
       "3       AliceSprings   2695.68\n",
       "4      BadgerysCreek   6612.56\n",
       "5           Ballarat   5297.12\n",
       "6            Bendigo   4927.36\n",
       "7           Brisbane  10016.52\n",
       "8             Cairns  17279.92\n",
       "9           Canberra   5995.68\n",
       "10             Cobar   3417.96\n",
       "11      CoffsHarbour  15078.76\n",
       "12          Dartmoor   6473.32\n",
       "13            Darwin  16260.20\n",
       "14         GoldCoast  11374.40\n",
       "15            Hobart   5118.40\n",
       "16         Katherine   5036.18\n",
       "17        Launceston   6120.62\n",
       "18         Melbourne   6342.48\n",
       "19  MelbourneAirport   4369.00\n",
       "20           Mildura   2846.52\n",
       "21             Moree   5018.40\n",
       "22      MountGambier   6348.64\n",
       "23       MountGinini   9884.48\n",
       "24         Newcastle   9606.64\n",
       "25              Nhil   1488.04\n",
       "26         NorahHead  10098.40\n",
       "27     NorfolkIsland   9376.60\n",
       "28         Nuriootpa   4189.36\n",
       "29        PearceRAAF   5192.92\n",
       "30           Penrith   6624.60\n",
       "31             Perth   6086.80\n",
       "32      PerthAirport   5300.80\n",
       "33          Portland   7611.68\n",
       "34          Richmond   6447.48\n",
       "35              Sale   4551.74\n",
       "36        SalmonGums   3165.16\n",
       "37            Sydney  11110.52\n",
       "38     SydneyAirport   9054.24\n",
       "39        Townsville  10588.32\n",
       "40       Tuggeranong   6584.56\n",
       "41             Uluru   1325.96\n",
       "42        WaggaWagga   5166.68\n",
       "43           Walpole   8635.72\n",
       "44          Watsonia   5604.20\n",
       "45       Williamtown  10244.26\n",
       "46       Witchcliffe   8682.52\n",
       "47        Wollongong  10856.88\n",
       "48           Woomera   1509.28"
      ]
     },
     "execution_count": 16,
     "metadata": {},
     "output_type": "execute_result"
    }
   ],
   "source": [
    "rainfall_sum = df.groupby('Location')['Rainfall'].sum().reset_index()\n",
    "rainfall_sum"
   ]
  },
  {
   "cell_type": "code",
   "execution_count": 18,
   "id": "bdeb73d3",
   "metadata": {},
   "outputs": [
    {
     "data": {
      "application/vnd.plotly.v1+json": {
       "config": {
        "plotlyServerURL": "https://plot.ly"
       },
       "data": [
        {
         "alignmentgroup": "True",
         "hovertemplate": "Location=%{x}<br>Total Rainfall (mm)=%{text}<extra></extra>",
         "legendgroup": "",
         "marker": {
          "color": "#636efa",
          "pattern": {
           "shape": ""
          }
         },
         "name": "",
         "offsetgroup": "",
         "orientation": "v",
         "showlegend": false,
         "text": [
          5082.32,
          6884.44,
          5831.84,
          2695.68,
          6612.56,
          5297.12,
          4927.36,
          10016.52,
          17279.92,
          5995.68,
          3417.96,
          15078.76,
          6473.32,
          16260.2,
          11374.4,
          5118.4,
          5036.18,
          6120.62,
          6342.48,
          4369,
          2846.52,
          5018.4,
          6348.64,
          9884.48,
          9606.64,
          1488.04,
          10098.4,
          9376.6,
          4189.36,
          5192.92,
          6624.6,
          6086.8,
          5300.8,
          7611.68,
          6447.48,
          4551.74,
          3165.16,
          11110.52,
          9054.24,
          10588.32,
          6584.56,
          1325.96,
          5166.68,
          8635.72,
          5604.2,
          10244.26,
          8682.52,
          10856.88,
          1509.28
         ],
         "textposition": "auto",
         "type": "bar",
         "x": [
          "Adelaide",
          "Albany",
          "Albury",
          "AliceSprings",
          "BadgerysCreek",
          "Ballarat",
          "Bendigo",
          "Brisbane",
          "Cairns",
          "Canberra",
          "Cobar",
          "CoffsHarbour",
          "Dartmoor",
          "Darwin",
          "GoldCoast",
          "Hobart",
          "Katherine",
          "Launceston",
          "Melbourne",
          "MelbourneAirport",
          "Mildura",
          "Moree",
          "MountGambier",
          "MountGinini",
          "Newcastle",
          "Nhil",
          "NorahHead",
          "NorfolkIsland",
          "Nuriootpa",
          "PearceRAAF",
          "Penrith",
          "Perth",
          "PerthAirport",
          "Portland",
          "Richmond",
          "Sale",
          "SalmonGums",
          "Sydney",
          "SydneyAirport",
          "Townsville",
          "Tuggeranong",
          "Uluru",
          "WaggaWagga",
          "Walpole",
          "Watsonia",
          "Williamtown",
          "Witchcliffe",
          "Wollongong",
          "Woomera"
         ],
         "xaxis": "x",
         "y": [
          5082.32,
          6884.44,
          5831.84,
          2695.68,
          6612.56,
          5297.12,
          4927.36,
          10016.52,
          17279.92,
          5995.68,
          3417.96,
          15078.76,
          6473.32,
          16260.2,
          11374.4,
          5118.4,
          5036.18,
          6120.62,
          6342.48,
          4369,
          2846.52,
          5018.4,
          6348.64,
          9884.48,
          9606.64,
          1488.04,
          10098.4,
          9376.6,
          4189.36,
          5192.92,
          6624.6,
          6086.8,
          5300.8,
          7611.68,
          6447.48,
          4551.74,
          3165.16,
          11110.52,
          9054.24,
          10588.32,
          6584.56,
          1325.96,
          5166.68,
          8635.72,
          5604.2,
          10244.26,
          8682.52,
          10856.88,
          1509.28
         ],
         "yaxis": "y"
        }
       ],
       "layout": {
        "barmode": "relative",
        "legend": {
         "tracegroupgap": 0
        },
        "template": {
         "data": {
          "bar": [
           {
            "error_x": {
             "color": "#2a3f5f"
            },
            "error_y": {
             "color": "#2a3f5f"
            },
            "marker": {
             "line": {
              "color": "#E5ECF6",
              "width": 0.5
             },
             "pattern": {
              "fillmode": "overlay",
              "size": 10,
              "solidity": 0.2
             }
            },
            "type": "bar"
           }
          ],
          "barpolar": [
           {
            "marker": {
             "line": {
              "color": "#E5ECF6",
              "width": 0.5
             },
             "pattern": {
              "fillmode": "overlay",
              "size": 10,
              "solidity": 0.2
             }
            },
            "type": "barpolar"
           }
          ],
          "carpet": [
           {
            "aaxis": {
             "endlinecolor": "#2a3f5f",
             "gridcolor": "white",
             "linecolor": "white",
             "minorgridcolor": "white",
             "startlinecolor": "#2a3f5f"
            },
            "baxis": {
             "endlinecolor": "#2a3f5f",
             "gridcolor": "white",
             "linecolor": "white",
             "minorgridcolor": "white",
             "startlinecolor": "#2a3f5f"
            },
            "type": "carpet"
           }
          ],
          "choropleth": [
           {
            "colorbar": {
             "outlinewidth": 0,
             "ticks": ""
            },
            "type": "choropleth"
           }
          ],
          "contour": [
           {
            "colorbar": {
             "outlinewidth": 0,
             "ticks": ""
            },
            "colorscale": [
             [
              0,
              "#0d0887"
             ],
             [
              0.1111111111111111,
              "#46039f"
             ],
             [
              0.2222222222222222,
              "#7201a8"
             ],
             [
              0.3333333333333333,
              "#9c179e"
             ],
             [
              0.4444444444444444,
              "#bd3786"
             ],
             [
              0.5555555555555556,
              "#d8576b"
             ],
             [
              0.6666666666666666,
              "#ed7953"
             ],
             [
              0.7777777777777778,
              "#fb9f3a"
             ],
             [
              0.8888888888888888,
              "#fdca26"
             ],
             [
              1,
              "#f0f921"
             ]
            ],
            "type": "contour"
           }
          ],
          "contourcarpet": [
           {
            "colorbar": {
             "outlinewidth": 0,
             "ticks": ""
            },
            "type": "contourcarpet"
           }
          ],
          "heatmap": [
           {
            "colorbar": {
             "outlinewidth": 0,
             "ticks": ""
            },
            "colorscale": [
             [
              0,
              "#0d0887"
             ],
             [
              0.1111111111111111,
              "#46039f"
             ],
             [
              0.2222222222222222,
              "#7201a8"
             ],
             [
              0.3333333333333333,
              "#9c179e"
             ],
             [
              0.4444444444444444,
              "#bd3786"
             ],
             [
              0.5555555555555556,
              "#d8576b"
             ],
             [
              0.6666666666666666,
              "#ed7953"
             ],
             [
              0.7777777777777778,
              "#fb9f3a"
             ],
             [
              0.8888888888888888,
              "#fdca26"
             ],
             [
              1,
              "#f0f921"
             ]
            ],
            "type": "heatmap"
           }
          ],
          "heatmapgl": [
           {
            "colorbar": {
             "outlinewidth": 0,
             "ticks": ""
            },
            "colorscale": [
             [
              0,
              "#0d0887"
             ],
             [
              0.1111111111111111,
              "#46039f"
             ],
             [
              0.2222222222222222,
              "#7201a8"
             ],
             [
              0.3333333333333333,
              "#9c179e"
             ],
             [
              0.4444444444444444,
              "#bd3786"
             ],
             [
              0.5555555555555556,
              "#d8576b"
             ],
             [
              0.6666666666666666,
              "#ed7953"
             ],
             [
              0.7777777777777778,
              "#fb9f3a"
             ],
             [
              0.8888888888888888,
              "#fdca26"
             ],
             [
              1,
              "#f0f921"
             ]
            ],
            "type": "heatmapgl"
           }
          ],
          "histogram": [
           {
            "marker": {
             "pattern": {
              "fillmode": "overlay",
              "size": 10,
              "solidity": 0.2
             }
            },
            "type": "histogram"
           }
          ],
          "histogram2d": [
           {
            "colorbar": {
             "outlinewidth": 0,
             "ticks": ""
            },
            "colorscale": [
             [
              0,
              "#0d0887"
             ],
             [
              0.1111111111111111,
              "#46039f"
             ],
             [
              0.2222222222222222,
              "#7201a8"
             ],
             [
              0.3333333333333333,
              "#9c179e"
             ],
             [
              0.4444444444444444,
              "#bd3786"
             ],
             [
              0.5555555555555556,
              "#d8576b"
             ],
             [
              0.6666666666666666,
              "#ed7953"
             ],
             [
              0.7777777777777778,
              "#fb9f3a"
             ],
             [
              0.8888888888888888,
              "#fdca26"
             ],
             [
              1,
              "#f0f921"
             ]
            ],
            "type": "histogram2d"
           }
          ],
          "histogram2dcontour": [
           {
            "colorbar": {
             "outlinewidth": 0,
             "ticks": ""
            },
            "colorscale": [
             [
              0,
              "#0d0887"
             ],
             [
              0.1111111111111111,
              "#46039f"
             ],
             [
              0.2222222222222222,
              "#7201a8"
             ],
             [
              0.3333333333333333,
              "#9c179e"
             ],
             [
              0.4444444444444444,
              "#bd3786"
             ],
             [
              0.5555555555555556,
              "#d8576b"
             ],
             [
              0.6666666666666666,
              "#ed7953"
             ],
             [
              0.7777777777777778,
              "#fb9f3a"
             ],
             [
              0.8888888888888888,
              "#fdca26"
             ],
             [
              1,
              "#f0f921"
             ]
            ],
            "type": "histogram2dcontour"
           }
          ],
          "mesh3d": [
           {
            "colorbar": {
             "outlinewidth": 0,
             "ticks": ""
            },
            "type": "mesh3d"
           }
          ],
          "parcoords": [
           {
            "line": {
             "colorbar": {
              "outlinewidth": 0,
              "ticks": ""
             }
            },
            "type": "parcoords"
           }
          ],
          "pie": [
           {
            "automargin": true,
            "type": "pie"
           }
          ],
          "scatter": [
           {
            "fillpattern": {
             "fillmode": "overlay",
             "size": 10,
             "solidity": 0.2
            },
            "type": "scatter"
           }
          ],
          "scatter3d": [
           {
            "line": {
             "colorbar": {
              "outlinewidth": 0,
              "ticks": ""
             }
            },
            "marker": {
             "colorbar": {
              "outlinewidth": 0,
              "ticks": ""
             }
            },
            "type": "scatter3d"
           }
          ],
          "scattercarpet": [
           {
            "marker": {
             "colorbar": {
              "outlinewidth": 0,
              "ticks": ""
             }
            },
            "type": "scattercarpet"
           }
          ],
          "scattergeo": [
           {
            "marker": {
             "colorbar": {
              "outlinewidth": 0,
              "ticks": ""
             }
            },
            "type": "scattergeo"
           }
          ],
          "scattergl": [
           {
            "marker": {
             "colorbar": {
              "outlinewidth": 0,
              "ticks": ""
             }
            },
            "type": "scattergl"
           }
          ],
          "scattermapbox": [
           {
            "marker": {
             "colorbar": {
              "outlinewidth": 0,
              "ticks": ""
             }
            },
            "type": "scattermapbox"
           }
          ],
          "scatterpolar": [
           {
            "marker": {
             "colorbar": {
              "outlinewidth": 0,
              "ticks": ""
             }
            },
            "type": "scatterpolar"
           }
          ],
          "scatterpolargl": [
           {
            "marker": {
             "colorbar": {
              "outlinewidth": 0,
              "ticks": ""
             }
            },
            "type": "scatterpolargl"
           }
          ],
          "scatterternary": [
           {
            "marker": {
             "colorbar": {
              "outlinewidth": 0,
              "ticks": ""
             }
            },
            "type": "scatterternary"
           }
          ],
          "surface": [
           {
            "colorbar": {
             "outlinewidth": 0,
             "ticks": ""
            },
            "colorscale": [
             [
              0,
              "#0d0887"
             ],
             [
              0.1111111111111111,
              "#46039f"
             ],
             [
              0.2222222222222222,
              "#7201a8"
             ],
             [
              0.3333333333333333,
              "#9c179e"
             ],
             [
              0.4444444444444444,
              "#bd3786"
             ],
             [
              0.5555555555555556,
              "#d8576b"
             ],
             [
              0.6666666666666666,
              "#ed7953"
             ],
             [
              0.7777777777777778,
              "#fb9f3a"
             ],
             [
              0.8888888888888888,
              "#fdca26"
             ],
             [
              1,
              "#f0f921"
             ]
            ],
            "type": "surface"
           }
          ],
          "table": [
           {
            "cells": {
             "fill": {
              "color": "#EBF0F8"
             },
             "line": {
              "color": "white"
             }
            },
            "header": {
             "fill": {
              "color": "#C8D4E3"
             },
             "line": {
              "color": "white"
             }
            },
            "type": "table"
           }
          ]
         },
         "layout": {
          "annotationdefaults": {
           "arrowcolor": "#2a3f5f",
           "arrowhead": 0,
           "arrowwidth": 1
          },
          "autotypenumbers": "strict",
          "coloraxis": {
           "colorbar": {
            "outlinewidth": 0,
            "ticks": ""
           }
          },
          "colorscale": {
           "diverging": [
            [
             0,
             "#8e0152"
            ],
            [
             0.1,
             "#c51b7d"
            ],
            [
             0.2,
             "#de77ae"
            ],
            [
             0.3,
             "#f1b6da"
            ],
            [
             0.4,
             "#fde0ef"
            ],
            [
             0.5,
             "#f7f7f7"
            ],
            [
             0.6,
             "#e6f5d0"
            ],
            [
             0.7,
             "#b8e186"
            ],
            [
             0.8,
             "#7fbc41"
            ],
            [
             0.9,
             "#4d9221"
            ],
            [
             1,
             "#276419"
            ]
           ],
           "sequential": [
            [
             0,
             "#0d0887"
            ],
            [
             0.1111111111111111,
             "#46039f"
            ],
            [
             0.2222222222222222,
             "#7201a8"
            ],
            [
             0.3333333333333333,
             "#9c179e"
            ],
            [
             0.4444444444444444,
             "#bd3786"
            ],
            [
             0.5555555555555556,
             "#d8576b"
            ],
            [
             0.6666666666666666,
             "#ed7953"
            ],
            [
             0.7777777777777778,
             "#fb9f3a"
            ],
            [
             0.8888888888888888,
             "#fdca26"
            ],
            [
             1,
             "#f0f921"
            ]
           ],
           "sequentialminus": [
            [
             0,
             "#0d0887"
            ],
            [
             0.1111111111111111,
             "#46039f"
            ],
            [
             0.2222222222222222,
             "#7201a8"
            ],
            [
             0.3333333333333333,
             "#9c179e"
            ],
            [
             0.4444444444444444,
             "#bd3786"
            ],
            [
             0.5555555555555556,
             "#d8576b"
            ],
            [
             0.6666666666666666,
             "#ed7953"
            ],
            [
             0.7777777777777778,
             "#fb9f3a"
            ],
            [
             0.8888888888888888,
             "#fdca26"
            ],
            [
             1,
             "#f0f921"
            ]
           ]
          },
          "colorway": [
           "#636efa",
           "#EF553B",
           "#00cc96",
           "#ab63fa",
           "#FFA15A",
           "#19d3f3",
           "#FF6692",
           "#B6E880",
           "#FF97FF",
           "#FECB52"
          ],
          "font": {
           "color": "#2a3f5f"
          },
          "geo": {
           "bgcolor": "white",
           "lakecolor": "white",
           "landcolor": "#E5ECF6",
           "showlakes": true,
           "showland": true,
           "subunitcolor": "white"
          },
          "hoverlabel": {
           "align": "left"
          },
          "hovermode": "closest",
          "mapbox": {
           "style": "light"
          },
          "paper_bgcolor": "white",
          "plot_bgcolor": "#E5ECF6",
          "polar": {
           "angularaxis": {
            "gridcolor": "white",
            "linecolor": "white",
            "ticks": ""
           },
           "bgcolor": "#E5ECF6",
           "radialaxis": {
            "gridcolor": "white",
            "linecolor": "white",
            "ticks": ""
           }
          },
          "scene": {
           "xaxis": {
            "backgroundcolor": "#E5ECF6",
            "gridcolor": "white",
            "gridwidth": 2,
            "linecolor": "white",
            "showbackground": true,
            "ticks": "",
            "zerolinecolor": "white"
           },
           "yaxis": {
            "backgroundcolor": "#E5ECF6",
            "gridcolor": "white",
            "gridwidth": 2,
            "linecolor": "white",
            "showbackground": true,
            "ticks": "",
            "zerolinecolor": "white"
           },
           "zaxis": {
            "backgroundcolor": "#E5ECF6",
            "gridcolor": "white",
            "gridwidth": 2,
            "linecolor": "white",
            "showbackground": true,
            "ticks": "",
            "zerolinecolor": "white"
           }
          },
          "shapedefaults": {
           "line": {
            "color": "#2a3f5f"
           }
          },
          "ternary": {
           "aaxis": {
            "gridcolor": "white",
            "linecolor": "white",
            "ticks": ""
           },
           "baxis": {
            "gridcolor": "white",
            "linecolor": "white",
            "ticks": ""
           },
           "bgcolor": "#E5ECF6",
           "caxis": {
            "gridcolor": "white",
            "linecolor": "white",
            "ticks": ""
           }
          },
          "title": {
           "x": 0.05
          },
          "xaxis": {
           "automargin": true,
           "gridcolor": "white",
           "linecolor": "white",
           "ticks": "",
           "title": {
            "standoff": 15
           },
           "zerolinecolor": "white",
           "zerolinewidth": 2
          },
          "yaxis": {
           "automargin": true,
           "gridcolor": "white",
           "linecolor": "white",
           "ticks": "",
           "title": {
            "standoff": 15
           },
           "zerolinecolor": "white",
           "zerolinewidth": 2
          }
         }
        },
        "title": {
         "text": "Total Rainfall by Location"
        },
        "xaxis": {
         "anchor": "y",
         "domain": [
          0,
          1
         ],
         "title": {
          "text": "Location"
         }
        },
        "yaxis": {
         "anchor": "x",
         "domain": [
          0,
          1
         ],
         "title": {
          "text": "Total Rainfall (mm)"
         }
        }
       }
      }
     },
     "metadata": {},
     "output_type": "display_data"
    }
   ],
   "source": [
    "# Plot with plotly express\n",
    "\n",
    "fig = px.bar(\n",
    "    rainfall_sum,\n",
    "    x=\"Location\",\n",
    "    y=\"Rainfall\",\n",
    "    title=\"Total Rainfall by Location\",\n",
    "    labels={'Rainfall': 'Total Rainfall (mm)'},\n",
    "    text='Rainfall'\n",
    ")\n",
    "fig.show()"
   ]
  },
  {
   "cell_type": "code",
   "execution_count": null,
   "id": "feb1cb7d",
   "metadata": {},
   "outputs": [],
   "source": [
    "# Let's try doing it just by the year 2010, first get only 2010 data\n",
    "df_2010 = df[df['Date'].dt.year == 2010]"
   ]
  },
  {
   "cell_type": "code",
   "execution_count": 20,
   "id": "493deebe",
   "metadata": {},
   "outputs": [
    {
     "data": {
      "text/html": [
       "<div>\n",
       "<style scoped>\n",
       "    .dataframe tbody tr th:only-of-type {\n",
       "        vertical-align: middle;\n",
       "    }\n",
       "\n",
       "    .dataframe tbody tr th {\n",
       "        vertical-align: top;\n",
       "    }\n",
       "\n",
       "    .dataframe thead th {\n",
       "        text-align: right;\n",
       "    }\n",
       "</style>\n",
       "<table border=\"1\" class=\"dataframe\">\n",
       "  <thead>\n",
       "    <tr style=\"text-align: right;\">\n",
       "      <th></th>\n",
       "      <th>Location</th>\n",
       "      <th>Rainfall</th>\n",
       "    </tr>\n",
       "  </thead>\n",
       "  <tbody>\n",
       "    <tr>\n",
       "      <th>0</th>\n",
       "      <td>Adelaide</td>\n",
       "      <td>606.76</td>\n",
       "    </tr>\n",
       "    <tr>\n",
       "      <th>1</th>\n",
       "      <td>Albany</td>\n",
       "      <td>742.20</td>\n",
       "    </tr>\n",
       "    <tr>\n",
       "      <th>2</th>\n",
       "      <td>Albury</td>\n",
       "      <td>932.92</td>\n",
       "    </tr>\n",
       "    <tr>\n",
       "      <th>3</th>\n",
       "      <td>AliceSprings</td>\n",
       "      <td>769.60</td>\n",
       "    </tr>\n",
       "    <tr>\n",
       "      <th>4</th>\n",
       "      <td>BadgerysCreek</td>\n",
       "      <td>904.72</td>\n",
       "    </tr>\n",
       "    <tr>\n",
       "      <th>5</th>\n",
       "      <td>Ballarat</td>\n",
       "      <td>881.96</td>\n",
       "    </tr>\n",
       "    <tr>\n",
       "      <th>6</th>\n",
       "      <td>Bendigo</td>\n",
       "      <td>1060.40</td>\n",
       "    </tr>\n",
       "    <tr>\n",
       "      <th>7</th>\n",
       "      <td>Brisbane</td>\n",
       "      <td>1668.04</td>\n",
       "    </tr>\n",
       "    <tr>\n",
       "      <th>8</th>\n",
       "      <td>Cairns</td>\n",
       "      <td>2659.80</td>\n",
       "    </tr>\n",
       "    <tr>\n",
       "      <th>9</th>\n",
       "      <td>Canberra</td>\n",
       "      <td>959.80</td>\n",
       "    </tr>\n",
       "    <tr>\n",
       "      <th>10</th>\n",
       "      <td>Cobar</td>\n",
       "      <td>678.20</td>\n",
       "    </tr>\n",
       "    <tr>\n",
       "      <th>11</th>\n",
       "      <td>CoffsHarbour</td>\n",
       "      <td>1991.40</td>\n",
       "    </tr>\n",
       "    <tr>\n",
       "      <th>12</th>\n",
       "      <td>Dartmoor</td>\n",
       "      <td>830.60</td>\n",
       "    </tr>\n",
       "    <tr>\n",
       "      <th>13</th>\n",
       "      <td>Darwin</td>\n",
       "      <td>2257.20</td>\n",
       "    </tr>\n",
       "    <tr>\n",
       "      <th>14</th>\n",
       "      <td>GoldCoast</td>\n",
       "      <td>2024.16</td>\n",
       "    </tr>\n",
       "    <tr>\n",
       "      <th>15</th>\n",
       "      <td>Hobart</td>\n",
       "      <td>520.60</td>\n",
       "    </tr>\n",
       "    <tr>\n",
       "      <th>16</th>\n",
       "      <td>Launceston</td>\n",
       "      <td>833.90</td>\n",
       "    </tr>\n",
       "    <tr>\n",
       "      <th>17</th>\n",
       "      <td>Melbourne</td>\n",
       "      <td>776.60</td>\n",
       "    </tr>\n",
       "    <tr>\n",
       "      <th>18</th>\n",
       "      <td>MelbourneAirport</td>\n",
       "      <td>727.40</td>\n",
       "    </tr>\n",
       "    <tr>\n",
       "      <th>19</th>\n",
       "      <td>Mildura</td>\n",
       "      <td>591.20</td>\n",
       "    </tr>\n",
       "    <tr>\n",
       "      <th>20</th>\n",
       "      <td>Moree</td>\n",
       "      <td>652.20</td>\n",
       "    </tr>\n",
       "    <tr>\n",
       "      <th>21</th>\n",
       "      <td>MountGambier</td>\n",
       "      <td>811.20</td>\n",
       "    </tr>\n",
       "    <tr>\n",
       "      <th>22</th>\n",
       "      <td>MountGinini</td>\n",
       "      <td>1766.44</td>\n",
       "    </tr>\n",
       "    <tr>\n",
       "      <th>23</th>\n",
       "      <td>Newcastle</td>\n",
       "      <td>1045.66</td>\n",
       "    </tr>\n",
       "    <tr>\n",
       "      <th>24</th>\n",
       "      <td>NorahHead</td>\n",
       "      <td>1195.60</td>\n",
       "    </tr>\n",
       "    <tr>\n",
       "      <th>25</th>\n",
       "      <td>NorfolkIsland</td>\n",
       "      <td>783.30</td>\n",
       "    </tr>\n",
       "    <tr>\n",
       "      <th>26</th>\n",
       "      <td>Nuriootpa</td>\n",
       "      <td>583.30</td>\n",
       "    </tr>\n",
       "    <tr>\n",
       "      <th>27</th>\n",
       "      <td>PearceRAAF</td>\n",
       "      <td>393.40</td>\n",
       "    </tr>\n",
       "    <tr>\n",
       "      <th>28</th>\n",
       "      <td>Penrith</td>\n",
       "      <td>902.32</td>\n",
       "    </tr>\n",
       "    <tr>\n",
       "      <th>29</th>\n",
       "      <td>Perth</td>\n",
       "      <td>503.80</td>\n",
       "    </tr>\n",
       "    <tr>\n",
       "      <th>30</th>\n",
       "      <td>PerthAirport</td>\n",
       "      <td>425.20</td>\n",
       "    </tr>\n",
       "    <tr>\n",
       "      <th>31</th>\n",
       "      <td>Portland</td>\n",
       "      <td>993.96</td>\n",
       "    </tr>\n",
       "    <tr>\n",
       "      <th>32</th>\n",
       "      <td>Richmond</td>\n",
       "      <td>772.00</td>\n",
       "    </tr>\n",
       "    <tr>\n",
       "      <th>33</th>\n",
       "      <td>Sale</td>\n",
       "      <td>520.00</td>\n",
       "    </tr>\n",
       "    <tr>\n",
       "      <th>34</th>\n",
       "      <td>SalmonGums</td>\n",
       "      <td>288.20</td>\n",
       "    </tr>\n",
       "    <tr>\n",
       "      <th>35</th>\n",
       "      <td>Sydney</td>\n",
       "      <td>1160.88</td>\n",
       "    </tr>\n",
       "    <tr>\n",
       "      <th>36</th>\n",
       "      <td>SydneyAirport</td>\n",
       "      <td>1040.20</td>\n",
       "    </tr>\n",
       "    <tr>\n",
       "      <th>37</th>\n",
       "      <td>Townsville</td>\n",
       "      <td>2006.40</td>\n",
       "    </tr>\n",
       "    <tr>\n",
       "      <th>38</th>\n",
       "      <td>Tuggeranong</td>\n",
       "      <td>1174.96</td>\n",
       "    </tr>\n",
       "    <tr>\n",
       "      <th>39</th>\n",
       "      <td>WaggaWagga</td>\n",
       "      <td>1019.20</td>\n",
       "    </tr>\n",
       "    <tr>\n",
       "      <th>40</th>\n",
       "      <td>Walpole</td>\n",
       "      <td>699.96</td>\n",
       "    </tr>\n",
       "    <tr>\n",
       "      <th>41</th>\n",
       "      <td>Watsonia</td>\n",
       "      <td>886.56</td>\n",
       "    </tr>\n",
       "    <tr>\n",
       "      <th>42</th>\n",
       "      <td>Williamtown</td>\n",
       "      <td>985.28</td>\n",
       "    </tr>\n",
       "    <tr>\n",
       "      <th>43</th>\n",
       "      <td>Witchcliffe</td>\n",
       "      <td>868.80</td>\n",
       "    </tr>\n",
       "    <tr>\n",
       "      <th>44</th>\n",
       "      <td>Wollongong</td>\n",
       "      <td>1221.80</td>\n",
       "    </tr>\n",
       "    <tr>\n",
       "      <th>45</th>\n",
       "      <td>Woomera</td>\n",
       "      <td>250.32</td>\n",
       "    </tr>\n",
       "  </tbody>\n",
       "</table>\n",
       "</div>"
      ],
      "text/plain": [
       "            Location  Rainfall\n",
       "0           Adelaide    606.76\n",
       "1             Albany    742.20\n",
       "2             Albury    932.92\n",
       "3       AliceSprings    769.60\n",
       "4      BadgerysCreek    904.72\n",
       "5           Ballarat    881.96\n",
       "6            Bendigo   1060.40\n",
       "7           Brisbane   1668.04\n",
       "8             Cairns   2659.80\n",
       "9           Canberra    959.80\n",
       "10             Cobar    678.20\n",
       "11      CoffsHarbour   1991.40\n",
       "12          Dartmoor    830.60\n",
       "13            Darwin   2257.20\n",
       "14         GoldCoast   2024.16\n",
       "15            Hobart    520.60\n",
       "16        Launceston    833.90\n",
       "17         Melbourne    776.60\n",
       "18  MelbourneAirport    727.40\n",
       "19           Mildura    591.20\n",
       "20             Moree    652.20\n",
       "21      MountGambier    811.20\n",
       "22       MountGinini   1766.44\n",
       "23         Newcastle   1045.66\n",
       "24         NorahHead   1195.60\n",
       "25     NorfolkIsland    783.30\n",
       "26         Nuriootpa    583.30\n",
       "27        PearceRAAF    393.40\n",
       "28           Penrith    902.32\n",
       "29             Perth    503.80\n",
       "30      PerthAirport    425.20\n",
       "31          Portland    993.96\n",
       "32          Richmond    772.00\n",
       "33              Sale    520.00\n",
       "34        SalmonGums    288.20\n",
       "35            Sydney   1160.88\n",
       "36     SydneyAirport   1040.20\n",
       "37        Townsville   2006.40\n",
       "38       Tuggeranong   1174.96\n",
       "39        WaggaWagga   1019.20\n",
       "40           Walpole    699.96\n",
       "41          Watsonia    886.56\n",
       "42       Williamtown    985.28\n",
       "43       Witchcliffe    868.80\n",
       "44        Wollongong   1221.80\n",
       "45           Woomera    250.32"
      ]
     },
     "execution_count": 20,
     "metadata": {},
     "output_type": "execute_result"
    }
   ],
   "source": [
    "# Now groupby location with only 2010 data\n",
    "rainfall_2010 = df_2010.groupby('Location')['Rainfall'].sum().reset_index()\n",
    "rainfall_2010"
   ]
  },
  {
   "cell_type": "code",
   "execution_count": 22,
   "id": "cc41e063",
   "metadata": {},
   "outputs": [
    {
     "data": {
      "application/vnd.plotly.v1+json": {
       "config": {
        "plotlyServerURL": "https://plot.ly"
       },
       "data": [
        {
         "alignmentgroup": "True",
         "hovertemplate": "Location=%{x}<br>Total Rainfall (mm)=%{text}<extra></extra>",
         "legendgroup": "",
         "marker": {
          "color": "#636efa",
          "pattern": {
           "shape": ""
          }
         },
         "name": "",
         "offsetgroup": "",
         "orientation": "v",
         "showlegend": false,
         "text": [
          606.76,
          742.2,
          932.92,
          769.6,
          904.72,
          881.96,
          1060.4,
          1668.04,
          2659.8,
          959.8000000000001,
          678.2,
          1991.4,
          830.6,
          2257.2,
          2024.16,
          520.6,
          833.9,
          776.6,
          727.4,
          591.2,
          652.2,
          811.2,
          1766.44,
          1045.66,
          1195.6,
          783.3,
          583.3,
          393.4,
          902.3199999999999,
          503.8,
          425.2,
          993.96,
          772,
          520,
          288.2,
          1160.88,
          1040.2,
          2006.4,
          1174.96,
          1019.2,
          699.96,
          886.5600000000001,
          985.28,
          868.8000000000001,
          1221.8,
          250.32
         ],
         "textposition": "auto",
         "type": "bar",
         "x": [
          "Adelaide",
          "Albany",
          "Albury",
          "AliceSprings",
          "BadgerysCreek",
          "Ballarat",
          "Bendigo",
          "Brisbane",
          "Cairns",
          "Canberra",
          "Cobar",
          "CoffsHarbour",
          "Dartmoor",
          "Darwin",
          "GoldCoast",
          "Hobart",
          "Launceston",
          "Melbourne",
          "MelbourneAirport",
          "Mildura",
          "Moree",
          "MountGambier",
          "MountGinini",
          "Newcastle",
          "NorahHead",
          "NorfolkIsland",
          "Nuriootpa",
          "PearceRAAF",
          "Penrith",
          "Perth",
          "PerthAirport",
          "Portland",
          "Richmond",
          "Sale",
          "SalmonGums",
          "Sydney",
          "SydneyAirport",
          "Townsville",
          "Tuggeranong",
          "WaggaWagga",
          "Walpole",
          "Watsonia",
          "Williamtown",
          "Witchcliffe",
          "Wollongong",
          "Woomera"
         ],
         "xaxis": "x",
         "y": [
          606.76,
          742.2,
          932.92,
          769.6,
          904.72,
          881.96,
          1060.4,
          1668.04,
          2659.8,
          959.8000000000001,
          678.2,
          1991.4,
          830.6,
          2257.2,
          2024.16,
          520.6,
          833.9,
          776.6,
          727.4,
          591.2,
          652.2,
          811.2,
          1766.44,
          1045.66,
          1195.6,
          783.3,
          583.3,
          393.4,
          902.3199999999999,
          503.8,
          425.2,
          993.96,
          772,
          520,
          288.2,
          1160.88,
          1040.2,
          2006.4,
          1174.96,
          1019.2,
          699.96,
          886.5600000000001,
          985.28,
          868.8000000000001,
          1221.8,
          250.32
         ],
         "yaxis": "y"
        }
       ],
       "layout": {
        "barmode": "relative",
        "legend": {
         "tracegroupgap": 0
        },
        "template": {
         "data": {
          "bar": [
           {
            "error_x": {
             "color": "#2a3f5f"
            },
            "error_y": {
             "color": "#2a3f5f"
            },
            "marker": {
             "line": {
              "color": "#E5ECF6",
              "width": 0.5
             },
             "pattern": {
              "fillmode": "overlay",
              "size": 10,
              "solidity": 0.2
             }
            },
            "type": "bar"
           }
          ],
          "barpolar": [
           {
            "marker": {
             "line": {
              "color": "#E5ECF6",
              "width": 0.5
             },
             "pattern": {
              "fillmode": "overlay",
              "size": 10,
              "solidity": 0.2
             }
            },
            "type": "barpolar"
           }
          ],
          "carpet": [
           {
            "aaxis": {
             "endlinecolor": "#2a3f5f",
             "gridcolor": "white",
             "linecolor": "white",
             "minorgridcolor": "white",
             "startlinecolor": "#2a3f5f"
            },
            "baxis": {
             "endlinecolor": "#2a3f5f",
             "gridcolor": "white",
             "linecolor": "white",
             "minorgridcolor": "white",
             "startlinecolor": "#2a3f5f"
            },
            "type": "carpet"
           }
          ],
          "choropleth": [
           {
            "colorbar": {
             "outlinewidth": 0,
             "ticks": ""
            },
            "type": "choropleth"
           }
          ],
          "contour": [
           {
            "colorbar": {
             "outlinewidth": 0,
             "ticks": ""
            },
            "colorscale": [
             [
              0,
              "#0d0887"
             ],
             [
              0.1111111111111111,
              "#46039f"
             ],
             [
              0.2222222222222222,
              "#7201a8"
             ],
             [
              0.3333333333333333,
              "#9c179e"
             ],
             [
              0.4444444444444444,
              "#bd3786"
             ],
             [
              0.5555555555555556,
              "#d8576b"
             ],
             [
              0.6666666666666666,
              "#ed7953"
             ],
             [
              0.7777777777777778,
              "#fb9f3a"
             ],
             [
              0.8888888888888888,
              "#fdca26"
             ],
             [
              1,
              "#f0f921"
             ]
            ],
            "type": "contour"
           }
          ],
          "contourcarpet": [
           {
            "colorbar": {
             "outlinewidth": 0,
             "ticks": ""
            },
            "type": "contourcarpet"
           }
          ],
          "heatmap": [
           {
            "colorbar": {
             "outlinewidth": 0,
             "ticks": ""
            },
            "colorscale": [
             [
              0,
              "#0d0887"
             ],
             [
              0.1111111111111111,
              "#46039f"
             ],
             [
              0.2222222222222222,
              "#7201a8"
             ],
             [
              0.3333333333333333,
              "#9c179e"
             ],
             [
              0.4444444444444444,
              "#bd3786"
             ],
             [
              0.5555555555555556,
              "#d8576b"
             ],
             [
              0.6666666666666666,
              "#ed7953"
             ],
             [
              0.7777777777777778,
              "#fb9f3a"
             ],
             [
              0.8888888888888888,
              "#fdca26"
             ],
             [
              1,
              "#f0f921"
             ]
            ],
            "type": "heatmap"
           }
          ],
          "heatmapgl": [
           {
            "colorbar": {
             "outlinewidth": 0,
             "ticks": ""
            },
            "colorscale": [
             [
              0,
              "#0d0887"
             ],
             [
              0.1111111111111111,
              "#46039f"
             ],
             [
              0.2222222222222222,
              "#7201a8"
             ],
             [
              0.3333333333333333,
              "#9c179e"
             ],
             [
              0.4444444444444444,
              "#bd3786"
             ],
             [
              0.5555555555555556,
              "#d8576b"
             ],
             [
              0.6666666666666666,
              "#ed7953"
             ],
             [
              0.7777777777777778,
              "#fb9f3a"
             ],
             [
              0.8888888888888888,
              "#fdca26"
             ],
             [
              1,
              "#f0f921"
             ]
            ],
            "type": "heatmapgl"
           }
          ],
          "histogram": [
           {
            "marker": {
             "pattern": {
              "fillmode": "overlay",
              "size": 10,
              "solidity": 0.2
             }
            },
            "type": "histogram"
           }
          ],
          "histogram2d": [
           {
            "colorbar": {
             "outlinewidth": 0,
             "ticks": ""
            },
            "colorscale": [
             [
              0,
              "#0d0887"
             ],
             [
              0.1111111111111111,
              "#46039f"
             ],
             [
              0.2222222222222222,
              "#7201a8"
             ],
             [
              0.3333333333333333,
              "#9c179e"
             ],
             [
              0.4444444444444444,
              "#bd3786"
             ],
             [
              0.5555555555555556,
              "#d8576b"
             ],
             [
              0.6666666666666666,
              "#ed7953"
             ],
             [
              0.7777777777777778,
              "#fb9f3a"
             ],
             [
              0.8888888888888888,
              "#fdca26"
             ],
             [
              1,
              "#f0f921"
             ]
            ],
            "type": "histogram2d"
           }
          ],
          "histogram2dcontour": [
           {
            "colorbar": {
             "outlinewidth": 0,
             "ticks": ""
            },
            "colorscale": [
             [
              0,
              "#0d0887"
             ],
             [
              0.1111111111111111,
              "#46039f"
             ],
             [
              0.2222222222222222,
              "#7201a8"
             ],
             [
              0.3333333333333333,
              "#9c179e"
             ],
             [
              0.4444444444444444,
              "#bd3786"
             ],
             [
              0.5555555555555556,
              "#d8576b"
             ],
             [
              0.6666666666666666,
              "#ed7953"
             ],
             [
              0.7777777777777778,
              "#fb9f3a"
             ],
             [
              0.8888888888888888,
              "#fdca26"
             ],
             [
              1,
              "#f0f921"
             ]
            ],
            "type": "histogram2dcontour"
           }
          ],
          "mesh3d": [
           {
            "colorbar": {
             "outlinewidth": 0,
             "ticks": ""
            },
            "type": "mesh3d"
           }
          ],
          "parcoords": [
           {
            "line": {
             "colorbar": {
              "outlinewidth": 0,
              "ticks": ""
             }
            },
            "type": "parcoords"
           }
          ],
          "pie": [
           {
            "automargin": true,
            "type": "pie"
           }
          ],
          "scatter": [
           {
            "fillpattern": {
             "fillmode": "overlay",
             "size": 10,
             "solidity": 0.2
            },
            "type": "scatter"
           }
          ],
          "scatter3d": [
           {
            "line": {
             "colorbar": {
              "outlinewidth": 0,
              "ticks": ""
             }
            },
            "marker": {
             "colorbar": {
              "outlinewidth": 0,
              "ticks": ""
             }
            },
            "type": "scatter3d"
           }
          ],
          "scattercarpet": [
           {
            "marker": {
             "colorbar": {
              "outlinewidth": 0,
              "ticks": ""
             }
            },
            "type": "scattercarpet"
           }
          ],
          "scattergeo": [
           {
            "marker": {
             "colorbar": {
              "outlinewidth": 0,
              "ticks": ""
             }
            },
            "type": "scattergeo"
           }
          ],
          "scattergl": [
           {
            "marker": {
             "colorbar": {
              "outlinewidth": 0,
              "ticks": ""
             }
            },
            "type": "scattergl"
           }
          ],
          "scattermapbox": [
           {
            "marker": {
             "colorbar": {
              "outlinewidth": 0,
              "ticks": ""
             }
            },
            "type": "scattermapbox"
           }
          ],
          "scatterpolar": [
           {
            "marker": {
             "colorbar": {
              "outlinewidth": 0,
              "ticks": ""
             }
            },
            "type": "scatterpolar"
           }
          ],
          "scatterpolargl": [
           {
            "marker": {
             "colorbar": {
              "outlinewidth": 0,
              "ticks": ""
             }
            },
            "type": "scatterpolargl"
           }
          ],
          "scatterternary": [
           {
            "marker": {
             "colorbar": {
              "outlinewidth": 0,
              "ticks": ""
             }
            },
            "type": "scatterternary"
           }
          ],
          "surface": [
           {
            "colorbar": {
             "outlinewidth": 0,
             "ticks": ""
            },
            "colorscale": [
             [
              0,
              "#0d0887"
             ],
             [
              0.1111111111111111,
              "#46039f"
             ],
             [
              0.2222222222222222,
              "#7201a8"
             ],
             [
              0.3333333333333333,
              "#9c179e"
             ],
             [
              0.4444444444444444,
              "#bd3786"
             ],
             [
              0.5555555555555556,
              "#d8576b"
             ],
             [
              0.6666666666666666,
              "#ed7953"
             ],
             [
              0.7777777777777778,
              "#fb9f3a"
             ],
             [
              0.8888888888888888,
              "#fdca26"
             ],
             [
              1,
              "#f0f921"
             ]
            ],
            "type": "surface"
           }
          ],
          "table": [
           {
            "cells": {
             "fill": {
              "color": "#EBF0F8"
             },
             "line": {
              "color": "white"
             }
            },
            "header": {
             "fill": {
              "color": "#C8D4E3"
             },
             "line": {
              "color": "white"
             }
            },
            "type": "table"
           }
          ]
         },
         "layout": {
          "annotationdefaults": {
           "arrowcolor": "#2a3f5f",
           "arrowhead": 0,
           "arrowwidth": 1
          },
          "autotypenumbers": "strict",
          "coloraxis": {
           "colorbar": {
            "outlinewidth": 0,
            "ticks": ""
           }
          },
          "colorscale": {
           "diverging": [
            [
             0,
             "#8e0152"
            ],
            [
             0.1,
             "#c51b7d"
            ],
            [
             0.2,
             "#de77ae"
            ],
            [
             0.3,
             "#f1b6da"
            ],
            [
             0.4,
             "#fde0ef"
            ],
            [
             0.5,
             "#f7f7f7"
            ],
            [
             0.6,
             "#e6f5d0"
            ],
            [
             0.7,
             "#b8e186"
            ],
            [
             0.8,
             "#7fbc41"
            ],
            [
             0.9,
             "#4d9221"
            ],
            [
             1,
             "#276419"
            ]
           ],
           "sequential": [
            [
             0,
             "#0d0887"
            ],
            [
             0.1111111111111111,
             "#46039f"
            ],
            [
             0.2222222222222222,
             "#7201a8"
            ],
            [
             0.3333333333333333,
             "#9c179e"
            ],
            [
             0.4444444444444444,
             "#bd3786"
            ],
            [
             0.5555555555555556,
             "#d8576b"
            ],
            [
             0.6666666666666666,
             "#ed7953"
            ],
            [
             0.7777777777777778,
             "#fb9f3a"
            ],
            [
             0.8888888888888888,
             "#fdca26"
            ],
            [
             1,
             "#f0f921"
            ]
           ],
           "sequentialminus": [
            [
             0,
             "#0d0887"
            ],
            [
             0.1111111111111111,
             "#46039f"
            ],
            [
             0.2222222222222222,
             "#7201a8"
            ],
            [
             0.3333333333333333,
             "#9c179e"
            ],
            [
             0.4444444444444444,
             "#bd3786"
            ],
            [
             0.5555555555555556,
             "#d8576b"
            ],
            [
             0.6666666666666666,
             "#ed7953"
            ],
            [
             0.7777777777777778,
             "#fb9f3a"
            ],
            [
             0.8888888888888888,
             "#fdca26"
            ],
            [
             1,
             "#f0f921"
            ]
           ]
          },
          "colorway": [
           "#636efa",
           "#EF553B",
           "#00cc96",
           "#ab63fa",
           "#FFA15A",
           "#19d3f3",
           "#FF6692",
           "#B6E880",
           "#FF97FF",
           "#FECB52"
          ],
          "font": {
           "color": "#2a3f5f"
          },
          "geo": {
           "bgcolor": "white",
           "lakecolor": "white",
           "landcolor": "#E5ECF6",
           "showlakes": true,
           "showland": true,
           "subunitcolor": "white"
          },
          "hoverlabel": {
           "align": "left"
          },
          "hovermode": "closest",
          "mapbox": {
           "style": "light"
          },
          "paper_bgcolor": "white",
          "plot_bgcolor": "#E5ECF6",
          "polar": {
           "angularaxis": {
            "gridcolor": "white",
            "linecolor": "white",
            "ticks": ""
           },
           "bgcolor": "#E5ECF6",
           "radialaxis": {
            "gridcolor": "white",
            "linecolor": "white",
            "ticks": ""
           }
          },
          "scene": {
           "xaxis": {
            "backgroundcolor": "#E5ECF6",
            "gridcolor": "white",
            "gridwidth": 2,
            "linecolor": "white",
            "showbackground": true,
            "ticks": "",
            "zerolinecolor": "white"
           },
           "yaxis": {
            "backgroundcolor": "#E5ECF6",
            "gridcolor": "white",
            "gridwidth": 2,
            "linecolor": "white",
            "showbackground": true,
            "ticks": "",
            "zerolinecolor": "white"
           },
           "zaxis": {
            "backgroundcolor": "#E5ECF6",
            "gridcolor": "white",
            "gridwidth": 2,
            "linecolor": "white",
            "showbackground": true,
            "ticks": "",
            "zerolinecolor": "white"
           }
          },
          "shapedefaults": {
           "line": {
            "color": "#2a3f5f"
           }
          },
          "ternary": {
           "aaxis": {
            "gridcolor": "white",
            "linecolor": "white",
            "ticks": ""
           },
           "baxis": {
            "gridcolor": "white",
            "linecolor": "white",
            "ticks": ""
           },
           "bgcolor": "#E5ECF6",
           "caxis": {
            "gridcolor": "white",
            "linecolor": "white",
            "ticks": ""
           }
          },
          "title": {
           "x": 0.05
          },
          "xaxis": {
           "automargin": true,
           "gridcolor": "white",
           "linecolor": "white",
           "ticks": "",
           "title": {
            "standoff": 15
           },
           "zerolinecolor": "white",
           "zerolinewidth": 2
          },
          "yaxis": {
           "automargin": true,
           "gridcolor": "white",
           "linecolor": "white",
           "ticks": "",
           "title": {
            "standoff": 15
           },
           "zerolinecolor": "white",
           "zerolinewidth": 2
          }
         }
        },
        "title": {
         "text": "Total Rainfall by Location"
        },
        "xaxis": {
         "anchor": "y",
         "domain": [
          0,
          1
         ],
         "title": {
          "text": "Location"
         }
        },
        "yaxis": {
         "anchor": "x",
         "domain": [
          0,
          1
         ],
         "title": {
          "text": "Total Rainfall (mm)"
         }
        }
       }
      }
     },
     "metadata": {},
     "output_type": "display_data"
    }
   ],
   "source": [
    "# Plot with plotly express\n",
    "\n",
    "fig2 = px.bar(\n",
    "    rainfall_2010,\n",
    "    x=\"Location\",\n",
    "    y=\"Rainfall\",\n",
    "    title=\"Total Rainfall by Location\",\n",
    "    labels={'Rainfall': 'Total Rainfall (mm)'},\n",
    "    text='Rainfall'\n",
    ")\n",
    "fig2.show()"
   ]
  },
  {
   "cell_type": "code",
   "execution_count": null,
   "id": "7c2ee0ce",
   "metadata": {},
   "outputs": [],
   "source": []
  }
 ],
 "metadata": {
  "kernelspec": {
   "display_name": "dev",
   "language": "python",
   "name": "python3"
  },
  "language_info": {
   "codemirror_mode": {
    "name": "ipython",
    "version": 3
   },
   "file_extension": ".py",
   "mimetype": "text/x-python",
   "name": "python",
   "nbconvert_exporter": "python",
   "pygments_lexer": "ipython3",
   "version": "3.10.14"
  }
 },
 "nbformat": 4,
 "nbformat_minor": 5
}
